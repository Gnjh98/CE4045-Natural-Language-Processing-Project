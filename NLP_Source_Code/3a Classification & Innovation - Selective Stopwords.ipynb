{
 "cells": [
  {
   "cell_type": "markdown",
   "metadata": {
    "id": "8o_BLrwT77s3"
   },
   "source": [
    "# Classification"
   ]
  },
  {
   "cell_type": "markdown",
   "metadata": {
    "id": "ruL7TkGZTJXs"
   },
   "source": [
    "### Import Packages"
   ]
  },
  {
   "cell_type": "code",
   "execution_count": 1,
   "metadata": {
    "colab": {
     "base_uri": "https://localhost:8080/"
    },
    "id": "ncAdzwABo0DW",
    "outputId": "4b4d4c19-855d-47a3-9fcd-36aa1c4de49e"
   },
   "outputs": [
    {
     "name": "stdout",
     "output_type": "stream",
     "text": [
      "Requirement already satisfied: bayesian-optimization in c:\\users\\xiaoy\\anaconda3\\lib\\site-packages (1.3.1)\n",
      "Requirement already satisfied: scikit-learn>=0.18.0 in c:\\users\\xiaoy\\anaconda3\\lib\\site-packages (from bayesian-optimization) (0.24.2)\n",
      "Requirement already satisfied: scipy>=1.0.0 in c:\\users\\xiaoy\\anaconda3\\lib\\site-packages (from bayesian-optimization) (1.7.1)\n",
      "Requirement already satisfied: numpy>=1.9.0 in c:\\users\\xiaoy\\anaconda3\\lib\\site-packages (from bayesian-optimization) (1.22.4)\n",
      "Requirement already satisfied: joblib>=0.11 in c:\\users\\xiaoy\\anaconda3\\lib\\site-packages (from scikit-learn>=0.18.0->bayesian-optimization) (1.1.0)\n",
      "Requirement already satisfied: threadpoolctl>=2.0.0 in c:\\users\\xiaoy\\anaconda3\\lib\\site-packages (from scikit-learn>=0.18.0->bayesian-optimization) (2.2.0)\n"
     ]
    },
    {
     "name": "stderr",
     "output_type": "stream",
     "text": [
      "[nltk_data] Downloading package punkt to\n",
      "[nltk_data]     C:\\Users\\xiaoy\\AppData\\Roaming\\nltk_data...\n",
      "[nltk_data]   Package punkt is already up-to-date!\n",
      "[nltk_data] Downloading package stopwords to\n",
      "[nltk_data]     C:\\Users\\xiaoy\\AppData\\Roaming\\nltk_data...\n",
      "[nltk_data]   Package stopwords is already up-to-date!\n",
      "[nltk_data] Downloading package wordnet to\n",
      "[nltk_data]     C:\\Users\\xiaoy\\AppData\\Roaming\\nltk_data...\n",
      "[nltk_data]   Package wordnet is already up-to-date!\n",
      "[nltk_data] Downloading package omw-1.4 to\n",
      "[nltk_data]     C:\\Users\\xiaoy\\AppData\\Roaming\\nltk_data...\n",
      "[nltk_data]   Package omw-1.4 is already up-to-date!\n"
     ]
    }
   ],
   "source": [
    "!pip install bayesian-optimization\n",
    "\n",
    "import pandas as pd\n",
    "import matplotlib.pyplot as plt\n",
    "import seaborn as sns\n",
    "import numpy as np\n",
    "import pickle\n",
    "import itertools\n",
    "import gensim\n",
    "\n",
    "import nltk\n",
    "from nltk.tokenize import word_tokenize  \n",
    "from nltk.corpus import stopwords\n",
    "from nltk.stem import WordNetLemmatizer\n",
    "from nltk.stem.snowball import SnowballStemmer\n",
    "from nltk.stem.porter import *\n",
    "\n",
    "from sklearn.model_selection import train_test_split\n",
    "from sklearn.utils import shuffle\n",
    "from sklearn.metrics import accuracy_score\n",
    "from sklearn.metrics import f1_score\n",
    "from sklearn.metrics import classification_report, confusion_matrix\n",
    "from sklearn.feature_extraction.text import CountVectorizer, TfidfVectorizer\n",
    "from sklearn.neighbors import KNeighborsClassifier\n",
    "from sklearn.tree import DecisionTreeClassifier\n",
    "from sklearn.linear_model import LogisticRegression\n",
    "from sklearn.ensemble import ExtraTreesClassifier\n",
    "from sklearn.svm import SVC  \n",
    "from sklearn.model_selection import GridSearchCV\n",
    "from sklearn.naive_bayes import MultinomialNB\n",
    "from sklearn.ensemble import RandomForestClassifier\n",
    "from sklearn.preprocessing import LabelEncoder\n",
    "\n",
    "from bayes_opt import BayesianOptimization\n",
    "from tqdm import tqdm\n",
    "tqdm.pandas(desc=\"progress-bar\") \n",
    "from gensim.models.doc2vec import TaggedDocument\n",
    "\n",
    "from xgboost import XGBClassifier\n",
    "\n",
    "p_stemmer = PorterStemmer() # initialize PorterStemmer\n",
    "\n",
    "# Set seed for RNG\n",
    "SEED = 12\n",
    "\n",
    "nltk.download('punkt')\n",
    "nltk.download('stopwords')\n",
    "nltk.download('wordnet')\n",
    "nltk.download('omw-1.4')\n",
    "\n",
    "import warnings\n",
    "warnings.filterwarnings('ignore')"
   ]
  },
  {
   "cell_type": "markdown",
   "metadata": {
    "id": "kgITriED7sSy"
   },
   "source": [
    "### Fetching from Github\n",
    "\n",
    "After further manual data-preprocessing, raw dataset is uploaded to Github and retrieved via url link."
   ]
  },
  {
   "cell_type": "code",
   "execution_count": 2,
   "metadata": {
    "id": "c69LbwnOtz6J"
   },
   "outputs": [],
   "source": [
    "# Retrieve dataset via url link\n",
    "# Github Repo: https://github.com/X-Yang98/CE4045-NLP\n",
    "overall_url = \"https://raw.githubusercontent.com/xiao-yangg/CE4045-NLP/main/combined_dataset.csv\"\n",
    "\n",
    "overall_df = pd.read_csv(overall_url, encoding='latin') # train and test dataset"
   ]
  },
  {
   "cell_type": "code",
   "execution_count": 3,
   "metadata": {
    "id": "x7P3F6-TU3U7"
   },
   "outputs": [],
   "source": [
    "# Sanity check for any duplicates\n",
    "overall_df.drop_duplicates(['tweet'], inplace=True)\n",
    "\n",
    "# Add index column for identification\n",
    "overall_df['index'] = list(overall_df.index)"
   ]
  },
  {
   "cell_type": "markdown",
   "metadata": {
    "id": "xvylDaR0YDqH"
   },
   "source": [
    "Inter-annotator agreement for evaluation dataset."
   ]
  },
  {
   "cell_type": "code",
   "execution_count": 4,
   "metadata": {
    "colab": {
     "base_uri": "https://localhost:8080/"
    },
    "id": "d90vdyhHYJIH",
    "outputId": "97d8e818-65a0-4a4e-e7f2-f0cab3cad9f8"
   },
   "outputs": [
    {
     "name": "stdout",
     "output_type": "stream",
     "text": [
      "Inter-annotator agreement is 89.29166666666667%.\n"
     ]
    }
   ],
   "source": [
    "no_disagreements = len(overall_df[((overall_df['label_1'] != overall_df['label_2']) | \n",
    "                                (overall_df['label_2'] != overall_df['label_3']) |\n",
    "                                (overall_df['label_3'] != overall_df['label_1'])\n",
    "                               )])\n",
    "\n",
    "print(\"Inter-annotator agreement is {}%.\".format((len(overall_df) - no_disagreements)/len(overall_df)*100))"
   ]
  },
  {
   "cell_type": "markdown",
   "metadata": {
    "id": "KWGcR2UESt0y"
   },
   "source": [
    "General function to display sentiment and sentence length distribution."
   ]
  },
  {
   "cell_type": "code",
   "execution_count": 5,
   "metadata": {
    "id": "mwu-kFtpU7kv"
   },
   "outputs": [],
   "source": [
    "def show_distribution(label, tweets, name):\n",
    "    plt.figure(figsize=(18,6))\n",
    "\n",
    "    # Bar graph visualisation of sentiment distribution\n",
    "    plt.subplot(1,2,1)\n",
    "    sns.countplot(x=label)\n",
    "    plt.xlabel(\"Sentiment\")\n",
    "    plt.ylabel(\"Count\")\n",
    "    plt.title(\"Sentiments Distribution in \" + name + \" Dataset\")\n",
    "\n",
    "    # Bar graph visualisation of sentence length distribution\n",
    "    plt.subplot(1,2,2)\n",
    "    sns.histplot([len(s) for s in tweets], bins=100)\n",
    "    plt.xlabel(\"Sentence Length\")\n",
    "    plt.ylabel(\"Count\")\n",
    "    plt.title(\"Sentence Length Distribution in \" + name + \" Dataset\")"
   ]
  },
  {
   "cell_type": "code",
   "execution_count": 6,
   "metadata": {
    "colab": {
     "base_uri": "https://localhost:8080/",
     "height": 404
    },
    "id": "UFunldUfS6OD",
    "outputId": "c36bddb3-d948-4578-9e9d-a7c2db80145e"
   },
   "outputs": [
    {
     "data": {
      "image/png": "[encoded data removed]",
      "text/plain": [
       "<Figure size 1296x432 with 2 Axes>"
      ]
     },
     "metadata": {
      "needs_background": "light"
     },
     "output_type": "display_data"
    }
   ],
   "source": [
    "show_distribution(overall_df['final_label'], overall_df['tweet'], \"Overall\")"
   ]
  },
  {
   "cell_type": "markdown",
   "metadata": {
    "id": "8gwaPUeOOGsS"
   },
   "source": [
    "### Text Normalization\n"
   ]
  },
  {
   "cell_type": "code",
   "execution_count": 7,
   "metadata": {
    "id": "el2VL6_-Ppfm"
   },
   "outputs": [],
   "source": [
    "# Tokenization\n",
    "def tokenize(text):\n",
    "    return word_tokenize(text)\n",
    "\n",
    "# Removal of Stopwords\n",
    "def remove_stopword(text, length):\n",
    "    nltk_tokenList = tokenize(text) # tokenize\n",
    "\n",
    "    filtered_sentence = [] # sentence without stopwords\n",
    "    nltk_stop_words = set(stopwords.words(\"english\"))\n",
    "    for w in nltk_tokenList:  \n",
    "        if w not in nltk_stop_words:  \n",
    "            filtered_sentence.append(w)\n",
    "    \n",
    "    if len(filtered_sentence) <= length:\n",
    "        return text\n",
    "    return ' '.join(filtered_sentence) # data tuning --> keep some stopwords\n",
    "\n",
    "# Stemming\n",
    "def stemming(token_list):\n",
    "    stemmed_list = []\n",
    "    for word in token_list:\n",
    "        stemmed_list.append(p_stemmer.stem(word))\n",
    "\n",
    "    return stemmed_list\n",
    "\n",
    "# Lemmatization\n",
    "def lemmatization(stemmed_list):\n",
    "    wordnet_lemmatizer = WordNetLemmatizer()\n",
    "    lemma_list = []\n",
    "    for word in stemmed_list:\n",
    "        lemma_list.append(wordnet_lemmatizer.lemmatize(word))\n",
    "\n",
    "    return lemma_list\n",
    "\n",
    "# Combination of stemming and lemmatization\n",
    "def nltk_process(text):\n",
    "    nltk_tokenList = tokenize(text) # tokenize\n",
    "    nltk_stemmedList = stemming(nltk_tokenList) # stemmed\n",
    "    nltk_lemmaList = lemmatization(nltk_stemmedList) # lemma\n",
    "\n",
    "    return ' '.join(nltk_tokenList)"
   ]
  },
  {
   "cell_type": "markdown",
   "metadata": {
    "id": "bNyMYg6W-Ev8"
   },
   "source": [
    "Apply normalization to dataset."
   ]
  },
  {
   "cell_type": "code",
   "execution_count": 8,
   "metadata": {
    "id": "RXcgykfMPpiZ"
   },
   "outputs": [],
   "source": [
    "# From Section 2, we noticed that for tweet length 8,13,16 have biggest jump in errors\n",
    "# Hence we want to test how many stopwords to keep to retain context without overfitting\n",
    "tweet_length=[8, 13, 16]\n",
    "\n",
    "def normalize_df(df, length=tweet_length):    \n",
    "    for l in length:\n",
    "        df['len' + str(l) + '_tweet'] = df['tweet'].apply(remove_stopword, args = (l,)) # obtain tweet\n",
    "        df['norm' + str(l) + '_tweet'] = df['len' + str(l) + '_tweet'].apply(nltk_process) # tweet go through stemming and lemma\n",
    "\n",
    "    # New dataframe of text normalized tweets\n",
    "    columns_titles = ['norm' + str(l) + '_tweet' for l in tweet_length] + ['final_label', 'index']\n",
    "    return df.reindex(columns=columns_titles)"
   ]
  },
  {
   "cell_type": "code",
   "execution_count": 9,
   "metadata": {
    "id": "yS2Kr3cUV4Ls"
   },
   "outputs": [
    {
     "data": {
      "text/html": [
       "<div>\n",
       "<style scoped>\n",
       "    .dataframe tbody tr th:only-of-type {\n",
       "        vertical-align: middle;\n",
       "    }\n",
       "\n",
       "    .dataframe tbody tr th {\n",
       "        vertical-align: top;\n",
       "    }\n",
       "\n",
       "    .dataframe thead th {\n",
       "        text-align: right;\n",
       "    }\n",
       "</style>\n",
       "<table border=\"1\" class=\"dataframe\">\n",
       "  <thead>\n",
       "    <tr style=\"text-align: right;\">\n",
       "      <th></th>\n",
       "      <th>norm8_tweet</th>\n",
       "      <th>norm13_tweet</th>\n",
       "      <th>norm16_tweet</th>\n",
       "      <th>final_label</th>\n",
       "      <th>index</th>\n",
       "    </tr>\n",
       "  </thead>\n",
       "  <tbody>\n",
       "    <tr>\n",
       "      <th>0</th>\n",
       "      <td>rebuilt from the sound up airpods pro buy now on</td>\n",
       "      <td>rebuilt from the sound up airpods pro buy now on</td>\n",
       "      <td>rebuilt from the sound up airpods pro buy now on</td>\n",
       "      <td>POSITIVE</td>\n",
       "      <td>0</td>\n",
       "    </tr>\n",
       "    <tr>\n",
       "      <th>1</th>\n",
       "      <td>early delivery</td>\n",
       "      <td>early delivery</td>\n",
       "      <td>early delivery</td>\n",
       "      <td>POSITIVE</td>\n",
       "      <td>1</td>\n",
       "    </tr>\n",
       "    <tr>\n",
       "      <th>2</th>\n",
       "      <td>i have to buy applewatch</td>\n",
       "      <td>i have to buy applewatch</td>\n",
       "      <td>i have to buy applewatch</td>\n",
       "      <td>POSITIVE</td>\n",
       "      <td>2</td>\n",
       "    </tr>\n",
       "    <tr>\n",
       "      <th>3</th>\n",
       "      <td>just the right size wearing the orange buying ...</td>\n",
       "      <td>just the right size wearing the orange buying ...</td>\n",
       "      <td>just the right size wearing the orange buying ...</td>\n",
       "      <td>POSITIVE</td>\n",
       "      <td>3</td>\n",
       "    </tr>\n",
       "    <tr>\n",
       "      <th>4</th>\n",
       "      <td>apple stay turning my headphones down every mi...</td>\n",
       "      <td>apple stay turning my headphones down every mi...</td>\n",
       "      <td>apple stay turning my headphones down every mi...</td>\n",
       "      <td>POSITIVE</td>\n",
       "      <td>4</td>\n",
       "    </tr>\n",
       "  </tbody>\n",
       "</table>\n",
       "</div>"
      ],
      "text/plain": [
       "                                         norm8_tweet  \\\n",
       "0   rebuilt from the sound up airpods pro buy now on   \n",
       "1                                     early delivery   \n",
       "2                           i have to buy applewatch   \n",
       "3  just the right size wearing the orange buying ...   \n",
       "4  apple stay turning my headphones down every mi...   \n",
       "\n",
       "                                        norm13_tweet  \\\n",
       "0   rebuilt from the sound up airpods pro buy now on   \n",
       "1                                     early delivery   \n",
       "2                           i have to buy applewatch   \n",
       "3  just the right size wearing the orange buying ...   \n",
       "4  apple stay turning my headphones down every mi...   \n",
       "\n",
       "                                        norm16_tweet final_label  index  \n",
       "0   rebuilt from the sound up airpods pro buy now on    POSITIVE      0  \n",
       "1                                     early delivery    POSITIVE      1  \n",
       "2                           i have to buy applewatch    POSITIVE      2  \n",
       "3  just the right size wearing the orange buying ...    POSITIVE      3  \n",
       "4  apple stay turning my headphones down every mi...    POSITIVE      4  "
      ]
     },
     "execution_count": 9,
     "metadata": {},
     "output_type": "execute_result"
    }
   ],
   "source": [
    "norm_df = normalize_df(overall_df)\n",
    "norm_df.head()"
   ]
  },
  {
   "cell_type": "markdown",
   "metadata": {
    "id": "r_FXdG5GPz5h"
   },
   "source": [
    "### Split into train and test datasets"
   ]
  },
  {
   "cell_type": "code",
   "execution_count": 10,
   "metadata": {
    "id": "HZLcsv5JWRX7"
   },
   "outputs": [],
   "source": [
    "X_train, X_test, y_train, y_test = train_test_split(norm_df[['norm' + str(l) + '_tweet' for l in tweet_length]], # tweet\n",
    "                                                    norm_df[['final_label', 'index']], # label, index\n",
    "                                                    test_size=0.25, # test size 25% \n",
    "                                                    random_state = SEED,\n",
    "                                                    shuffle=True,\n",
    "                                                    stratify=norm_df['final_label']) # ensure even proportion of Positive, Negative, Neutral in test data"
   ]
  },
  {
   "cell_type": "code",
   "execution_count": 11,
   "metadata": {
    "colab": {
     "base_uri": "https://localhost:8080/",
     "height": 404
    },
    "id": "PWzvBiMgVhYs",
    "outputId": "5020527e-c61c-4830-9c27-b51dca07f957"
   },
   "outputs": [
    {
     "data": {
      "image/png": "[encoded data removed]",
      "text/plain": [
       "<Figure size 1296x432 with 2 Axes>"
      ]
     },
     "metadata": {
      "needs_background": "light"
     },
     "output_type": "display_data"
    }
   ],
   "source": [
    "# 8 with stopword - Train\n",
    "show_distribution(y_train['final_label'], X_train['norm8_tweet'], \"Train\")"
   ]
  },
  {
   "cell_type": "code",
   "execution_count": 12,
   "metadata": {},
   "outputs": [
    {
     "data": {
      "image/png": "[encoded data removed]",
      "text/plain": [
       "<Figure size 1296x432 with 2 Axes>"
      ]
     },
     "metadata": {
      "needs_background": "light"
     },
     "output_type": "display_data"
    }
   ],
   "source": [
    "# 13 with stopword - Train\n",
    "show_distribution(y_train['final_label'], X_train['norm13_tweet'], \"Train\")"
   ]
  },
  {
   "cell_type": "code",
   "execution_count": 13,
   "metadata": {},
   "outputs": [
    {
     "data": {
      "image/png": "[encoded data removed]",
      "text/plain": [
       "<Figure size 1296x432 with 2 Axes>"
      ]
     },
     "metadata": {
      "needs_background": "light"
     },
     "output_type": "display_data"
    }
   ],
   "source": [
    "# 16 with stopword - Train\n",
    "show_distribution(y_train['final_label'], X_train['norm16_tweet'], \"Train\")"
   ]
  },
  {
   "cell_type": "code",
   "execution_count": 14,
   "metadata": {
    "colab": {
     "base_uri": "https://localhost:8080/",
     "height": 404
    },
    "id": "yIwbgaNpVhjN",
    "outputId": "ca0b80de-33a5-4121-cb86-b46415df43f2"
   },
   "outputs": [
    {
     "data": {
      "image/png": "[encoded data removed]",
      "text/plain": [
       "<Figure size 1296x432 with 2 Axes>"
      ]
     },
     "metadata": {
      "needs_background": "light"
     },
     "output_type": "display_data"
    }
   ],
   "source": [
    "# 8 with stopword - Test\n",
    "show_distribution(y_test['final_label'], X_test['norm8_tweet'], \"Test\")"
   ]
  },
  {
   "cell_type": "code",
   "execution_count": 15,
   "metadata": {},
   "outputs": [
    {
     "data": {
      "image/png": "[encoded data removed]",
      "text/plain": [
       "<Figure size 1296x432 with 2 Axes>"
      ]
     },
     "metadata": {
      "needs_background": "light"
     },
     "output_type": "display_data"
    }
   ],
   "source": [
    "# 13 with stopword - Test\n",
    "show_distribution(y_test['final_label'], X_test['norm13_tweet'], \"Test\")"
   ]
  },
  {
   "cell_type": "code",
   "execution_count": 16,
   "metadata": {},
   "outputs": [
    {
     "data": {
      "image/png": "[encoded data removed]",
      "text/plain": [
       "<Figure size 1296x432 with 2 Axes>"
      ]
     },
     "metadata": {
      "needs_background": "light"
     },
     "output_type": "display_data"
    }
   ],
   "source": [
    "# 16 with stopword - Test\n",
    "show_distribution(y_test['final_label'], X_test['norm16_tweet'], \"Test\")"
   ]
  },
  {
   "cell_type": "markdown",
   "metadata": {
    "id": "-8zT386BH6WA"
   },
   "source": [
    "### Model Helpers"
   ]
  },
  {
   "cell_type": "markdown",
   "metadata": {
    "id": "zG3iO7-XHEzE"
   },
   "source": [
    "#### Logs\n",
    "\n",
    "Storing results for comparision."
   ]
  },
  {
   "cell_type": "code",
   "execution_count": 17,
   "metadata": {
    "id": "3rf2O6XBHNa1"
   },
   "outputs": [],
   "source": [
    "logs = {\n",
    "        'norm8_tweet': {'models': {}, 'metrics': {}},\n",
    "        'norm13_tweet': {'models': {}, 'metrics': {}},\n",
    "        'norm16_tweet': {'models': {}, 'metrics': {}},\n",
    "       }\n",
    "\n",
    "logs['norm8_tweet']['models']['X_test'] = list(X_test['norm8_tweet'])\n",
    "logs['norm13_tweet']['models']['X_test'] = list(X_test['norm13_tweet'])\n",
    "logs['norm16_tweet']['models']['X_test'] = list(X_test['norm16_tweet'])\n",
    "\n",
    "logs['norm8_tweet']['models']['y_test'] = list(y_test['final_label'])\n",
    "logs['norm13_tweet']['models']['y_test'] = list(y_test['final_label'])\n",
    "logs['norm16_tweet']['models']['y_test'] = list(y_test['final_label'])\n",
    "\n",
    "logs['norm8_tweet']['models']['index'] = list(y_test['index'])\n",
    "logs['norm13_tweet']['models']['index'] = list(y_test['index'])\n",
    "logs['norm16_tweet']['models']['index'] = list(y_test['index'])\n",
    "\n",
    "\n",
    "# Remove index since we already stored\n",
    "y_train = y_train['final_label']\n",
    "y_test = y_test['final_label']"
   ]
  },
  {
   "cell_type": "markdown",
   "metadata": {
    "id": "_0CHCId6rz_f"
   },
   "source": [
    "#### Vectorizers"
   ]
  },
  {
   "cell_type": "markdown",
   "metadata": {
    "id": "T5I5tReGvVEW"
   },
   "source": [
    "TF-IDF Vectorizer"
   ]
  },
  {
   "cell_type": "code",
   "execution_count": 18,
   "metadata": {
    "colab": {
     "base_uri": "https://localhost:8080/"
    },
    "id": "4XGOUGB-o82p",
    "outputId": "29771e0b-0e8c-42b5-bc48-66372fd7035c"
   },
   "outputs": [
    {
     "data": {
      "text/plain": [
       "TfidfVectorizer(max_df=0.7, max_features=2000, min_df=5)"
      ]
     },
     "execution_count": 18,
     "metadata": {},
     "output_type": "execute_result"
    }
   ],
   "source": [
    "tfidf_vec8 = TfidfVectorizer(max_features=2000, min_df=5, max_df=0.7) \n",
    "tfidf_vec13 = TfidfVectorizer(max_features=2000, min_df=5, max_df=0.7)  \n",
    "tfidf_vec16 = TfidfVectorizer(max_features=2000, min_df=5, max_df=0.7)  \n",
    "\n",
    "# Using training data to transform text into counts of features for each tweet\n",
    "tfidf_vec8.fit(X_train['norm8_tweet'])\n",
    "tfidf_vec13.fit(X_train['norm13_tweet'])\n",
    "tfidf_vec16.fit(X_train['norm16_tweet'])"
   ]
  },
  {
   "cell_type": "code",
   "execution_count": 19,
   "metadata": {},
   "outputs": [],
   "source": [
    "labels = ['norm8_tweet', 'norm13_tweet', 'norm16_tweet']"
   ]
  },
  {
   "cell_type": "markdown",
   "metadata": {
    "id": "Fv4RAevqI9fo"
   },
   "source": [
    "#### Plots\n",
    "\n",
    "General function for plotting accuracy and F1 metrics using different data tunings"
   ]
  },
  {
   "cell_type": "code",
   "execution_count": 20,
   "metadata": {
    "id": "Tz7s3CkOJAp7"
   },
   "outputs": [],
   "source": [
    "def plot_line_graph_data_tuning(accuracy, f1s, labels): \n",
    "    colors = ['r', 'g', 'b', 'y']\n",
    "    graph_type = ['_acc', '_f1']\n",
    "\n",
    "    plt.figure(figsize=(12,8))\n",
    "\n",
    "    for i in range(len(labels)):\n",
    "        plt.plot(accuracy[i], marker='', color=colors[i], linewidth=2, linestyle='dashed', label=labels[i]+graph_type[0]) # accuracy line\n",
    "        plt.plot(f1s[i], marker='', color=colors[i], linewidth=2, label=labels[i]+graph_type[1]) # f1 line\n",
    "    plt.legend()\n",
    "    plt.show()"
   ]
  },
  {
   "cell_type": "markdown",
   "metadata": {},
   "source": [
    "General function for showing evaluation metrics."
   ]
  },
  {
   "cell_type": "code",
   "execution_count": 21,
   "metadata": {},
   "outputs": [],
   "source": [
    "def show_metrics(y_test, y_pred):\n",
    "\n",
    "    # Adding classes names for interpretation\n",
    "    classes_names = ['NEGATIVE', 'NEUTRAL', 'POSITIVE']\n",
    "    cm = pd.DataFrame(confusion_matrix(y_test, y_pred), \n",
    "                      columns=classes_names, index=classes_names)\n",
    "                      \n",
    "    # Visualize confusion matrix\n",
    "    sns.heatmap(cm, annot=True, fmt='d');\n",
    "\n",
    "    # Print classification report\n",
    "    print(classification_report(y_test, y_pred))"
   ]
  },
  {
   "cell_type": "markdown",
   "metadata": {
    "id": "nUbDblpgNXmC"
   },
   "source": [
    "### Traditional Machine Learning"
   ]
  },
  {
   "cell_type": "code",
   "execution_count": 22,
   "metadata": {},
   "outputs": [],
   "source": [
    "X_train_dtm8 = tfidf_vec8.transform(X_train['norm8_tweet'])\n",
    "X_train_dtm13 = tfidf_vec13.transform(X_train['norm13_tweet'])\n",
    "X_train_dtm16 = tfidf_vec16.transform(X_train['norm16_tweet'])\n",
    "\n",
    "X_test_dtm8 = tfidf_vec8.transform(X_test['norm8_tweet'])\n",
    "X_test_dtm13 = tfidf_vec13.transform(X_test['norm13_tweet'])\n",
    "X_test_dtm16 = tfidf_vec16.transform(X_test['norm16_tweet'])"
   ]
  },
  {
   "cell_type": "markdown",
   "metadata": {
    "id": "nZr5-wvMsbhl"
   },
   "source": [
    "#### K-Nearest Neighbors (KNN)"
   ]
  },
  {
   "cell_type": "code",
   "execution_count": 23,
   "metadata": {},
   "outputs": [
    {
     "name": "stdout",
     "output_type": "stream",
     "text": [
      "Optimal number of neighbors:  84\n",
      "Highest f1 score achieved:  0.5647433044165986\n",
      "Accuracy Score: 57.99999999999999%\n",
      "F1 Score: 56.47433044165986%\n"
     ]
    }
   ],
   "source": [
    "# norm8 tweet\n",
    "knn_accuracy8 = []\n",
    "knn_f1s8 = []\n",
    "\n",
    "for i in range(1, 100):\n",
    "    KNN = KNeighborsClassifier(n_neighbors = i)\n",
    "    KNN.fit(X_train_dtm8, y_train)\n",
    "    y_pred = KNN.predict(X_test_dtm8)\n",
    "\n",
    "    knn_accuracy8.append(accuracy_score(y_test, y_pred))\n",
    "    # Using average='weighted' to calculate a weighted average for the 3 classes \n",
    "    knn_f1s8.append(f1_score(y_test, y_pred, average='weighted'))\n",
    "\n",
    "optimal_neighbors = knn_f1s8.index(max(knn_f1s8)) + 1\n",
    "print(\"Optimal number of neighbors: \", optimal_neighbors)\n",
    "print(\"Highest f1 score achieved: \", max(knn_f1s8))\n",
    "\n",
    "##### Optimal K Value\n",
    "# Accuracy using KNN model\n",
    "KNN = KNeighborsClassifier(n_neighbors = optimal_neighbors)\n",
    "KNN.fit(X_train_dtm8, y_train)\n",
    "y_pred = KNN.predict(X_test_dtm8)\n",
    "\n",
    "acc = accuracy_score(y_test, y_pred) * 100\n",
    "f1 = f1_score(y_test, y_pred, average='weighted') * 100\n",
    "\n",
    "print('Accuracy Score: ', acc, '%', sep='')\n",
    "print('F1 Score: ', f1, '%', sep='')\n",
    "\n",
    "# Store results\n",
    "logs[labels[0]]['models']['knn'] = list(y_pred)\n",
    "logs[labels[0]]['metrics']['knn'] = {'accuracy': acc, 'f1 score': f1}"
   ]
  },
  {
   "cell_type": "code",
   "execution_count": 24,
   "metadata": {},
   "outputs": [
    {
     "name": "stdout",
     "output_type": "stream",
     "text": [
      "Optimal number of neighbors:  96\n",
      "Highest f1 score achieved:  0.5658143014102484\n",
      "Accuracy Score: 58.08333333333333%\n",
      "F1 Score: 56.58143014102484%\n"
     ]
    }
   ],
   "source": [
    "# norm13 tweet\n",
    "knn_accuracy13 = []\n",
    "knn_f1s13 = []\n",
    "\n",
    "for i in range(1, 100):\n",
    "    KNN = KNeighborsClassifier(n_neighbors = i)\n",
    "    KNN.fit(X_train_dtm13, y_train)\n",
    "    y_pred = KNN.predict(X_test_dtm13)\n",
    "\n",
    "    knn_accuracy13.append(accuracy_score(y_test, y_pred))\n",
    "    # Using average='weighted' to calculate a weighted average for the 3 classes \n",
    "    knn_f1s13.append(f1_score(y_test, y_pred, average='weighted'))\n",
    "\n",
    "optimal_neighbors = knn_f1s13.index(max(knn_f1s13)) + 1\n",
    "print(\"Optimal number of neighbors: \", optimal_neighbors)\n",
    "print(\"Highest f1 score achieved: \", max(knn_f1s13))\n",
    "\n",
    "##### Optimal K Value\n",
    "# Accuracy using KNN model\n",
    "KNN = KNeighborsClassifier(n_neighbors = optimal_neighbors)\n",
    "KNN.fit(X_train_dtm13, y_train)\n",
    "y_pred = KNN.predict(X_test_dtm13)\n",
    "\n",
    "acc = accuracy_score(y_test, y_pred) * 100\n",
    "f1 = f1_score(y_test, y_pred, average='weighted') * 100\n",
    "\n",
    "print('Accuracy Score: ', acc, '%', sep='')\n",
    "print('F1 Score: ', f1, '%', sep='')\n",
    "\n",
    "# Store results\n",
    "logs[labels[1]]['models']['knn'] = list(y_pred)\n",
    "logs[labels[1]]['metrics']['knn'] = {'accuracy': acc, 'f1 score': f1}"
   ]
  },
  {
   "cell_type": "code",
   "execution_count": 25,
   "metadata": {},
   "outputs": [
    {
     "name": "stdout",
     "output_type": "stream",
     "text": [
      "Optimal number of neighbors:  89\n",
      "Highest f1 score achieved:  0.5780330375704892\n",
      "Accuracy Score: 59.166666666666664%\n",
      "F1 Score: 57.803303757048916%\n"
     ]
    }
   ],
   "source": [
    "# norm16 tweet\n",
    "knn_accuracy16 = []\n",
    "knn_f1s16 = []\n",
    "\n",
    "for i in range(1, 100):\n",
    "    KNN = KNeighborsClassifier(n_neighbors = i)\n",
    "    KNN.fit(X_train_dtm16, y_train)\n",
    "    y_pred = KNN.predict(X_test_dtm16)\n",
    "\n",
    "    knn_accuracy16.append(accuracy_score(y_test, y_pred))\n",
    "    # Using average='weighted' to calculate a weighted average for the 3 classes \n",
    "    knn_f1s16.append(f1_score(y_test, y_pred, average='weighted'))\n",
    "\n",
    "optimal_neighbors = knn_f1s16.index(max(knn_f1s16)) + 1\n",
    "print(\"Optimal number of neighbors: \", optimal_neighbors)\n",
    "print(\"Highest f1 score achieved: \", max(knn_f1s16))\n",
    "\n",
    "##### Optimal K Value\n",
    "# Accuracy using KNN model\n",
    "KNN = KNeighborsClassifier(n_neighbors = optimal_neighbors)\n",
    "KNN.fit(X_train_dtm16, y_train)\n",
    "y_pred = KNN.predict(X_test_dtm16)\n",
    "\n",
    "acc = accuracy_score(y_test, y_pred) * 100\n",
    "f1 = f1_score(y_test, y_pred, average='weighted') * 100\n",
    "\n",
    "print('Accuracy Score: ', acc, '%', sep='')\n",
    "print('F1 Score: ', f1, '%', sep='')\n",
    "\n",
    "# Store results\n",
    "logs[labels[2]]['models']['knn'] = list(y_pred)\n",
    "logs[labels[2]]['metrics']['knn'] = {'accuracy': acc, 'f1 score': f1}"
   ]
  },
  {
   "cell_type": "code",
   "execution_count": 26,
   "metadata": {},
   "outputs": [
    {
     "data": {
      "image/png": "[encoded data removed]",
      "text/plain": [
       "<Figure size 864x576 with 1 Axes>"
      ]
     },
     "metadata": {
      "needs_background": "light"
     },
     "output_type": "display_data"
    }
   ],
   "source": [
    "plot_line_graph_data_tuning([knn_accuracy8, knn_accuracy13, knn_accuracy16],\n",
    "                            [knn_f1s8, knn_f1s13, knn_f1s16], labels)"
   ]
  },
  {
   "cell_type": "markdown",
   "metadata": {
    "id": "pJw1zVsMdSYD"
   },
   "source": [
    "#### Logistic Regression"
   ]
  },
  {
   "cell_type": "code",
   "execution_count": 27,
   "metadata": {},
   "outputs": [
    {
     "name": "stdout",
     "output_type": "stream",
     "text": [
      "The optimal C for logistic regression model:  3.299194320736583\n",
      "Highest f1 score achieved:  0.6893509377400862\n",
      "Accuracy Score: 69.0%\n",
      "F1 Score: 68.93509377400862%\n"
     ]
    }
   ],
   "source": [
    "# norm8 tweet\n",
    "def opt_log(C):\n",
    "    clf = LogisticRegression(solver = 'saga', multi_class = 'multinomial', C = C, random_state = SEED)\n",
    "    clf.fit(X_train_dtm8, y_train)\n",
    "    y_pred = clf.predict(X_test_dtm8)\n",
    "    return f1_score(y_test, y_pred, average='weighted')\n",
    "\n",
    "f1_8 = []\n",
    "opt_C8 = []\n",
    "\n",
    "params = {\n",
    "    'C' : (0.1, 100)\n",
    "}\n",
    "\n",
    "opt = BayesianOptimization(f = opt_log, pbounds = params, verbose = 0)\n",
    "opt.maximize(init_points = 10, n_iter = 10)\n",
    "\n",
    "f1_8.append(opt.max['target'])\n",
    "opt_C8.append(opt.max['params']['C'])\n",
    "\n",
    "optimal_C = max(opt_C8)\n",
    "print(\"The optimal C for logistic regression model: \", optimal_C)\n",
    "print(\"Highest f1 score achieved: \", max(f1_8))\n",
    "\n",
    "##### Optimal C\n",
    "optimal_log = LogisticRegression(solver = 'saga', C = optimal_C, multi_class = 'multinomial', random_state = SEED)\n",
    "optimal_log.fit(X_train_dtm8, y_train)\n",
    "y_pred = optimal_log.predict(X_test_dtm8)\n",
    "\n",
    "acc = accuracy_score(y_test, y_pred) * 100\n",
    "f1 = f1_score(y_test, y_pred, average='weighted') * 100\n",
    "\n",
    "print('Accuracy Score: ', acc, '%', sep='')\n",
    "print('F1 Score: ', f1, '%', sep='')\n",
    "\n",
    "# uncomment this if planning to run streamlit as this model will be loaded in the UI as a sample\n",
    "# pickle.dump(optimal_log, open(\"/content/logistic_classifier.pkl\", \"wb\"))\n",
    "\n",
    "# Store results\n",
    "logs[labels[0]]['models']['logreg'] = list(y_pred)\n",
    "logs[labels[0]]['metrics']['logreg'] = {'accuracy': acc, 'f1 score': f1}"
   ]
  },
  {
   "cell_type": "code",
   "execution_count": 28,
   "metadata": {
    "id": "qIyPQMQVOLSO"
   },
   "outputs": [
    {
     "name": "stdout",
     "output_type": "stream",
     "text": [
      "The optimal C for logistic regression model:  2.3757550079313994\n",
      "Highest f1 score achieved:  0.6744980710240369\n",
      "Accuracy Score: 67.58333333333333%\n",
      "F1 Score: 67.4498071024037%\n"
     ]
    }
   ],
   "source": [
    "# norm13 tweet\n",
    "def opt_log(C):\n",
    "    clf = LogisticRegression(solver = 'saga', multi_class = 'multinomial', C = C, random_state = SEED)\n",
    "    clf.fit(X_train_dtm13, y_train)\n",
    "    y_pred = clf.predict(X_test_dtm13)\n",
    "    return f1_score(y_test, y_pred, average='weighted')\n",
    "\n",
    "f1_13 = []\n",
    "opt_C13 = []\n",
    "\n",
    "params = {\n",
    "    'C' : (0.1, 100)\n",
    "}\n",
    "\n",
    "opt = BayesianOptimization(f = opt_log, pbounds = params, verbose = 0)\n",
    "opt.maximize(init_points = 10, n_iter = 10)\n",
    "\n",
    "f1_13.append(opt.max['target'])\n",
    "opt_C13.append(opt.max['params']['C'])\n",
    "\n",
    "optimal_C = max(opt_C13)\n",
    "print(\"The optimal C for logistic regression model: \", optimal_C)\n",
    "print(\"Highest f1 score achieved: \", max(f1_13))\n",
    "\n",
    "##### Optimal C\n",
    "optimal_log = LogisticRegression(solver = 'saga', C = optimal_C, multi_class = 'multinomial', random_state = SEED)\n",
    "optimal_log.fit(X_train_dtm13, y_train)\n",
    "y_pred = optimal_log.predict(X_test_dtm13)\n",
    "\n",
    "acc = accuracy_score(y_test, y_pred) * 100\n",
    "f1 = f1_score(y_test, y_pred, average='weighted') * 100\n",
    "\n",
    "print('Accuracy Score: ', acc, '%', sep='')\n",
    "print('F1 Score: ', f1, '%', sep='')\n",
    "\n",
    "# uncomment this if planning to run streamlit as this model will be loaded in the UI as a sample\n",
    "# pickle.dump(optimal_log, open(\"/content/logistic_classifier.pkl\", \"wb\"))\n",
    "\n",
    "# Store results\n",
    "logs[labels[1]]['models']['logreg'] = list(y_pred)\n",
    "logs[labels[1]]['metrics']['logreg'] = {'accuracy': acc, 'f1 score': f1}"
   ]
  },
  {
   "cell_type": "code",
   "execution_count": 29,
   "metadata": {},
   "outputs": [
    {
     "name": "stdout",
     "output_type": "stream",
     "text": [
      "The optimal C for logistic regression model:  1.5539037222633203\n",
      "Highest f1 score achieved:  0.6904809691341074\n",
      "Accuracy Score: 69.16666666666667%\n",
      "F1 Score: 69.04809691341075%\n"
     ]
    }
   ],
   "source": [
    "# norm16 tweet\n",
    "def opt_log(C):\n",
    "    clf = LogisticRegression(solver = 'saga', multi_class = 'multinomial', C = C, random_state = SEED)\n",
    "    clf.fit(X_train_dtm16, y_train)\n",
    "    y_pred = clf.predict(X_test_dtm16)\n",
    "    return f1_score(y_test, y_pred, average='weighted')\n",
    "\n",
    "f1_16 = []\n",
    "opt_C16 = []\n",
    "\n",
    "params = {\n",
    "    'C' : (0.1, 100)\n",
    "}\n",
    "\n",
    "opt = BayesianOptimization(f = opt_log, pbounds = params, verbose = 0)\n",
    "opt.maximize(init_points = 10, n_iter = 10)\n",
    "\n",
    "f1_16.append(opt.max['target'])\n",
    "opt_C16.append(opt.max['params']['C'])\n",
    "\n",
    "optimal_C = max(opt_C16)\n",
    "print(\"The optimal C for logistic regression model: \", optimal_C)\n",
    "print(\"Highest f1 score achieved: \", max(f1_16))\n",
    "\n",
    "##### Optimal C\n",
    "optimal_log = LogisticRegression(solver = 'saga', C = optimal_C, multi_class = 'multinomial', random_state = SEED)\n",
    "optimal_log.fit(X_train_dtm16, y_train)\n",
    "y_pred = optimal_log.predict(X_test_dtm16)\n",
    "\n",
    "acc = accuracy_score(y_test, y_pred) * 100\n",
    "f1 = f1_score(y_test, y_pred, average='weighted') * 100\n",
    "\n",
    "print('Accuracy Score: ', acc, '%', sep='')\n",
    "print('F1 Score: ', f1, '%', sep='')\n",
    "\n",
    "# uncomment this if planning to run streamlit as this model will be loaded in the UI as a sample\n",
    "# pickle.dump(optimal_log, open(\"/content/logistic_classifier.pkl\", \"wb\"))\n",
    "\n",
    "# Store results\n",
    "logs[labels[2]]['models']['logreg'] = list(y_pred)\n",
    "logs[labels[2]]['metrics']['logreg'] = {'accuracy': acc, 'f1 score': f1}"
   ]
  },
  {
   "cell_type": "markdown",
   "metadata": {
    "id": "j4CykSNVIiNC"
   },
   "source": [
    "#### Naive Bayes Classifier"
   ]
  },
  {
   "cell_type": "code",
   "execution_count": 30,
   "metadata": {
    "colab": {
     "base_uri": "https://localhost:8080/"
    },
    "id": "KaPYP9A6IsOS",
    "outputId": "c787ecf0-4ff1-42d0-f38b-043dd7f5b298"
   },
   "outputs": [
    {
     "name": "stdout",
     "output_type": "stream",
     "text": [
      "              precision    recall  f1-score   support\n",
      "\n",
      "    NEGATIVE       0.70      0.65      0.67       386\n",
      "     NEUTRAL       0.66      0.76      0.71       424\n",
      "    POSITIVE       0.66      0.61      0.63       390\n",
      "\n",
      "    accuracy                           0.67      1200\n",
      "   macro avg       0.67      0.67      0.67      1200\n",
      "weighted avg       0.67      0.67      0.67      1200\n",
      "\n",
      "{'alpha': 1}\n",
      "Accuracy Score: 67.25%\n",
      "F1 Score: 67.1040536010416%\n"
     ]
    }
   ],
   "source": [
    "# norm8 tweet\n",
    "#Train using Multinomial Naaive Bayes model\n",
    "model = MultinomialNB()\n",
    "model.fit(X_train_dtm8, y_train)\n",
    "\n",
    "#Model accuracy\n",
    "model.score(X_test_dtm8, y_test)\n",
    "model_predictions = model.predict(X_test_dtm8)\n",
    "print(classification_report(y_test, model_predictions))\n",
    "\n",
    "#Hyperparemeter tuning of alpha\n",
    "param = {'alpha': [0.00001, 0.0001, 0.001, 0.1, 1]}\n",
    "\n",
    "#using gridsearch\n",
    "clf=GridSearchCV(model,param, cv=10, return_train_score=True)\n",
    "\n",
    "#fit model for grid search\n",
    "clf.fit(X_train_dtm8, y_train)\n",
    "\n",
    "#print best alpha\n",
    "print(clf.best_params_)\n",
    "\n",
    "##### Optimal Alpha Value\n",
    "#alpha value = 0.00001\n",
    "y_pred = clf.predict(X_test_dtm8)\n",
    "\n",
    "acc = accuracy_score(y_test, y_pred) * 100\n",
    "f1 = f1_score(y_test, y_pred, average='weighted') * 100\n",
    "\n",
    "print('Accuracy Score: ', acc, '%', sep='')\n",
    "print('F1 Score: ', f1, '%', sep='')\n",
    "\n",
    "# Store results\n",
    "logs[labels[0]]['models']['nb'] = list(y_pred)\n",
    "logs[labels[0]]['metrics']['nb'] = {'accuracy': acc, 'f1 score': f1}"
   ]
  },
  {
   "cell_type": "code",
   "execution_count": 31,
   "metadata": {
    "id": "hTNGQHKpO-Jw"
   },
   "outputs": [
    {
     "name": "stdout",
     "output_type": "stream",
     "text": [
      "              precision    recall  f1-score   support\n",
      "\n",
      "    NEGATIVE       0.68      0.69      0.68       386\n",
      "     NEUTRAL       0.67      0.74      0.70       424\n",
      "    POSITIVE       0.67      0.59      0.63       390\n",
      "\n",
      "    accuracy                           0.68      1200\n",
      "   macro avg       0.68      0.67      0.67      1200\n",
      "weighted avg       0.68      0.68      0.67      1200\n",
      "\n",
      "{'alpha': 1}\n",
      "Accuracy Score: 67.5%\n",
      "F1 Score: 67.35362121155984%\n"
     ]
    }
   ],
   "source": [
    "# norm13 tweet\n",
    "#Train using Multinomial Naaive Bayes model\n",
    "model = MultinomialNB()\n",
    "model.fit(X_train_dtm13, y_train)\n",
    "\n",
    "#Model accuracy\n",
    "model.score(X_test_dtm13, y_test)\n",
    "model_predictions = model.predict(X_test_dtm13)\n",
    "print(classification_report(y_test, model_predictions))\n",
    "\n",
    "#Hyperparemeter tuning of alpha\n",
    "param = {'alpha': [0.00001, 0.0001, 0.001, 0.1, 1]}\n",
    "\n",
    "#using gridsearch\n",
    "clf=GridSearchCV(model,param, cv=10, return_train_score=True)\n",
    "\n",
    "#fit model for grid search\n",
    "clf.fit(X_train_dtm13, y_train)\n",
    "\n",
    "#print best alpha\n",
    "print(clf.best_params_)\n",
    "\n",
    "##### Optimal Alpha Value\n",
    "#alpha value = 0.00001\n",
    "y_pred = clf.predict(X_test_dtm13)\n",
    "\n",
    "acc = accuracy_score(y_test, y_pred) * 100\n",
    "f1 = f1_score(y_test, y_pred, average='weighted') * 100\n",
    "\n",
    "print('Accuracy Score: ', acc, '%', sep='')\n",
    "print('F1 Score: ', f1, '%', sep='')\n",
    "\n",
    "# Store results\n",
    "logs[labels[1]]['models']['nb'] = list(y_pred)\n",
    "logs[labels[1]]['metrics']['nb'] = {'accuracy': acc, 'f1 score': f1}"
   ]
  },
  {
   "cell_type": "code",
   "execution_count": 32,
   "metadata": {},
   "outputs": [
    {
     "name": "stdout",
     "output_type": "stream",
     "text": [
      "              precision    recall  f1-score   support\n",
      "\n",
      "    NEGATIVE       0.67      0.69      0.68       386\n",
      "     NEUTRAL       0.68      0.71      0.70       424\n",
      "    POSITIVE       0.67      0.61      0.64       390\n",
      "\n",
      "    accuracy                           0.67      1200\n",
      "   macro avg       0.67      0.67      0.67      1200\n",
      "weighted avg       0.67      0.67      0.67      1200\n",
      "\n",
      "{'alpha': 0.1}\n",
      "Accuracy Score: 66.58333333333334%\n",
      "F1 Score: 66.5422960525894%\n"
     ]
    }
   ],
   "source": [
    "# norm16 tweet\n",
    "#Train using Multinomial Naaive Bayes model\n",
    "model = MultinomialNB()\n",
    "model.fit(X_train_dtm16, y_train)\n",
    "\n",
    "#Model accuracy\n",
    "model.score(X_test_dtm16, y_test)\n",
    "model_predictions = model.predict(X_test_dtm16)\n",
    "print(classification_report(y_test, model_predictions))\n",
    "\n",
    "#Hyperparemeter tuning of alpha\n",
    "param = {'alpha': [0.00001, 0.0001, 0.001, 0.1, 1]}\n",
    "\n",
    "#using gridsearch\n",
    "clf=GridSearchCV(model,param, cv=10, return_train_score=True)\n",
    "\n",
    "#fit model for grid search\n",
    "clf.fit(X_train_dtm16, y_train)\n",
    "\n",
    "#print best alpha\n",
    "print(clf.best_params_)\n",
    "\n",
    "##### Optimal Alpha Value\n",
    "#alpha value = 0.00001\n",
    "y_pred = clf.predict(X_test_dtm16)\n",
    "\n",
    "acc = accuracy_score(y_test, y_pred) * 100\n",
    "f1 = f1_score(y_test, y_pred, average='weighted') * 100\n",
    "\n",
    "print('Accuracy Score: ', acc, '%', sep='')\n",
    "print('F1 Score: ', f1, '%', sep='')\n",
    "\n",
    "# Store results\n",
    "logs[labels[2]]['models']['nb'] = list(y_pred)\n",
    "logs[labels[2]]['metrics']['nb'] = {'accuracy': acc, 'f1 score': f1}"
   ]
  },
  {
   "cell_type": "markdown",
   "metadata": {
    "id": "WluOkROzmC1J"
   },
   "source": [
    "#### Support Vector Machine (SVM)"
   ]
  },
  {
   "cell_type": "code",
   "execution_count": 33,
   "metadata": {
    "colab": {
     "base_uri": "https://localhost:8080/"
    },
    "id": "pwCp0dSnm0G9",
    "outputId": "bd612203-2cfa-4c13-ba60-b7c104df0354"
   },
   "outputs": [
    {
     "name": "stdout",
     "output_type": "stream",
     "text": [
      "Fitting 5 folds for each of 64 candidates, totalling 320 fits\n",
      "Best hyperparameters:  {'C': 10, 'gamma': 1, 'kernel': 'rbf'}\n",
      "Best score:  0.6619444444444444\n",
      "\n",
      "Accuracy Score: 68.25%\n",
      "F1 Score: 68.11793565461308%\n"
     ]
    }
   ],
   "source": [
    "# norm8 tweet\n",
    "# Finding best hyperparameters for SVM model\n",
    "svmParams = {'C': [0.1, 1, 10, 100], 'gamma': [1,0.1,0.01,0.001], 'kernel': ['rbf', 'sigmoid', 'linear', 'poly']}\n",
    "svmBestParam = GridSearchCV(SVC(), svmParams, refit=True, verbose=1)\n",
    "svmBestParam.fit(X_train_dtm8, y_train)\n",
    "\n",
    "# Printing the best hyperparameters and score\n",
    "print(\"Best hyperparameters: \", svmBestParam.best_params_) # print best hyperparams\n",
    "print(\"Best score: \", svmBestParam.best_score_) # print best score\n",
    "print(\"\")\n",
    "\n",
    "# Testing and showing metrics\n",
    "svmPred = svmBestParam.predict(X_test_dtm8)\n",
    "\n",
    "acc = accuracy_score(y_test, svmPred) * 100\n",
    "f1 = f1_score(y_test, svmPred, average='weighted') * 100\n",
    "\n",
    "print('Accuracy Score: ', acc, '%', sep='')\n",
    "print('F1 Score: ', f1, '%', sep='')\n",
    "\n",
    "# Store results\n",
    "logs[labels[0]]['models']['svm'] = list(svmPred)\n",
    "logs[labels[0]]['metrics']['svm'] = {'accuracy': acc, 'f1 score': f1}"
   ]
  },
  {
   "cell_type": "code",
   "execution_count": 34,
   "metadata": {},
   "outputs": [
    {
     "name": "stdout",
     "output_type": "stream",
     "text": [
      "Fitting 5 folds for each of 64 candidates, totalling 320 fits\n",
      "Best hyperparameters:  {'C': 10, 'gamma': 1, 'kernel': 'rbf'}\n",
      "Best score:  0.675\n",
      "\n",
      "Accuracy Score: 69.16666666666667%\n",
      "F1 Score: 69.03598121427815%\n"
     ]
    }
   ],
   "source": [
    "# norm13 tweet\n",
    "# Finding best hyperparameters for SVM model\n",
    "svmParams = {'C': [0.1, 1, 10, 100], 'gamma': [1,0.1,0.01,0.001], 'kernel': ['rbf', 'sigmoid', 'linear', 'poly']}\n",
    "svmBestParam = GridSearchCV(SVC(), svmParams, refit=True, verbose=1)\n",
    "svmBestParam.fit(X_train_dtm13, y_train)\n",
    "\n",
    "# Printing the best hyperparameters and score\n",
    "print(\"Best hyperparameters: \", svmBestParam.best_params_) # print best hyperparams\n",
    "print(\"Best score: \", svmBestParam.best_score_) # print best score\n",
    "print(\"\")\n",
    "\n",
    "# Testing and showing metrics\n",
    "svmPred = svmBestParam.predict(X_test_dtm13)\n",
    "\n",
    "acc = accuracy_score(y_test, svmPred) * 100\n",
    "f1 = f1_score(y_test, svmPred, average='weighted') * 100\n",
    "\n",
    "print('Accuracy Score: ', acc, '%', sep='')\n",
    "print('F1 Score: ', f1, '%', sep='')\n",
    "\n",
    "# Store results\n",
    "logs[labels[1]]['models']['svm'] = list(svmPred)\n",
    "logs[labels[1]]['metrics']['svm'] = {'accuracy': acc, 'f1 score': f1}"
   ]
  },
  {
   "cell_type": "code",
   "execution_count": 35,
   "metadata": {},
   "outputs": [
    {
     "name": "stdout",
     "output_type": "stream",
     "text": [
      "Fitting 5 folds for each of 64 candidates, totalling 320 fits\n",
      "Best hyperparameters:  {'C': 10, 'gamma': 1, 'kernel': 'rbf'}\n",
      "Best score:  0.6758333333333335\n",
      "\n",
      "Accuracy Score: 69.66666666666667%\n",
      "F1 Score: 69.5495403243713%\n"
     ]
    }
   ],
   "source": [
    "# norm16 tweet\n",
    "# Finding best hyperparameters for SVM model\n",
    "svmParams = {'C': [0.1, 1, 10, 100], 'gamma': [1,0.1,0.01,0.001], 'kernel': ['rbf', 'sigmoid', 'linear', 'poly']}\n",
    "svmBestParam = GridSearchCV(SVC(), svmParams, refit=True, verbose=1)\n",
    "svmBestParam.fit(X_train_dtm16, y_train)\n",
    "\n",
    "# Printing the best hyperparameters and score\n",
    "print(\"Best hyperparameters: \", svmBestParam.best_params_) # print best hyperparams\n",
    "print(\"Best score: \", svmBestParam.best_score_) # print best score\n",
    "print(\"\")\n",
    "\n",
    "# Testing and showing metrics\n",
    "svmPred = svmBestParam.predict(X_test_dtm16)\n",
    "\n",
    "acc = accuracy_score(y_test, svmPred) * 100\n",
    "f1 = f1_score(y_test, svmPred, average='weighted') * 100\n",
    "\n",
    "print('Accuracy Score: ', acc, '%', sep='')\n",
    "print('F1 Score: ', f1, '%', sep='')\n",
    "\n",
    "# Store results\n",
    "logs[labels[2]]['models']['svm'] = list(svmPred)\n",
    "logs[labels[2]]['metrics']['svm'] = {'accuracy': acc, 'f1 score': f1}"
   ]
  },
  {
   "cell_type": "markdown",
   "metadata": {
    "id": "lU0QA4e3LLgt"
   },
   "source": [
    "#### Decision Trees\n"
   ]
  },
  {
   "cell_type": "code",
   "execution_count": 36,
   "metadata": {
    "colab": {
     "base_uri": "https://localhost:8080/"
    },
    "id": "TAUNKbjoLSfn",
    "outputId": "f95a75ef-dc46-4678-c4a9-9dd8271c310f"
   },
   "outputs": [
    {
     "name": "stderr",
     "output_type": "stream",
     "text": [
      "100%|████████████████████████████████████████████████████████████████████████████████| 200/200 [00:47<00:00,  4.25it/s]"
     ]
    },
    {
     "name": "stdout",
     "output_type": "stream",
     "text": [
      "Optimal maximum depth:  30\n",
      "Highest f1 score achieved:  0.5704591900658108\n",
      "Accuracy Score: 57.41666666666667%\n",
      "F1 Score: 57.04591900658108%\n"
     ]
    },
    {
     "name": "stderr",
     "output_type": "stream",
     "text": [
      "\n"
     ]
    }
   ],
   "source": [
    "# norm8 tweet\n",
    "dt_accuracy8 = []\n",
    "dt_f1s8 = []\n",
    "\n",
    "for i in tqdm(range(1, 201)):\n",
    "    dt = DecisionTreeClassifier(max_depth = i, random_state = SEED)\n",
    "    dt.fit(X_train_dtm8, y_train)\n",
    "    y_pred = dt.predict(X_test_dtm8)\n",
    "    \n",
    "    dt_accuracy8.append(accuracy_score(y_test, y_pred))\n",
    "    # Using average='weighted' to calculate a weighted average for the 3 classes \n",
    "    dt_f1s8.append(f1_score(y_test, y_pred, average='weighted'))\n",
    "    \n",
    "optimal_dt_depth = dt_f1s8.index(max(dt_f1s8)) + 1\n",
    "print(\"Optimal maximum depth: \", optimal_dt_depth)\n",
    "print(\"Highest f1 score achieved: \", max(dt_f1s8))\n",
    "\n",
    "##### Optimal Maximum Depth\n",
    "# Accuracy using Decision Tree model\n",
    "optimal_dt = DecisionTreeClassifier(max_depth = optimal_dt_depth, random_state = SEED)\n",
    "optimal_dt.fit(X_train_dtm8, y_train)\n",
    "y_pred = optimal_dt.predict(X_test_dtm8)\n",
    "\n",
    "acc = accuracy_score(y_test, y_pred) * 100\n",
    "f1 = f1_score(y_test, y_pred, average='weighted') * 100\n",
    "\n",
    "print('Accuracy Score: ', acc, '%', sep='')\n",
    "print('F1 Score: ', f1, '%', sep='')\n",
    "\n",
    "# Store results\n",
    "logs[labels[0]]['models']['dectree'] = list(y_pred)\n",
    "logs[labels[0]]['metrics']['dectree'] = {'accuracy': acc, 'f1 score': f1}"
   ]
  },
  {
   "cell_type": "code",
   "execution_count": 37,
   "metadata": {
    "colab": {
     "base_uri": "https://localhost:8080/",
     "height": 404
    },
    "id": "ya-eEF37Rakk",
    "outputId": "4d63a927-cb8f-41fe-c91b-f71a0cbed054"
   },
   "outputs": [
    {
     "name": "stderr",
     "output_type": "stream",
     "text": [
      "100%|████████████████████████████████████████████████████████████████████████████████| 200/200 [00:47<00:00,  4.19it/s]\n"
     ]
    },
    {
     "name": "stdout",
     "output_type": "stream",
     "text": [
      "Optimal maximum depth:  73\n",
      "Highest f1 score achieved:  0.562615452997976\n",
      "Accuracy Score: 56.333333333333336%\n",
      "F1 Score: 56.261545299797596%\n"
     ]
    }
   ],
   "source": [
    "# norm13 tweet\n",
    "dt_accuracy13 = []\n",
    "dt_f1s13 = []\n",
    "\n",
    "for i in tqdm(range(1, 201)):\n",
    "    dt = DecisionTreeClassifier(max_depth = i, random_state = SEED)\n",
    "    dt.fit(X_train_dtm13, y_train)\n",
    "    y_pred = dt.predict(X_test_dtm13)\n",
    "    \n",
    "    dt_accuracy13.append(accuracy_score(y_test, y_pred))\n",
    "    # Using average='weighted' to calculate a weighted average for the 3 classes \n",
    "    dt_f1s13.append(f1_score(y_test, y_pred, average='weighted'))\n",
    "    \n",
    "optimal_dt_depth = dt_f1s13.index(max(dt_f1s13)) + 1\n",
    "print(\"Optimal maximum depth: \", optimal_dt_depth)\n",
    "print(\"Highest f1 score achieved: \", max(dt_f1s13))\n",
    "\n",
    "##### Optimal Maximum Depth\n",
    "# Accuracy using Decision Tree model\n",
    "optimal_dt = DecisionTreeClassifier(max_depth = optimal_dt_depth, random_state = SEED)\n",
    "optimal_dt.fit(X_train_dtm13, y_train)\n",
    "y_pred = optimal_dt.predict(X_test_dtm13)\n",
    "\n",
    "acc = accuracy_score(y_test, y_pred) * 100\n",
    "f1 = f1_score(y_test, y_pred, average='weighted') * 100\n",
    "\n",
    "print('Accuracy Score: ', acc, '%', sep='')\n",
    "print('F1 Score: ', f1, '%', sep='')\n",
    "\n",
    "# Store results\n",
    "logs[labels[1]]['models']['dectree'] = list(y_pred)\n",
    "logs[labels[1]]['metrics']['dectree'] = {'accuracy': acc, 'f1 score': f1}"
   ]
  },
  {
   "cell_type": "code",
   "execution_count": 38,
   "metadata": {
    "colab": {
     "base_uri": "https://localhost:8080/"
    },
    "id": "n9A0PPKORlk3",
    "outputId": "aed2becd-631f-4be5-92b0-2068b46b92a8"
   },
   "outputs": [
    {
     "name": "stderr",
     "output_type": "stream",
     "text": [
      "100%|████████████████████████████████████████████████████████████████████████████████| 200/200 [00:45<00:00,  4.36it/s]\n"
     ]
    },
    {
     "name": "stdout",
     "output_type": "stream",
     "text": [
      "Optimal maximum depth:  53\n",
      "Highest f1 score achieved:  0.5823008005021372\n",
      "Accuracy Score: 58.25%\n",
      "F1 Score: 58.230080050213715%\n"
     ]
    }
   ],
   "source": [
    "# norm16 tweet\n",
    "dt_accuracy16 = []\n",
    "dt_f1s16 = []\n",
    "\n",
    "for i in tqdm(range(1, 201)):\n",
    "    dt = DecisionTreeClassifier(max_depth = i, random_state = SEED)\n",
    "    dt.fit(X_train_dtm16, y_train)\n",
    "    y_pred = dt.predict(X_test_dtm16)\n",
    "    \n",
    "    dt_accuracy16.append(accuracy_score(y_test, y_pred))\n",
    "    # Using average='weighted' to calculate a weighted average for the 3 classes \n",
    "    dt_f1s16.append(f1_score(y_test, y_pred, average='weighted'))\n",
    "    \n",
    "optimal_dt_depth = dt_f1s16.index(max(dt_f1s16)) + 1\n",
    "print(\"Optimal maximum depth: \", optimal_dt_depth)\n",
    "print(\"Highest f1 score achieved: \", max(dt_f1s16))\n",
    "\n",
    "##### Optimal Maximum Depth\n",
    "# Accuracy using Decision Tree model\n",
    "optimal_dt = DecisionTreeClassifier(max_depth = optimal_dt_depth, random_state = SEED)\n",
    "optimal_dt.fit(X_train_dtm16, y_train)\n",
    "y_pred = optimal_dt.predict(X_test_dtm16)\n",
    "\n",
    "acc = accuracy_score(y_test, y_pred) * 100\n",
    "f1 = f1_score(y_test, y_pred, average='weighted') * 100\n",
    "\n",
    "print('Accuracy Score: ', acc, '%', sep='')\n",
    "print('F1 Score: ', f1, '%', sep='')\n",
    "\n",
    "# Store results\n",
    "logs[labels[2]]['models']['dectree'] = list(y_pred)\n",
    "logs[labels[2]]['metrics']['dectree'] = {'accuracy': acc, 'f1 score': f1}"
   ]
  },
  {
   "cell_type": "code",
   "execution_count": 39,
   "metadata": {},
   "outputs": [
    {
     "data": {
      "image/png": "[encoded data removed]",
      "text/plain": [
       "<Figure size 864x576 with 1 Axes>"
      ]
     },
     "metadata": {
      "needs_background": "light"
     },
     "output_type": "display_data"
    }
   ],
   "source": [
    "plot_line_graph_data_tuning([dt_accuracy8, dt_accuracy13, dt_accuracy16],\n",
    "                            [dt_f1s8, dt_f1s13, dt_f1s16], labels)"
   ]
  },
  {
   "cell_type": "markdown",
   "metadata": {
    "id": "tvTphfdijd_t"
   },
   "source": [
    "#### Extra Trees Classifier\n"
   ]
  },
  {
   "cell_type": "code",
   "execution_count": 40,
   "metadata": {
    "colab": {
     "base_uri": "https://localhost:8080/"
    },
    "id": "DEKGZ-m-jdDS",
    "outputId": "47721245-2c64-4a75-88bb-4f31631e3ee8"
   },
   "outputs": [
    {
     "name": "stderr",
     "output_type": "stream",
     "text": [
      "100%|████████████████████████████████████████████████████████████████████████████████| 100/100 [03:51<00:00,  2.31s/it]\n"
     ]
    },
    {
     "name": "stdout",
     "output_type": "stream",
     "text": [
      "Optimal maximum depth:  97\n",
      "Highest f1 score achieved:  0.696172848718655\n",
      "Accuracy Score: 69.75%\n",
      "F1 Score: 69.61728487186551%\n"
     ]
    }
   ],
   "source": [
    "# norm8 tweet\n",
    "et_accuracy8 = []\n",
    "et_f1s8 = []\n",
    "\n",
    "for i in tqdm(range(1, 101)):\n",
    "    et_clf = ExtraTreesClassifier(max_depth = i, n_estimators = 250, random_state = SEED)\n",
    "    et_clf.fit(X_train_dtm8, y_train)\n",
    "    y_pred = et_clf.predict(X_test_dtm8)\n",
    "    \n",
    "    et_accuracy8.append(accuracy_score(y_test, y_pred))\n",
    "    # Using average='weighted' to calculate a weighted average for the 3 classes \n",
    "    et_f1s8.append(f1_score(y_test, y_pred, average='weighted'))\n",
    "    \n",
    "optimal_et_depth = et_f1s8.index(max(et_f1s8)) + 1\n",
    "print(\"Optimal maximum depth: \", optimal_et_depth)\n",
    "print(\"Highest f1 score achieved: \", max(et_f1s8))\n",
    "\n",
    "##### Optimal Maximum Depth\n",
    "# Accuracy using ExtraTrees model\n",
    "optimal_et = ExtraTreesClassifier(max_depth = optimal_et_depth, n_estimators = 250, random_state = SEED)\n",
    "optimal_et.fit(X_train_dtm8, y_train)\n",
    "y_pred = optimal_et.predict(X_test_dtm8)\n",
    "\n",
    "acc = accuracy_score(y_test, y_pred) * 100\n",
    "f1 = f1_score(y_test, y_pred, average='weighted') * 100\n",
    "\n",
    "print('Accuracy Score: ', acc, '%', sep='')\n",
    "print('F1 Score: ', f1, '%', sep='')\n",
    "\n",
    "# Store results\n",
    "logs[labels[0]]['models']['extree'] = list(y_pred)\n",
    "logs[labels[0]]['metrics']['extree'] = {'accuracy': acc, 'f1 score': f1}"
   ]
  },
  {
   "cell_type": "code",
   "execution_count": 41,
   "metadata": {},
   "outputs": [
    {
     "name": "stderr",
     "output_type": "stream",
     "text": [
      "100%|████████████████████████████████████████████████████████████████████████████████| 100/100 [03:52<00:00,  2.33s/it]\n"
     ]
    },
    {
     "name": "stdout",
     "output_type": "stream",
     "text": [
      "Optimal maximum depth:  100\n",
      "Highest f1 score achieved:  0.6962549905348996\n",
      "Accuracy Score: 69.75%\n",
      "F1 Score: 69.62549905348996%\n"
     ]
    }
   ],
   "source": [
    "# norm13 tweet\n",
    "et_accuracy13 = []\n",
    "et_f1s13 = []\n",
    "\n",
    "for i in tqdm(range(1, 101)):\n",
    "    et_clf = ExtraTreesClassifier(max_depth = i, n_estimators = 250, random_state = SEED)\n",
    "    et_clf.fit(X_train_dtm13, y_train)\n",
    "    y_pred = et_clf.predict(X_test_dtm13)\n",
    "    \n",
    "    et_accuracy13.append(accuracy_score(y_test, y_pred))\n",
    "    # Using average='weighted' to calculate a weighted average for the 3 classes \n",
    "    et_f1s13.append(f1_score(y_test, y_pred, average='weighted'))\n",
    "    \n",
    "optimal_et_depth = et_f1s13.index(max(et_f1s13)) + 1\n",
    "print(\"Optimal maximum depth: \", optimal_et_depth)\n",
    "print(\"Highest f1 score achieved: \", max(et_f1s13))\n",
    "\n",
    "##### Optimal Maximum Depth\n",
    "# Accuracy using ExtraTrees model\n",
    "optimal_et = ExtraTreesClassifier(max_depth = optimal_et_depth, n_estimators = 250, random_state = SEED)\n",
    "optimal_et.fit(X_train_dtm13, y_train)\n",
    "y_pred = optimal_et.predict(X_test_dtm13)\n",
    "\n",
    "acc = accuracy_score(y_test, y_pred) * 100\n",
    "f1 = f1_score(y_test, y_pred, average='weighted') * 100\n",
    "\n",
    "print('Accuracy Score: ', acc, '%', sep='')\n",
    "print('F1 Score: ', f1, '%', sep='')\n",
    "\n",
    "# Store results\n",
    "logs[labels[1]]['models']['extree'] = list(y_pred)\n",
    "logs[labels[1]]['metrics']['extree'] = {'accuracy': acc, 'f1 score': f1}"
   ]
  },
  {
   "cell_type": "code",
   "execution_count": 42,
   "metadata": {},
   "outputs": [
    {
     "name": "stderr",
     "output_type": "stream",
     "text": [
      "100%|████████████████████████████████████████████████████████████████████████████████| 100/100 [04:03<00:00,  2.44s/it]\n"
     ]
    },
    {
     "name": "stdout",
     "output_type": "stream",
     "text": [
      "Optimal maximum depth:  86\n",
      "Highest f1 score achieved:  0.6869634960441289\n",
      "Accuracy Score: 68.83333333333333%\n",
      "F1 Score: 68.69634960441289%\n"
     ]
    }
   ],
   "source": [
    "# norm16 tweet\n",
    "et_accuracy16 = []\n",
    "et_f1s16 = []\n",
    "\n",
    "for i in tqdm(range(1, 101)):\n",
    "    et_clf = ExtraTreesClassifier(max_depth = i, n_estimators = 250, random_state = SEED)\n",
    "    et_clf.fit(X_train_dtm16, y_train)\n",
    "    y_pred = et_clf.predict(X_test_dtm16)\n",
    "    \n",
    "    et_accuracy16.append(accuracy_score(y_test, y_pred))\n",
    "    # Using average='weighted' to calculate a weighted average for the 3 classes \n",
    "    et_f1s16.append(f1_score(y_test, y_pred, average='weighted'))\n",
    "    \n",
    "optimal_et_depth = et_f1s16.index(max(et_f1s16)) + 1\n",
    "print(\"Optimal maximum depth: \", optimal_et_depth)\n",
    "print(\"Highest f1 score achieved: \", max(et_f1s16))\n",
    "\n",
    "##### Optimal Maximum Depth\n",
    "# Accuracy using ExtraTrees model\n",
    "optimal_et = ExtraTreesClassifier(max_depth = optimal_et_depth, n_estimators = 250, random_state = SEED)\n",
    "optimal_et.fit(X_train_dtm16, y_train)\n",
    "y_pred = optimal_et.predict(X_test_dtm16)\n",
    "\n",
    "acc = accuracy_score(y_test, y_pred) * 100\n",
    "f1 = f1_score(y_test, y_pred, average='weighted') * 100\n",
    "\n",
    "print('Accuracy Score: ', acc, '%', sep='')\n",
    "print('F1 Score: ', f1, '%', sep='')\n",
    "\n",
    "# Store results\n",
    "logs[labels[2]]['models']['extree'] = list(y_pred)\n",
    "logs[labels[2]]['metrics']['extree'] = {'accuracy': acc, 'f1 score': f1}"
   ]
  },
  {
   "cell_type": "code",
   "execution_count": 43,
   "metadata": {},
   "outputs": [
    {
     "data": {
      "image/png": "[encoded data removed]",
      "text/plain": [
       "<Figure size 864x576 with 1 Axes>"
      ]
     },
     "metadata": {
      "needs_background": "light"
     },
     "output_type": "display_data"
    }
   ],
   "source": [
    "plot_line_graph_data_tuning([et_accuracy8, et_accuracy13, et_accuracy16],\n",
    "                            [et_f1s8, et_f1s13, et_f1s16], labels)"
   ]
  },
  {
   "cell_type": "markdown",
   "metadata": {
    "id": "GaATX87394Wu"
   },
   "source": [
    "#### Random Forest"
   ]
  },
  {
   "cell_type": "code",
   "execution_count": 44,
   "metadata": {
    "colab": {
     "base_uri": "https://localhost:8080/"
    },
    "id": "eBmOS5M29-7O",
    "outputId": "44ee9d09-b707-4739-9540-c871aef69aab"
   },
   "outputs": [
    {
     "name": "stderr",
     "output_type": "stream",
     "text": [
      "100%|██████████████████████████████████████████████████████████████████████████████████| 30/30 [00:25<00:00,  1.19it/s]"
     ]
    },
    {
     "name": "stdout",
     "output_type": "stream",
     "text": [
      "Optimal number of trees:  89\n",
      "Highest f1 score achieved:  0.6542728014868818\n",
      "Accuracy Score: 61.83333333333333%\n",
      "F1 Score: 61.62930907902563%\n"
     ]
    },
    {
     "name": "stderr",
     "output_type": "stream",
     "text": [
      "\n"
     ]
    }
   ],
   "source": [
    "# norm8 tweet\n",
    "rand_forest_acc8 = list()\n",
    "rand_forest_f1s8 = list()\n",
    "for i in tqdm(range(10, 301, 10)):\n",
    "    forest = RandomForestClassifier(n_estimators=i, oob_score=True, n_jobs=-1)\n",
    "    forest.fit(X_train_dtm8, y_train)\n",
    "    y_pred_i = forest.predict(X_test_dtm8)\n",
    "\n",
    "    rand_forest_acc8.append(accuracy_score(y_test, y_pred_i))\n",
    "    rand_forest_f1s8.append(f1_score(y_test, y_pred_i, average='weighted'))\n",
    "    \n",
    "optimal_trees = rand_forest_f1s8.index(max(rand_forest_f1s8)) + 1\n",
    "print(\"Optimal number of trees: \", optimal_neighbors)\n",
    "print(\"Highest f1 score achieved: \", max(rand_forest_f1s8))\n",
    "\n",
    "##### Optimal No. of Trees\n",
    "forest = RandomForestClassifier(n_estimators=optimal_trees, oob_score=True, n_jobs=-1)\n",
    "forest.fit(X_train_dtm8, y_train)\n",
    "y_pred = forest.predict(X_test_dtm8)\n",
    "\n",
    "acc = accuracy_score(y_test, y_pred) * 100\n",
    "f1 = f1_score(y_test, y_pred, average='weighted') * 100\n",
    "\n",
    "print('Accuracy Score: ', acc, '%', sep='')\n",
    "print('F1 Score: ', f1, '%', sep='')\n",
    "\n",
    "# Store results\n",
    "logs[labels[0]]['models']['randforest'] = list(y_pred)\n",
    "logs[labels[0]]['metrics']['randforest'] = {'accuracy': acc, 'f1 score': f1}"
   ]
  },
  {
   "cell_type": "code",
   "execution_count": 45,
   "metadata": {
    "id": "5N26XX9RPRkF"
   },
   "outputs": [
    {
     "name": "stderr",
     "output_type": "stream",
     "text": [
      "100%|██████████████████████████████████████████████████████████████████████████████████| 30/30 [00:24<00:00,  1.23it/s]"
     ]
    },
    {
     "name": "stdout",
     "output_type": "stream",
     "text": [
      "Optimal number of trees:  89\n",
      "Highest f1 score achieved:  0.6627979348092305\n",
      "Accuracy Score: 63.83333333333333%\n",
      "F1 Score: 63.781453124147426%\n"
     ]
    },
    {
     "name": "stderr",
     "output_type": "stream",
     "text": [
      "\n"
     ]
    }
   ],
   "source": [
    "# norm13 tweet\n",
    "rand_forest_acc13 = list()\n",
    "rand_forest_f1s13 = list()\n",
    "for i in tqdm(range(10, 301, 10)):\n",
    "    forest = RandomForestClassifier(n_estimators=i, oob_score=True, n_jobs=-1)\n",
    "    forest.fit(X_train_dtm13, y_train)\n",
    "    y_pred_i = forest.predict(X_test_dtm13)\n",
    "\n",
    "    rand_forest_acc13.append(accuracy_score(y_test, y_pred_i))\n",
    "    rand_forest_f1s13.append(f1_score(y_test, y_pred_i, average='weighted'))\n",
    "    \n",
    "optimal_trees = rand_forest_f1s13.index(max(rand_forest_f1s13)) + 1\n",
    "print(\"Optimal number of trees: \", optimal_neighbors)\n",
    "print(\"Highest f1 score achieved: \", max(rand_forest_f1s13))\n",
    "\n",
    "##### Optimal No. of Trees\n",
    "forest = RandomForestClassifier(n_estimators=optimal_trees, oob_score=True, n_jobs=-1)\n",
    "forest.fit(X_train_dtm13, y_train)\n",
    "y_pred = forest.predict(X_test_dtm13)\n",
    "\n",
    "acc = accuracy_score(y_test, y_pred) * 100\n",
    "f1 = f1_score(y_test, y_pred, average='weighted') * 100\n",
    "\n",
    "print('Accuracy Score: ', acc, '%', sep='')\n",
    "print('F1 Score: ', f1, '%', sep='')\n",
    "\n",
    "# Store results\n",
    "logs[labels[1]]['models']['randforest'] = list(y_pred)\n",
    "logs[labels[1]]['metrics']['randforest'] = {'accuracy': acc, 'f1 score': f1}"
   ]
  },
  {
   "cell_type": "code",
   "execution_count": 46,
   "metadata": {},
   "outputs": [
    {
     "name": "stderr",
     "output_type": "stream",
     "text": [
      "100%|██████████████████████████████████████████████████████████████████████████████████| 30/30 [00:24<00:00,  1.22it/s]"
     ]
    },
    {
     "name": "stdout",
     "output_type": "stream",
     "text": [
      "Optimal number of trees:  89\n",
      "Highest f1 score achieved:  0.6676911883131899\n",
      "Accuracy Score: 62.916666666666664%\n",
      "F1 Score: 62.79784639268087%\n"
     ]
    },
    {
     "name": "stderr",
     "output_type": "stream",
     "text": [
      "\n"
     ]
    }
   ],
   "source": [
    "# norm16 tweet\n",
    "rand_forest_acc16 = list()\n",
    "rand_forest_f1s16 = list()\n",
    "for i in tqdm(range(10, 301, 10)):\n",
    "    forest = RandomForestClassifier(n_estimators=i, oob_score=True, n_jobs=-1)\n",
    "    forest.fit(X_train_dtm16, y_train)\n",
    "    y_pred_i = forest.predict(X_test_dtm16)\n",
    "\n",
    "    rand_forest_acc16.append(accuracy_score(y_test, y_pred_i))\n",
    "    rand_forest_f1s16.append(f1_score(y_test, y_pred_i, average='weighted'))\n",
    "    \n",
    "optimal_trees = rand_forest_f1s16.index(max(rand_forest_f1s16)) + 1\n",
    "print(\"Optimal number of trees: \", optimal_neighbors)\n",
    "print(\"Highest f1 score achieved: \", max(rand_forest_f1s16))\n",
    "\n",
    "##### Optimal No. of Trees\n",
    "forest = RandomForestClassifier(n_estimators=optimal_trees, oob_score=True, n_jobs=-1)\n",
    "forest.fit(X_train_dtm16, y_train)\n",
    "y_pred = forest.predict(X_test_dtm16)\n",
    "\n",
    "acc = accuracy_score(y_test, y_pred) * 100\n",
    "f1 = f1_score(y_test, y_pred, average='weighted') * 100\n",
    "\n",
    "print('Accuracy Score: ', acc, '%', sep='')\n",
    "print('F1 Score: ', f1, '%', sep='')\n",
    "\n",
    "# Store results\n",
    "logs[labels[2]]['models']['randforest'] = list(y_pred)\n",
    "logs[labels[2]]['metrics']['randforest'] = {'accuracy': acc, 'f1 score': f1}"
   ]
  },
  {
   "cell_type": "code",
   "execution_count": 47,
   "metadata": {},
   "outputs": [
    {
     "data": {
      "image/png": "[encoded data removed]",
      "text/plain": [
       "<Figure size 864x576 with 1 Axes>"
      ]
     },
     "metadata": {
      "needs_background": "light"
     },
     "output_type": "display_data"
    }
   ],
   "source": [
    "plot_line_graph_data_tuning([rand_forest_acc8, rand_forest_acc13, rand_forest_acc16],\n",
    "                            [rand_forest_f1s8, rand_forest_f1s13, rand_forest_f1s16], labels)"
   ]
  },
  {
   "cell_type": "markdown",
   "metadata": {
    "id": "hP0-BL3qTXzS"
   },
   "source": [
    "#### XGBoost\n"
   ]
  },
  {
   "cell_type": "code",
   "execution_count": 48,
   "metadata": {
    "colab": {
     "base_uri": "https://localhost:8080/"
    },
    "id": "DaSJqaldVj3g",
    "outputId": "9bb41e5d-c6fe-44c7-9bad-af2b4d491c9a"
   },
   "outputs": [
    {
     "name": "stderr",
     "output_type": "stream",
     "text": [
      "100%|██████████████████████████████████████████████████████████████████████████████████| 30/30 [11:52<00:00, 23.74s/it]\n"
     ]
    },
    {
     "name": "stdout",
     "output_type": "stream",
     "text": [
      "Optimal maximum depth:  6\n",
      "Highest f1 score achieved:  0.6727518931938522\n",
      "Accuracy Score: 67.33333333333333%\n",
      "F1 Score: 67.27518931938522%\n"
     ]
    }
   ],
   "source": [
    "# norm8 tweet\n",
    "xgb_accuracy8 = []\n",
    "xgb_f1s8 = []\n",
    "\n",
    "le = LabelEncoder()\n",
    "y_train_encoded = le.fit_transform(y_train)\n",
    "y_test_encoded = le.fit_transform(y_test)\n",
    "\n",
    "for i in tqdm(range(1, 31)):\n",
    "    xgb = XGBClassifier(max_depth = i, n_estimators = 250)\n",
    "    xgb.fit(X_train_dtm8, y_train_encoded)\n",
    "    y_pred_encoded = xgb.predict(X_test_dtm8)\n",
    "    y_pred = le.inverse_transform(y_pred_encoded)\n",
    "    \n",
    "    xgb_accuracy8.append(accuracy_score(y_test, y_pred))\n",
    "    # Using average='weighted' to calculate a weighted average for the 3 classes \n",
    "    xgb_f1s8.append(f1_score(y_test, y_pred, average='weighted'))\n",
    "    \n",
    "optimal_xgb_depth = xgb_f1s8.index(max(xgb_f1s8)) + 1\n",
    "print(\"Optimal maximum depth: \", optimal_xgb_depth)\n",
    "print(\"Highest f1 score achieved: \", max(xgb_f1s8))\n",
    "\n",
    "##### Optimal Maximum Depth\n",
    "# Accuracy using XGBoost model\n",
    "optimal_xgb = XGBClassifier(max_depth = optimal_xgb_depth, n_estimators = 250)\n",
    "optimal_xgb.fit(X_train_dtm8, y_train_encoded)\n",
    "y_pred_encoded = optimal_xgb.predict(X_test_dtm8)\n",
    "y_pred = le.inverse_transform(y_pred_encoded)\n",
    "\n",
    "acc = accuracy_score(y_test, y_pred) * 100\n",
    "f1 = f1_score(y_test, y_pred, average='weighted') * 100\n",
    "\n",
    "print('Accuracy Score: ', acc, '%', sep='')\n",
    "print('F1 Score: ', f1, '%', sep='')\n",
    "\n",
    "# Store results\n",
    "logs[labels[0]]['models']['xgboost'] = list(y_pred)\n",
    "logs[labels[0]]['metrics']['xgboost'] = {'accuracy': acc, 'f1 score': f1}"
   ]
  },
  {
   "cell_type": "code",
   "execution_count": 49,
   "metadata": {
    "id": "ftfsh0h8PXmC"
   },
   "outputs": [
    {
     "name": "stderr",
     "output_type": "stream",
     "text": [
      "100%|██████████████████████████████████████████████████████████████████████████████████| 30/30 [12:52<00:00, 25.75s/it]\n"
     ]
    },
    {
     "name": "stdout",
     "output_type": "stream",
     "text": [
      "Optimal maximum depth:  20\n",
      "Highest f1 score achieved:  0.6778714528187392\n",
      "Accuracy Score: 67.83333333333333%\n",
      "F1 Score: 67.78714528187392%\n"
     ]
    }
   ],
   "source": [
    "# norm13 tweet\n",
    "xgb_accuracy13 = []\n",
    "xgb_f1s13 = []\n",
    "\n",
    "le = LabelEncoder()\n",
    "y_train_encoded = le.fit_transform(y_train)\n",
    "y_test_encoded = le.fit_transform(y_test)\n",
    "\n",
    "for i in tqdm(range(1, 31)):\n",
    "    xgb = XGBClassifier(max_depth = i, n_estimators = 250)\n",
    "    xgb.fit(X_train_dtm13, y_train_encoded)\n",
    "    y_pred_encoded = xgb.predict(X_test_dtm13)\n",
    "    y_pred = le.inverse_transform(y_pred_encoded)\n",
    "    \n",
    "    xgb_accuracy13.append(accuracy_score(y_test, y_pred))\n",
    "    # Using average='weighted' to calculate a weighted average for the 3 classes \n",
    "    xgb_f1s13.append(f1_score(y_test, y_pred, average='weighted'))\n",
    "    \n",
    "optimal_xgb_depth = xgb_f1s13.index(max(xgb_f1s13)) + 1\n",
    "print(\"Optimal maximum depth: \", optimal_xgb_depth)\n",
    "print(\"Highest f1 score achieved: \", max(xgb_f1s13))\n",
    "\n",
    "##### Optimal Maximum Depth\n",
    "# Accuracy using XGBoost model\n",
    "optimal_xgb = XGBClassifier(max_depth = optimal_xgb_depth, n_estimators = 250)\n",
    "optimal_xgb.fit(X_train_dtm13, y_train_encoded)\n",
    "y_pred_encoded = optimal_xgb.predict(X_test_dtm13)\n",
    "y_pred = le.inverse_transform(y_pred_encoded)\n",
    "\n",
    "acc = accuracy_score(y_test, y_pred) * 100\n",
    "f1 = f1_score(y_test, y_pred, average='weighted') * 100\n",
    "\n",
    "print('Accuracy Score: ', acc, '%', sep='')\n",
    "print('F1 Score: ', f1, '%', sep='')\n",
    "\n",
    "# Store results\n",
    "logs[labels[1]]['models']['xgboost'] = list(y_pred)\n",
    "logs[labels[1]]['metrics']['xgboost'] = {'accuracy': acc, 'f1 score': f1}"
   ]
  },
  {
   "cell_type": "code",
   "execution_count": 50,
   "metadata": {},
   "outputs": [
    {
     "name": "stderr",
     "output_type": "stream",
     "text": [
      "100%|██████████████████████████████████████████████████████████████████████████████████| 30/30 [13:01<00:00, 26.03s/it]\n"
     ]
    },
    {
     "name": "stdout",
     "output_type": "stream",
     "text": [
      "Optimal maximum depth:  8\n",
      "Highest f1 score achieved:  0.6827937733908647\n",
      "Accuracy Score: 68.33333333333333%\n",
      "F1 Score: 68.27937733908647%\n"
     ]
    }
   ],
   "source": [
    "# norm16 tweet\n",
    "xgb_accuracy16 = []\n",
    "xgb_f1s16 = []\n",
    "\n",
    "le = LabelEncoder()\n",
    "y_train_encoded = le.fit_transform(y_train)\n",
    "y_test_encoded = le.fit_transform(y_test)\n",
    "\n",
    "for i in tqdm(range(1, 31)):\n",
    "    xgb = XGBClassifier(max_depth = i, n_estimators = 250)\n",
    "    xgb.fit(X_train_dtm16, y_train_encoded)\n",
    "    y_pred_encoded = xgb.predict(X_test_dtm16)\n",
    "    y_pred = le.inverse_transform(y_pred_encoded)\n",
    "    \n",
    "    xgb_accuracy16.append(accuracy_score(y_test, y_pred))\n",
    "    # Using average='weighted' to calculate a weighted average for the 3 classes \n",
    "    xgb_f1s16.append(f1_score(y_test, y_pred, average='weighted'))\n",
    "    \n",
    "optimal_xgb_depth = xgb_f1s16.index(max(xgb_f1s16)) + 1\n",
    "print(\"Optimal maximum depth: \", optimal_xgb_depth)\n",
    "print(\"Highest f1 score achieved: \", max(xgb_f1s16))\n",
    "\n",
    "##### Optimal Maximum Depth\n",
    "# Accuracy using XGBoost model\n",
    "optimal_xgb = XGBClassifier(max_depth = optimal_xgb_depth, n_estimators = 250)\n",
    "optimal_xgb.fit(X_train_dtm16, y_train_encoded)\n",
    "y_pred_encoded = optimal_xgb.predict(X_test_dtm16)\n",
    "y_pred = le.inverse_transform(y_pred_encoded)\n",
    "\n",
    "acc = accuracy_score(y_test, y_pred) * 100\n",
    "f1 = f1_score(y_test, y_pred, average='weighted') * 100\n",
    "\n",
    "print('Accuracy Score: ', acc, '%', sep='')\n",
    "print('F1 Score: ', f1, '%', sep='')\n",
    "\n",
    "# Store results\n",
    "logs[labels[2]]['models']['xgboost'] = list(y_pred)\n",
    "logs[labels[2]]['metrics']['xgboost'] = {'accuracy': acc, 'f1 score': f1}"
   ]
  },
  {
   "cell_type": "code",
   "execution_count": 51,
   "metadata": {},
   "outputs": [
    {
     "data": {
      "image/png": "[encoded data removed]",
      "text/plain": [
       "<Figure size 864x576 with 1 Axes>"
      ]
     },
     "metadata": {
      "needs_background": "light"
     },
     "output_type": "display_data"
    }
   ],
   "source": [
    "plot_line_graph_data_tuning([xgb_accuracy8, xgb_accuracy13, xgb_accuracy16],\n",
    "                            [xgb_f1s8, xgb_f1s13, xgb_f1s16], labels)"
   ]
  },
  {
   "cell_type": "markdown",
   "metadata": {
    "id": "IENUGPPfnyRM"
   },
   "source": [
    "# Innovations"
   ]
  },
  {
   "cell_type": "markdown",
   "metadata": {
    "id": "K9GTzVVydgTW"
   },
   "source": [
    "### Ensemble Classification\n",
    "\n",
    "\n"
   ]
  },
  {
   "cell_type": "markdown",
   "metadata": {
    "id": "XTO5S8ZuqTpV"
   },
   "source": [
    "#### Import Packages"
   ]
  },
  {
   "cell_type": "code",
   "execution_count": 52,
   "metadata": {
    "id": "dUJYcUiBqXCZ"
   },
   "outputs": [],
   "source": [
    "from sklearn.ensemble import StackingClassifier"
   ]
  },
  {
   "cell_type": "markdown",
   "metadata": {
    "id": "Ua980HEpqZZH"
   },
   "source": [
    "#### Stacked Classifier"
   ]
  },
  {
   "cell_type": "code",
   "execution_count": 53,
   "metadata": {},
   "outputs": [
    {
     "data": {
      "text/html": [
       "<div>\n",
       "<style scoped>\n",
       "    .dataframe tbody tr th:only-of-type {\n",
       "        vertical-align: middle;\n",
       "    }\n",
       "\n",
       "    .dataframe tbody tr th {\n",
       "        vertical-align: top;\n",
       "    }\n",
       "\n",
       "    .dataframe thead th {\n",
       "        text-align: right;\n",
       "    }\n",
       "</style>\n",
       "<table border=\"1\" class=\"dataframe\">\n",
       "  <thead>\n",
       "    <tr style=\"text-align: right;\">\n",
       "      <th></th>\n",
       "      <th>extree</th>\n",
       "      <th>logreg</th>\n",
       "      <th>svm</th>\n",
       "      <th>xgboost</th>\n",
       "      <th>nb</th>\n",
       "      <th>randforest</th>\n",
       "      <th>dectree</th>\n",
       "      <th>knn</th>\n",
       "    </tr>\n",
       "  </thead>\n",
       "  <tbody>\n",
       "    <tr>\n",
       "      <th>accuracy</th>\n",
       "      <td>69.750000</td>\n",
       "      <td>69.000000</td>\n",
       "      <td>68.250000</td>\n",
       "      <td>67.333333</td>\n",
       "      <td>67.250000</td>\n",
       "      <td>61.833333</td>\n",
       "      <td>57.416667</td>\n",
       "      <td>58.00000</td>\n",
       "    </tr>\n",
       "    <tr>\n",
       "      <th>f1 score</th>\n",
       "      <td>69.617285</td>\n",
       "      <td>68.935094</td>\n",
       "      <td>68.117936</td>\n",
       "      <td>67.275189</td>\n",
       "      <td>67.104054</td>\n",
       "      <td>61.629309</td>\n",
       "      <td>57.045919</td>\n",
       "      <td>56.47433</td>\n",
       "    </tr>\n",
       "  </tbody>\n",
       "</table>\n",
       "</div>"
      ],
      "text/plain": [
       "             extree     logreg        svm    xgboost         nb  randforest  \\\n",
       "accuracy  69.750000  69.000000  68.250000  67.333333  67.250000   61.833333   \n",
       "f1 score  69.617285  68.935094  68.117936  67.275189  67.104054   61.629309   \n",
       "\n",
       "            dectree       knn  \n",
       "accuracy  57.416667  58.00000  \n",
       "f1 score  57.045919  56.47433  "
      ]
     },
     "execution_count": 53,
     "metadata": {},
     "output_type": "execute_result"
    }
   ],
   "source": [
    "# norm8 tweets\n",
    "metrics_df = pd.DataFrame.from_dict(logs[labels[0]]['metrics'])\n",
    "metrics_df.sort_values(by=['f1 score'], axis=1, ascending=False, inplace=False)"
   ]
  },
  {
   "cell_type": "code",
   "execution_count": 54,
   "metadata": {},
   "outputs": [
    {
     "data": {
      "text/html": [
       "<div>\n",
       "<style scoped>\n",
       "    .dataframe tbody tr th:only-of-type {\n",
       "        vertical-align: middle;\n",
       "    }\n",
       "\n",
       "    .dataframe tbody tr th {\n",
       "        vertical-align: top;\n",
       "    }\n",
       "\n",
       "    .dataframe thead th {\n",
       "        text-align: right;\n",
       "    }\n",
       "</style>\n",
       "<table border=\"1\" class=\"dataframe\">\n",
       "  <thead>\n",
       "    <tr style=\"text-align: right;\">\n",
       "      <th></th>\n",
       "      <th>extree</th>\n",
       "      <th>svm</th>\n",
       "      <th>xgboost</th>\n",
       "      <th>logreg</th>\n",
       "      <th>nb</th>\n",
       "      <th>randforest</th>\n",
       "      <th>knn</th>\n",
       "      <th>dectree</th>\n",
       "    </tr>\n",
       "  </thead>\n",
       "  <tbody>\n",
       "    <tr>\n",
       "      <th>accuracy</th>\n",
       "      <td>69.750000</td>\n",
       "      <td>69.166667</td>\n",
       "      <td>67.833333</td>\n",
       "      <td>67.583333</td>\n",
       "      <td>67.500000</td>\n",
       "      <td>63.833333</td>\n",
       "      <td>58.083333</td>\n",
       "      <td>56.333333</td>\n",
       "    </tr>\n",
       "    <tr>\n",
       "      <th>f1 score</th>\n",
       "      <td>69.625499</td>\n",
       "      <td>69.035981</td>\n",
       "      <td>67.787145</td>\n",
       "      <td>67.449807</td>\n",
       "      <td>67.353621</td>\n",
       "      <td>63.781453</td>\n",
       "      <td>56.581430</td>\n",
       "      <td>56.261545</td>\n",
       "    </tr>\n",
       "  </tbody>\n",
       "</table>\n",
       "</div>"
      ],
      "text/plain": [
       "             extree        svm    xgboost     logreg         nb  randforest  \\\n",
       "accuracy  69.750000  69.166667  67.833333  67.583333  67.500000   63.833333   \n",
       "f1 score  69.625499  69.035981  67.787145  67.449807  67.353621   63.781453   \n",
       "\n",
       "                knn    dectree  \n",
       "accuracy  58.083333  56.333333  \n",
       "f1 score  56.581430  56.261545  "
      ]
     },
     "execution_count": 54,
     "metadata": {},
     "output_type": "execute_result"
    }
   ],
   "source": [
    "# norm13 tweets\n",
    "metrics_df = pd.DataFrame.from_dict(logs[labels[1]]['metrics'])\n",
    "metrics_df.sort_values(by=['f1 score'], axis=1, ascending=False, inplace=False)"
   ]
  },
  {
   "cell_type": "code",
   "execution_count": 55,
   "metadata": {},
   "outputs": [
    {
     "data": {
      "text/html": [
       "<div>\n",
       "<style scoped>\n",
       "    .dataframe tbody tr th:only-of-type {\n",
       "        vertical-align: middle;\n",
       "    }\n",
       "\n",
       "    .dataframe tbody tr th {\n",
       "        vertical-align: top;\n",
       "    }\n",
       "\n",
       "    .dataframe thead th {\n",
       "        text-align: right;\n",
       "    }\n",
       "</style>\n",
       "<table border=\"1\" class=\"dataframe\">\n",
       "  <thead>\n",
       "    <tr style=\"text-align: right;\">\n",
       "      <th></th>\n",
       "      <th>svm</th>\n",
       "      <th>logreg</th>\n",
       "      <th>extree</th>\n",
       "      <th>xgboost</th>\n",
       "      <th>nb</th>\n",
       "      <th>randforest</th>\n",
       "      <th>dectree</th>\n",
       "      <th>knn</th>\n",
       "    </tr>\n",
       "  </thead>\n",
       "  <tbody>\n",
       "    <tr>\n",
       "      <th>accuracy</th>\n",
       "      <td>69.666667</td>\n",
       "      <td>69.166667</td>\n",
       "      <td>68.833333</td>\n",
       "      <td>68.333333</td>\n",
       "      <td>66.583333</td>\n",
       "      <td>62.916667</td>\n",
       "      <td>58.25000</td>\n",
       "      <td>59.166667</td>\n",
       "    </tr>\n",
       "    <tr>\n",
       "      <th>f1 score</th>\n",
       "      <td>69.549540</td>\n",
       "      <td>69.048097</td>\n",
       "      <td>68.696350</td>\n",
       "      <td>68.279377</td>\n",
       "      <td>66.542296</td>\n",
       "      <td>62.797846</td>\n",
       "      <td>58.23008</td>\n",
       "      <td>57.803304</td>\n",
       "    </tr>\n",
       "  </tbody>\n",
       "</table>\n",
       "</div>"
      ],
      "text/plain": [
       "                svm     logreg     extree    xgboost         nb  randforest  \\\n",
       "accuracy  69.666667  69.166667  68.833333  68.333333  66.583333   62.916667   \n",
       "f1 score  69.549540  69.048097  68.696350  68.279377  66.542296   62.797846   \n",
       "\n",
       "           dectree        knn  \n",
       "accuracy  58.25000  59.166667  \n",
       "f1 score  58.23008  57.803304  "
      ]
     },
     "execution_count": 55,
     "metadata": {},
     "output_type": "execute_result"
    }
   ],
   "source": [
    "# norm16 tweets\n",
    "metrics_df = pd.DataFrame.from_dict(logs[labels[2]]['metrics'])\n",
    "metrics_df.sort_values(by=['f1 score'], axis=1, ascending=False, inplace=False)"
   ]
  },
  {
   "cell_type": "code",
   "execution_count": 56,
   "metadata": {
    "id": "DLob-AnrX13m"
   },
   "outputs": [],
   "source": [
    "stacked_estimators = [\n",
    "                      ('xgb', XGBClassifier(max_depth = optimal_xgb_depth, n_estimators = 250, random_state = SEED)),\n",
    "                      ('et', ExtraTreesClassifier(max_depth = optimal_et_depth, n_estimators = 250, random_state = SEED)),\n",
    "                      ('svm', SVC(C = 1, gamma = 1, kernel = 'rbf')),\n",
    "                      ('nb', MultinomialNB(alpha = 1))\n",
    "                     ]"
   ]
  },
  {
   "cell_type": "code",
   "execution_count": 57,
   "metadata": {
    "id": "JKMv-kCrX16Y"
   },
   "outputs": [],
   "source": [
    "final_est = LogisticRegression(solver = 'saga', multi_class = 'multinomial', random_state = SEED)\n",
    "stacked_clf = StackingClassifier(estimators = stacked_estimators,\n",
    "                                final_estimator = final_est,\n",
    "                                n_jobs = 1)"
   ]
  },
  {
   "cell_type": "code",
   "execution_count": 58,
   "metadata": {
    "colab": {
     "base_uri": "https://localhost:8080/"
    },
    "id": "NpxhQETve7ym",
    "outputId": "f5385b9f-e9c0-491c-82cd-032150152de2"
   },
   "outputs": [
    {
     "name": "stdout",
     "output_type": "stream",
     "text": [
      "Accuracy Score: 70.5%\n",
      "F1 Score: 70.42393881829015%\n"
     ]
    }
   ],
   "source": [
    "stacked_clf.fit(X_train_dtm13, y_train_encoded)\n",
    "y_pred_encoded = stacked_clf.predict(X_test_dtm13)\n",
    "y_pred = le.inverse_transform(y_pred_encoded)\n",
    "\n",
    "acc = accuracy_score(y_test, y_pred) * 100\n",
    "f1 = f1_score(y_test, y_pred, average='weighted') * 100\n",
    "\n",
    "print('Accuracy Score: ', acc, '%', sep='')\n",
    "print('F1 Score: ', f1, '%', sep='')"
   ]
  },
  {
   "cell_type": "code",
   "execution_count": 59,
   "metadata": {
    "colab": {
     "base_uri": "https://localhost:8080/",
     "height": 439
    },
    "id": "dRf7ystQfCOs",
    "outputId": "3bf001eb-c932-4ae0-ba2b-73db3f0ec58e"
   },
   "outputs": [
    {
     "name": "stdout",
     "output_type": "stream",
     "text": [
      "              precision    recall  f1-score   support\n",
      "\n",
      "    NEGATIVE       0.68      0.76      0.72       386\n",
      "     NEUTRAL       0.71      0.72      0.72       424\n",
      "    POSITIVE       0.72      0.64      0.68       390\n",
      "\n",
      "    accuracy                           0.70      1200\n",
      "   macro avg       0.71      0.70      0.70      1200\n",
      "weighted avg       0.71      0.70      0.70      1200\n",
      "\n"
     ]
    },
    {
     "data": {
      "image/png": "[encoded data removed]",
      "text/plain": [
       "<Figure size 432x288 with 2 Axes>"
      ]
     },
     "metadata": {
      "needs_background": "light"
     },
     "output_type": "display_data"
    }
   ],
   "source": [
    "show_metrics(y_test, y_pred)"
   ]
  },
  {
   "cell_type": "code",
   "execution_count": 60,
   "metadata": {
    "id": "JqZC0d8qvm1R"
   },
   "outputs": [],
   "source": [
    "# Store results\n",
    "logs[labels[1]]['models']['stacked'] = list(y_pred)\n",
    "logs[labels[1]]['metrics']['stacked'] = {'accuracy': acc, 'f1 score': f1}"
   ]
  },
  {
   "cell_type": "code",
   "execution_count": null,
   "metadata": {
    "id": "a-xesSkUxu0E"
   },
   "outputs": [],
   "source": []
  },
  {
   "cell_type": "markdown",
   "metadata": {
    "id": "UZmQp80hTzzn"
   },
   "source": [
    "# Discussion"
   ]
  },
  {
   "cell_type": "markdown",
   "metadata": {
    "id": "e56VTcjNUa8G"
   },
   "source": [
    "### Experiment Findings"
   ]
  },
  {
   "cell_type": "code",
   "execution_count": 61,
   "metadata": {
    "colab": {
     "base_uri": "https://localhost:8080/"
    },
    "id": "v_RaWeX3Udgj",
    "outputId": "839616c6-980b-40f9-daa9-756b7e46ba32"
   },
   "outputs": [
    {
     "data": {
      "text/html": [
       "<div>\n",
       "<style scoped>\n",
       "    .dataframe tbody tr th:only-of-type {\n",
       "        vertical-align: middle;\n",
       "    }\n",
       "\n",
       "    .dataframe tbody tr th {\n",
       "        vertical-align: top;\n",
       "    }\n",
       "\n",
       "    .dataframe thead th {\n",
       "        text-align: right;\n",
       "    }\n",
       "</style>\n",
       "<table border=\"1\" class=\"dataframe\">\n",
       "  <thead>\n",
       "    <tr style=\"text-align: right;\">\n",
       "      <th></th>\n",
       "      <th>tweet</th>\n",
       "      <th>label_1</th>\n",
       "      <th>label_2</th>\n",
       "      <th>label_3</th>\n",
       "      <th>final_label</th>\n",
       "      <th>index</th>\n",
       "      <th>len8_tweet</th>\n",
       "      <th>norm8_tweet</th>\n",
       "      <th>len13_tweet</th>\n",
       "      <th>norm13_tweet</th>\n",
       "      <th>...</th>\n",
       "      <th>y_test</th>\n",
       "      <th>knn</th>\n",
       "      <th>logreg</th>\n",
       "      <th>nb</th>\n",
       "      <th>svm</th>\n",
       "      <th>dectree</th>\n",
       "      <th>extree</th>\n",
       "      <th>randforest</th>\n",
       "      <th>xgboost</th>\n",
       "      <th>stacked</th>\n",
       "    </tr>\n",
       "  </thead>\n",
       "  <tbody>\n",
       "    <tr>\n",
       "      <th>0</th>\n",
       "      <td>iphone features appleevent you must buy it</td>\n",
       "      <td>POSITIVE</td>\n",
       "      <td>POSITIVE</td>\n",
       "      <td>POSITIVE</td>\n",
       "      <td>POSITIVE</td>\n",
       "      <td>9</td>\n",
       "      <td>iphone features appleevent you must buy it</td>\n",
       "      <td>iphone features appleevent you must buy it</td>\n",
       "      <td>iphone features appleevent you must buy it</td>\n",
       "      <td>iphone features appleevent you must buy it</td>\n",
       "      <td>...</td>\n",
       "      <td>POSITIVE</td>\n",
       "      <td>NEUTRAL</td>\n",
       "      <td>POSITIVE</td>\n",
       "      <td>POSITIVE</td>\n",
       "      <td>POSITIVE</td>\n",
       "      <td>POSITIVE</td>\n",
       "      <td>POSITIVE</td>\n",
       "      <td>POSITIVE</td>\n",
       "      <td>POSITIVE</td>\n",
       "      <td>POSITIVE</td>\n",
       "    </tr>\n",
       "    <tr>\n",
       "      <th>1</th>\n",
       "      <td>hey this is real dope appleevent</td>\n",
       "      <td>POSITIVE</td>\n",
       "      <td>POSITIVE</td>\n",
       "      <td>POSITIVE</td>\n",
       "      <td>POSITIVE</td>\n",
       "      <td>12</td>\n",
       "      <td>hey this is real dope appleevent</td>\n",
       "      <td>hey this is real dope appleevent</td>\n",
       "      <td>hey this is real dope appleevent</td>\n",
       "      <td>hey this is real dope appleevent</td>\n",
       "      <td>...</td>\n",
       "      <td>POSITIVE</td>\n",
       "      <td>POSITIVE</td>\n",
       "      <td>POSITIVE</td>\n",
       "      <td>POSITIVE</td>\n",
       "      <td>POSITIVE</td>\n",
       "      <td>POSITIVE</td>\n",
       "      <td>POSITIVE</td>\n",
       "      <td>POSITIVE</td>\n",
       "      <td>POSITIVE</td>\n",
       "      <td>POSITIVE</td>\n",
       "    </tr>\n",
       "    <tr>\n",
       "      <th>2</th>\n",
       "      <td>thank you so much for this amazing opportunity</td>\n",
       "      <td>POSITIVE</td>\n",
       "      <td>POSITIVE</td>\n",
       "      <td>POSITIVE</td>\n",
       "      <td>POSITIVE</td>\n",
       "      <td>14</td>\n",
       "      <td>thank you so much for this amazing opportunity</td>\n",
       "      <td>thank you so much for this amazing opportunity</td>\n",
       "      <td>thank you so much for this amazing opportunity</td>\n",
       "      <td>thank you so much for this amazing opportunity</td>\n",
       "      <td>...</td>\n",
       "      <td>POSITIVE</td>\n",
       "      <td>POSITIVE</td>\n",
       "      <td>POSITIVE</td>\n",
       "      <td>POSITIVE</td>\n",
       "      <td>POSITIVE</td>\n",
       "      <td>POSITIVE</td>\n",
       "      <td>POSITIVE</td>\n",
       "      <td>POSITIVE</td>\n",
       "      <td>POSITIVE</td>\n",
       "      <td>POSITIVE</td>\n",
       "    </tr>\n",
       "    <tr>\n",
       "      <th>3</th>\n",
       "      <td>top best laptops for nursing school students</td>\n",
       "      <td>POSITIVE</td>\n",
       "      <td>POSITIVE</td>\n",
       "      <td>POSITIVE</td>\n",
       "      <td>POSITIVE</td>\n",
       "      <td>17</td>\n",
       "      <td>top best laptops for nursing school students</td>\n",
       "      <td>top best laptops for nursing school students</td>\n",
       "      <td>top best laptops for nursing school students</td>\n",
       "      <td>top best laptops for nursing school students</td>\n",
       "      <td>...</td>\n",
       "      <td>POSITIVE</td>\n",
       "      <td>POSITIVE</td>\n",
       "      <td>POSITIVE</td>\n",
       "      <td>POSITIVE</td>\n",
       "      <td>POSITIVE</td>\n",
       "      <td>POSITIVE</td>\n",
       "      <td>POSITIVE</td>\n",
       "      <td>POSITIVE</td>\n",
       "      <td>POSITIVE</td>\n",
       "      <td>POSITIVE</td>\n",
       "    </tr>\n",
       "    <tr>\n",
       "      <th>4</th>\n",
       "      <td>thoughtsol and apple together bring you the al...</td>\n",
       "      <td>POSITIVE</td>\n",
       "      <td>POSITIVE</td>\n",
       "      <td>POSITIVE</td>\n",
       "      <td>POSITIVE</td>\n",
       "      <td>18</td>\n",
       "      <td>thoughtsol apple together bring new apple watc...</td>\n",
       "      <td>thoughtsol apple together bring new apple watc...</td>\n",
       "      <td>thoughtsol and apple together bring you the al...</td>\n",
       "      <td>thoughtsol and apple together bring you the al...</td>\n",
       "      <td>...</td>\n",
       "      <td>POSITIVE</td>\n",
       "      <td>NEUTRAL</td>\n",
       "      <td>NEGATIVE</td>\n",
       "      <td>NEUTRAL</td>\n",
       "      <td>POSITIVE</td>\n",
       "      <td>POSITIVE</td>\n",
       "      <td>POSITIVE</td>\n",
       "      <td>POSITIVE</td>\n",
       "      <td>POSITIVE</td>\n",
       "      <td>POSITIVE</td>\n",
       "    </tr>\n",
       "  </tbody>\n",
       "</table>\n",
       "<p>5 rows × 23 columns</p>\n",
       "</div>"
      ],
      "text/plain": [
       "                                               tweet   label_1   label_2  \\\n",
       "0         iphone features appleevent you must buy it  POSITIVE  POSITIVE   \n",
       "1                   hey this is real dope appleevent  POSITIVE  POSITIVE   \n",
       "2     thank you so much for this amazing opportunity  POSITIVE  POSITIVE   \n",
       "3       top best laptops for nursing school students  POSITIVE  POSITIVE   \n",
       "4  thoughtsol and apple together bring you the al...  POSITIVE  POSITIVE   \n",
       "\n",
       "    label_3 final_label  index  \\\n",
       "0  POSITIVE    POSITIVE      9   \n",
       "1  POSITIVE    POSITIVE     12   \n",
       "2  POSITIVE    POSITIVE     14   \n",
       "3  POSITIVE    POSITIVE     17   \n",
       "4  POSITIVE    POSITIVE     18   \n",
       "\n",
       "                                          len8_tweet  \\\n",
       "0         iphone features appleevent you must buy it   \n",
       "1                   hey this is real dope appleevent   \n",
       "2     thank you so much for this amazing opportunity   \n",
       "3       top best laptops for nursing school students   \n",
       "4  thoughtsol apple together bring new apple watc...   \n",
       "\n",
       "                                         norm8_tweet  \\\n",
       "0         iphone features appleevent you must buy it   \n",
       "1                   hey this is real dope appleevent   \n",
       "2     thank you so much for this amazing opportunity   \n",
       "3       top best laptops for nursing school students   \n",
       "4  thoughtsol apple together bring new apple watc...   \n",
       "\n",
       "                                         len13_tweet  \\\n",
       "0         iphone features appleevent you must buy it   \n",
       "1                   hey this is real dope appleevent   \n",
       "2     thank you so much for this amazing opportunity   \n",
       "3       top best laptops for nursing school students   \n",
       "4  thoughtsol and apple together bring you the al...   \n",
       "\n",
       "                                        norm13_tweet  ...    y_test       knn  \\\n",
       "0         iphone features appleevent you must buy it  ...  POSITIVE   NEUTRAL   \n",
       "1                   hey this is real dope appleevent  ...  POSITIVE  POSITIVE   \n",
       "2     thank you so much for this amazing opportunity  ...  POSITIVE  POSITIVE   \n",
       "3       top best laptops for nursing school students  ...  POSITIVE  POSITIVE   \n",
       "4  thoughtsol and apple together bring you the al...  ...  POSITIVE   NEUTRAL   \n",
       "\n",
       "     logreg        nb       svm   dectree    extree randforest   xgboost  \\\n",
       "0  POSITIVE  POSITIVE  POSITIVE  POSITIVE  POSITIVE   POSITIVE  POSITIVE   \n",
       "1  POSITIVE  POSITIVE  POSITIVE  POSITIVE  POSITIVE   POSITIVE  POSITIVE   \n",
       "2  POSITIVE  POSITIVE  POSITIVE  POSITIVE  POSITIVE   POSITIVE  POSITIVE   \n",
       "3  POSITIVE  POSITIVE  POSITIVE  POSITIVE  POSITIVE   POSITIVE  POSITIVE   \n",
       "4  NEGATIVE   NEUTRAL  POSITIVE  POSITIVE  POSITIVE   POSITIVE  POSITIVE   \n",
       "\n",
       "    stacked  \n",
       "0  POSITIVE  \n",
       "1  POSITIVE  \n",
       "2  POSITIVE  \n",
       "3  POSITIVE  \n",
       "4  POSITIVE  \n",
       "\n",
       "[5 rows x 23 columns]"
      ]
     },
     "execution_count": 61,
     "metadata": {},
     "output_type": "execute_result"
    }
   ],
   "source": [
    "# View test dataset with model results\n",
    "findings_df = pd.DataFrame.from_dict(logs[labels[1]]['models'])\n",
    "findings_df = pd.merge(overall_df, findings_df, left_on='index', right_on='index')\n",
    "findings_df.head()"
   ]
  },
  {
   "cell_type": "code",
   "execution_count": 62,
   "metadata": {
    "colab": {
     "base_uri": "https://localhost:8080/",
     "height": 112
    },
    "id": "V2VOKCVXtOoX",
    "outputId": "1eeeeac5-d4bb-44ae-daef-bd520876e65f"
   },
   "outputs": [
    {
     "data": {
      "text/html": [
       "<div>\n",
       "<style scoped>\n",
       "    .dataframe tbody tr th:only-of-type {\n",
       "        vertical-align: middle;\n",
       "    }\n",
       "\n",
       "    .dataframe tbody tr th {\n",
       "        vertical-align: top;\n",
       "    }\n",
       "\n",
       "    .dataframe thead th {\n",
       "        text-align: right;\n",
       "    }\n",
       "</style>\n",
       "<table border=\"1\" class=\"dataframe\">\n",
       "  <thead>\n",
       "    <tr style=\"text-align: right;\">\n",
       "      <th></th>\n",
       "      <th>stacked</th>\n",
       "      <th>extree</th>\n",
       "      <th>svm</th>\n",
       "      <th>xgboost</th>\n",
       "      <th>logreg</th>\n",
       "      <th>nb</th>\n",
       "      <th>randforest</th>\n",
       "      <th>knn</th>\n",
       "      <th>dectree</th>\n",
       "    </tr>\n",
       "  </thead>\n",
       "  <tbody>\n",
       "    <tr>\n",
       "      <th>accuracy</th>\n",
       "      <td>70.500000</td>\n",
       "      <td>69.750000</td>\n",
       "      <td>69.166667</td>\n",
       "      <td>67.833333</td>\n",
       "      <td>67.583333</td>\n",
       "      <td>67.500000</td>\n",
       "      <td>63.833333</td>\n",
       "      <td>58.083333</td>\n",
       "      <td>56.333333</td>\n",
       "    </tr>\n",
       "    <tr>\n",
       "      <th>f1 score</th>\n",
       "      <td>70.423939</td>\n",
       "      <td>69.625499</td>\n",
       "      <td>69.035981</td>\n",
       "      <td>67.787145</td>\n",
       "      <td>67.449807</td>\n",
       "      <td>67.353621</td>\n",
       "      <td>63.781453</td>\n",
       "      <td>56.581430</td>\n",
       "      <td>56.261545</td>\n",
       "    </tr>\n",
       "  </tbody>\n",
       "</table>\n",
       "</div>"
      ],
      "text/plain": [
       "            stacked     extree        svm    xgboost     logreg         nb  \\\n",
       "accuracy  70.500000  69.750000  69.166667  67.833333  67.583333  67.500000   \n",
       "f1 score  70.423939  69.625499  69.035981  67.787145  67.449807  67.353621   \n",
       "\n",
       "          randforest        knn    dectree  \n",
       "accuracy   63.833333  58.083333  56.333333  \n",
       "f1 score   63.781453  56.581430  56.261545  "
      ]
     },
     "execution_count": 62,
     "metadata": {},
     "output_type": "execute_result"
    }
   ],
   "source": [
    "# Sort base on f1 score\n",
    "metrics_df = pd.DataFrame.from_dict(logs[labels[1]]['metrics'])\n",
    "metrics_df.sort_values(by=['f1 score'], axis=1, ascending=False, inplace=False)"
   ]
  },
  {
   "cell_type": "markdown",
   "metadata": {
    "id": "N_2VGSOUUegK"
   },
   "source": [
    "### Error Analysis"
   ]
  },
  {
   "cell_type": "code",
   "execution_count": 63,
   "metadata": {
    "colab": {
     "base_uri": "https://localhost:8080/",
     "height": 502
    },
    "id": "QBVR6DdBwx31",
    "outputId": "762818ab-6570-41b8-9ffa-bbbe1a043114",
    "scrolled": false
   },
   "outputs": [],
   "source": [
    "# Find differences between actual & predicted by our best classifier\n",
    "error_df = findings_df.loc[~(findings_df['y_test'] == findings_df['stacked'])]"
   ]
  },
  {
   "cell_type": "code",
   "execution_count": 64,
   "metadata": {},
   "outputs": [
    {
     "data": {
      "text/plain": [
       "Text(0.5, 1.0, 'Sentence Length Distribution in Error Dataset')"
      ]
     },
     "execution_count": 64,
     "metadata": {},
     "output_type": "execute_result"
    },
    {
     "data": {
      "image/png": "[encoded data removed]",
      "text/plain": [
       "<Figure size 864x432 with 1 Axes>"
      ]
     },
     "metadata": {
      "needs_background": "light"
     },
     "output_type": "display_data"
    }
   ],
   "source": [
    "# Bar graph visualisation of word count distribution\n",
    "plt.figure(figsize=(12,6))\n",
    "sns.histplot([len(s.split(' ')) for s in error_df['X_test']], bins=100)\n",
    "plt.xlabel(\"Number of Words\")\n",
    "plt.ylabel(\"Count\")\n",
    "plt.title(\"Sentence Length Distribution in Error Dataset\")"
   ]
  },
  {
   "cell_type": "code",
   "execution_count": 65,
   "metadata": {
    "id": "Jh5d-1EokIn5",
    "scrolled": false
   },
   "outputs": [
    {
     "data": {
      "text/html": [
       "<div>\n",
       "<style scoped>\n",
       "    .dataframe tbody tr th:only-of-type {\n",
       "        vertical-align: middle;\n",
       "    }\n",
       "\n",
       "    .dataframe tbody tr th {\n",
       "        vertical-align: top;\n",
       "    }\n",
       "\n",
       "    .dataframe thead th {\n",
       "        text-align: right;\n",
       "    }\n",
       "</style>\n",
       "<table border=\"1\" class=\"dataframe\">\n",
       "  <thead>\n",
       "    <tr style=\"text-align: right;\">\n",
       "      <th></th>\n",
       "      <th>tweet</th>\n",
       "      <th>X_test</th>\n",
       "      <th>y_test</th>\n",
       "      <th>stacked</th>\n",
       "      <th>short_tweet</th>\n",
       "    </tr>\n",
       "  </thead>\n",
       "  <tbody>\n",
       "    <tr>\n",
       "      <th>8</th>\n",
       "      <td>dominating the news this week here iphone</td>\n",
       "      <td>dominating the news this week here iphone</td>\n",
       "      <td>POSITIVE</td>\n",
       "      <td>NEUTRAL</td>\n",
       "      <td>True</td>\n",
       "    </tr>\n",
       "    <tr>\n",
       "      <th>22</th>\n",
       "      <td>macbook air schematic wallpapers appleevent</td>\n",
       "      <td>macbook air schematic wallpapers appleevent</td>\n",
       "      <td>POSITIVE</td>\n",
       "      <td>NEUTRAL</td>\n",
       "      <td>True</td>\n",
       "    </tr>\n",
       "    <tr>\n",
       "      <th>33</th>\n",
       "      <td>finally iphonepro is here appleevent iphone</td>\n",
       "      <td>finally iphonepro is here appleevent iphone</td>\n",
       "      <td>POSITIVE</td>\n",
       "      <td>NEUTRAL</td>\n",
       "      <td>True</td>\n",
       "    </tr>\n",
       "    <tr>\n",
       "      <th>83</th>\n",
       "      <td>testing the apple world applewatchseries</td>\n",
       "      <td>testing the apple world applewatchseries</td>\n",
       "      <td>POSITIVE</td>\n",
       "      <td>NEUTRAL</td>\n",
       "      <td>True</td>\n",
       "    </tr>\n",
       "    <tr>\n",
       "      <th>137</th>\n",
       "      <td>iphonepro get</td>\n",
       "      <td>iphonepro get</td>\n",
       "      <td>POSITIVE</td>\n",
       "      <td>NEUTRAL</td>\n",
       "      <td>True</td>\n",
       "    </tr>\n",
       "    <tr>\n",
       "      <th>...</th>\n",
       "      <td>...</td>\n",
       "      <td>...</td>\n",
       "      <td>...</td>\n",
       "      <td>...</td>\n",
       "      <td>...</td>\n",
       "    </tr>\n",
       "    <tr>\n",
       "      <th>1150</th>\n",
       "      <td>the iphone pro max too big</td>\n",
       "      <td>the iphone pro max too big</td>\n",
       "      <td>NEGATIVE</td>\n",
       "      <td>NEUTRAL</td>\n",
       "      <td>True</td>\n",
       "    </tr>\n",
       "    <tr>\n",
       "      <th>1164</th>\n",
       "      <td>sister just ordered iphone for me</td>\n",
       "      <td>sister just ordered iphone for me</td>\n",
       "      <td>NEUTRAL</td>\n",
       "      <td>NEGATIVE</td>\n",
       "      <td>True</td>\n",
       "    </tr>\n",
       "    <tr>\n",
       "      <th>1184</th>\n",
       "      <td>ima be dead honest tho iphonepro</td>\n",
       "      <td>ima be dead honest tho iphonepro</td>\n",
       "      <td>NEUTRAL</td>\n",
       "      <td>NEGATIVE</td>\n",
       "      <td>True</td>\n",
       "    </tr>\n",
       "    <tr>\n",
       "      <th>1192</th>\n",
       "      <td>no i want iphonepromax</td>\n",
       "      <td>no i want iphonepromax</td>\n",
       "      <td>POSITIVE</td>\n",
       "      <td>NEGATIVE</td>\n",
       "      <td>True</td>\n",
       "    </tr>\n",
       "    <tr>\n",
       "      <th>1196</th>\n",
       "      <td>oh fuck they here airpodspro</td>\n",
       "      <td>oh fuck they here airpodspro</td>\n",
       "      <td>POSITIVE</td>\n",
       "      <td>NEGATIVE</td>\n",
       "      <td>True</td>\n",
       "    </tr>\n",
       "  </tbody>\n",
       "</table>\n",
       "<p>62 rows × 5 columns</p>\n",
       "</div>"
      ],
      "text/plain": [
       "                                            tweet  \\\n",
       "8       dominating the news this week here iphone   \n",
       "22    macbook air schematic wallpapers appleevent   \n",
       "33    finally iphonepro is here appleevent iphone   \n",
       "83       testing the apple world applewatchseries   \n",
       "137                                 iphonepro get   \n",
       "...                                           ...   \n",
       "1150                   the iphone pro max too big   \n",
       "1164            sister just ordered iphone for me   \n",
       "1184             ima be dead honest tho iphonepro   \n",
       "1192                       no i want iphonepromax   \n",
       "1196                 oh fuck they here airpodspro   \n",
       "\n",
       "                                           X_test    y_test   stacked  \\\n",
       "8       dominating the news this week here iphone  POSITIVE   NEUTRAL   \n",
       "22    macbook air schematic wallpapers appleevent  POSITIVE   NEUTRAL   \n",
       "33    finally iphonepro is here appleevent iphone  POSITIVE   NEUTRAL   \n",
       "83       testing the apple world applewatchseries  POSITIVE   NEUTRAL   \n",
       "137                                 iphonepro get  POSITIVE   NEUTRAL   \n",
       "...                                           ...       ...       ...   \n",
       "1150                   the iphone pro max too big  NEGATIVE   NEUTRAL   \n",
       "1164            sister just ordered iphone for me   NEUTRAL  NEGATIVE   \n",
       "1184             ima be dead honest tho iphonepro   NEUTRAL  NEGATIVE   \n",
       "1192                       no i want iphonepromax  POSITIVE  NEGATIVE   \n",
       "1196                 oh fuck they here airpodspro  POSITIVE  NEGATIVE   \n",
       "\n",
       "      short_tweet  \n",
       "8            True  \n",
       "22           True  \n",
       "33           True  \n",
       "83           True  \n",
       "137          True  \n",
       "...           ...  \n",
       "1150         True  \n",
       "1164         True  \n",
       "1184         True  \n",
       "1192         True  \n",
       "1196         True  \n",
       "\n",
       "[62 rows x 5 columns]"
      ]
     },
     "execution_count": 65,
     "metadata": {},
     "output_type": "execute_result"
    }
   ],
   "source": [
    "# Eliminate errors for short normalized tweet length\n",
    "error_df['short_tweet'] = error_df['X_test'].apply(lambda x: len(x.split(' ')) < 8)\n",
    "error_df.loc[error_df['short_tweet'] == True][['tweet', 'X_test', 'y_test', 'stacked', 'short_tweet']]"
   ]
  },
  {
   "cell_type": "code",
   "execution_count": null,
   "metadata": {},
   "outputs": [],
   "source": []
  }
 ],
 "metadata": {
  "colab": {
   "collapsed_sections": [],
   "provenance": [],
   "toc_visible": true
  },
  "gpuClass": "standard",
  "kernelspec": {
   "display_name": "Python 3 (ipykernel)",
   "language": "python",
   "name": "python3"
  },
  "language_info": {
   "codemirror_mode": {
    "name": "ipython",
    "version": 3
   },
   "file_extension": ".py",
   "mimetype": "text/x-python",
   "name": "python",
   "nbconvert_exporter": "python",
   "pygments_lexer": "ipython3",
   "version": "3.9.7"
  }
 },
 "nbformat": 4,
 "nbformat_minor": 1
}
