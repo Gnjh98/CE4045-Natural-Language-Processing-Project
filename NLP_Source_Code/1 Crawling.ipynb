{
 "cells": [
  {
   "cell_type": "markdown",
   "metadata": {
    "id": "OMqmGRrF6Mg8"
   },
   "source": [
    "# Crawling\n"
   ]
  },
  {
   "cell_type": "markdown",
   "metadata": {
    "id": "V60GgwH_TLJo"
   },
   "source": [
    "### Import Packages"
   ]
  },
  {
   "cell_type": "code",
   "execution_count": 1,
   "metadata": {
    "id": "PjkC0zth6-XE"
   },
   "outputs": [
    {
     "name": "stdout",
     "output_type": "stream",
     "text": [
      "Requirement already satisfied: tweepy in c:\\users\\xiaoy\\anaconda3\\lib\\site-packages (4.12.0)\n",
      "Requirement already satisfied: requests-oauthlib<2,>=1.2.0 in c:\\users\\xiaoy\\anaconda3\\lib\\site-packages (from tweepy) (1.3.1)\n",
      "Requirement already satisfied: oauthlib<4,>=3.2.0 in c:\\users\\xiaoy\\anaconda3\\lib\\site-packages (from tweepy) (3.2.1)\n",
      "Requirement already satisfied: requests<3,>=2.27.0 in c:\\users\\xiaoy\\anaconda3\\lib\\site-packages (from tweepy) (2.28.1)\n",
      "Requirement already satisfied: certifi>=2017.4.17 in c:\\users\\xiaoy\\anaconda3\\lib\\site-packages (from requests<3,>=2.27.0->tweepy) (2021.10.8)\n",
      "Requirement already satisfied: idna<4,>=2.5 in c:\\users\\xiaoy\\anaconda3\\lib\\site-packages (from requests<3,>=2.27.0->tweepy) (3.2)\n",
      "Requirement already satisfied: urllib3<1.27,>=1.21.1 in c:\\users\\xiaoy\\anaconda3\\lib\\site-packages (from requests<3,>=2.27.0->tweepy) (1.26.7)\n",
      "Requirement already satisfied: charset-normalizer<3,>=2 in c:\\users\\xiaoy\\anaconda3\\lib\\site-packages (from requests<3,>=2.27.0->tweepy) (2.0.4)\n"
     ]
    }
   ],
   "source": [
    "!pip install tweepy\n",
    "\n",
    "import tweepy\n",
    "import os\n",
    "import re\n",
    "import csv\n",
    "import time\n",
    "import pandas as pd"
   ]
  },
  {
   "cell_type": "markdown",
   "metadata": {
    "id": "97pp0ceJ6-so"
   },
   "source": [
    "### Setting up Twitter API"
   ]
  },
  {
   "cell_type": "code",
   "execution_count": 2,
   "metadata": {
    "id": "d3-HT9AU9tTY"
   },
   "outputs": [],
   "source": [
    "# Get consumer key and access token from Twitter Developer\n",
    "consumer_key = \"M0eiALNWB6wljYsZYf1i958EU\"\n",
    "consumer_secret_key = \"ioy7eRCAhJbyPbhIosr9PmhSkcPeIa0Rn0ou8RW2Ps0IGmsglR\"\n",
    "access_token = \"1565713367733415936-YJernPdytGnHgtyT0JJ3aANOqigIlB\"\n",
    "access_secret = \"OIuwmWoEoNRaR6rtfB9b9zmlT4QRVVIbrDmO2Iuy02LdH\""
   ]
  },
  {
   "cell_type": "code",
   "execution_count": 3,
   "metadata": {
    "id": "jp86i4499tVZ"
   },
   "outputs": [],
   "source": [
    "# Authenticate\n",
    "authentication = tweepy.OAuthHandler(consumer_key, consumer_secret_key)\n",
    "authentication.set_access_token(access_token, access_secret)\n",
    "api = tweepy.API(authentication, wait_on_rate_limit=True)"
   ]
  },
  {
   "cell_type": "code",
   "execution_count": 4,
   "metadata": {
    "id": "SbqQKJZ-9tXt"
   },
   "outputs": [],
   "source": [
    "# Initialize number of tweets and hashtags\n",
    "tweetsPerQry = 90 # tweets per data request according to API: 100\n",
    "maxTweets = 2000\n",
    "hashtags = [\"AppleEvent\", \"AppleEvent2022\", \"iPhone14\", \"iPhone14Pro\", \"iPhone14ProMax\", \"AirPodspro\", \"AirPodspro2\", \"AppleWatch\", \"AppleWatchUltra\", \"AppleWatchSeries8\", \"AppleWatchSE\"]"
   ]
  },
  {
   "cell_type": "markdown",
   "metadata": {
    "id": "zAWpF67Cr1ot"
   },
   "source": [
    "### Data Pre-processing using Regex"
   ]
  },
  {
   "cell_type": "code",
   "execution_count": 5,
   "metadata": {
    "id": "bdEv3vbr6PD_"
   },
   "outputs": [],
   "source": [
    "# Replace new line in tweets\n",
    "def replaceNewLine(tweet):\n",
    "    return tweet.full_text.replace('\\n', ' ').encode(\"utf-8\").decode(\"utf-8\")\n",
    "\n",
    "# Remove tweets with hyperlinks\n",
    "def removeHyperlink(tweet):\n",
    "    return re.sub(r'https?:\\/\\/.*[\\r\\n]*', '', tweet)\n",
    "\n",
    "# Remove retweet text \"RT\"\n",
    "def removeRT(tweet):\n",
    "    return re.sub(r'RT @[^\\s]+: ', '', tweet)\n",
    "\n",
    "# Remove user directs\n",
    "def removeUser(tweet):\n",
    "    return re.sub(r'@[^\\s]+', '', tweet)\n",
    "\n",
    "# Remove punctuations\n",
    "def removePunctuations(tweet):\n",
    "    return re.sub(r'[^\\w\\s]', '', tweet)\n",
    "\n",
    "# Remove emojis\n",
    "def removeEmoji(tweet):\n",
    "    emoji_pattern = re.compile(\"[\"\n",
    "        u\"\\U0001F600-\\U0001F64F\"  # emoticons\n",
    "        u\"\\U0001F300-\\U0001F5FF\"  # symbols & pictographs\n",
    "        u\"\\U0001F680-\\U0001F6FF\"  # transport & map symbols\n",
    "        u\"\\U0001F1E0-\\U0001F1FF\"  # flags (iOS)\n",
    "        u\"\\U0001F1F2-\\U0001F1F4\"  # Macau flag\n",
    "        u\"\\U0001F1E6-\\U0001F1FF\"  # flags\n",
    "        u\"\\U0001F600-\\U0001F64F\"\n",
    "        u\"\\U00002702-\\U000027B0\"\n",
    "        u\"\\U000024C2-\\U0001F251\"\n",
    "        u\"\\U0001f926-\\U0001f937\"\n",
    "        u\"\\U0001F1F2\"\n",
    "        u\"\\U0001F1F4\"\n",
    "        u\"\\U0001F620\"\n",
    "        u\"\\u200d\"\n",
    "        u\"\\u2640-\\u2642\"\n",
    "        \"]+\", flags=re.UNICODE)\n",
    "\n",
    "    return emoji_pattern.sub('', tweet)\n",
    "\n",
    "# Remove hashtag in front of word\n",
    "def removeHashtag(tweet):\n",
    "    return re.sub(r'#', '', tweet)\n",
    "\n",
    "# Remove numbers\n",
    "def removeNumbers(tweet):\n",
    "    return re.sub(r'[0-9]', '', tweet)\n",
    "\n",
    "# Remove additional space\n",
    "def removeAdditionalSpace(tweet):\n",
    "    return re.sub(r'\\s+', ' ', tweet)\n",
    "\n",
    "# Data pre-processing\n",
    "def dataPreprocessing(tweet):\n",
    "    tweet = removeEmoji(tweet)\n",
    "    tweet = removeHyperlink(tweet)\n",
    "    tweet = removeRT(tweet)\n",
    "    tweet = removeUser(tweet)\n",
    "    tweet = removeHashtag(tweet)\n",
    "    tweet = removePunctuations(tweet)\n",
    "    tweet = removeNumbers(tweet)\n",
    "    tweet = removeAdditionalSpace(tweet)\n",
    "\n",
    "    return tweet.lower().strip() # lowercase all words"
   ]
  },
  {
   "cell_type": "markdown",
   "metadata": {
    "id": "E5LvDRX78dZ7"
   },
   "source": [
    "### Checking for Duplicates"
   ]
  },
  {
   "cell_type": "code",
   "execution_count": 6,
   "metadata": {
    "id": "hNOckydD8ebk"
   },
   "outputs": [],
   "source": [
    "# Check if duplicate\n",
    "def hasDuplicate(tweet, allTweets):\n",
    "    for i in allTweets:\n",
    "        if tweet == i[0]:\n",
    "            return True\n",
    "    return False"
   ]
  },
  {
   "cell_type": "markdown",
   "metadata": {
    "id": "eu0Xaa8Wdj4P"
   },
   "source": [
    "We will attempt to save the entire dataset in csv format for inspection and further processing if needed."
   ]
  },
  {
   "cell_type": "code",
   "execution_count": 7,
   "metadata": {
    "id": "x98LbfMS5YAW"
   },
   "outputs": [],
   "source": [
    "# Saving dataset as CSV\n",
    "def createCSV(filename, tweets):\n",
    "    with open('%s.csv' % (filename), 'w', encoding='utf-8') as file:\n",
    "        w = csv.writer(file)\n",
    "\n",
    "        w.writerows(tweets)\n",
    "        files.download(\"%s.csv\" % (filename))"
   ]
  },
  {
   "cell_type": "markdown",
   "metadata": {
    "id": "61i3GyoFd0vQ"
   },
   "source": [
    "Getting tweets for all hashtags."
   ]
  },
  {
   "cell_type": "code",
   "execution_count": 8,
   "metadata": {
    "id": "m8y-lGLf3Tzz"
   },
   "outputs": [
    {
     "name": "stdout",
     "output_type": "stream",
     "text": [
      "No more tweets for AppleEvent\n",
      "Number of tweets in #AppleEvent: 524\n",
      "No more tweets for AppleEvent2022\n",
      "Number of tweets in #AppleEvent2022: 495\n",
      "Number of tweets in #iPhone14: 2922\n",
      "Number of tweets in #iPhone14Pro: 2406\n",
      "Number of tweets in #iPhone14ProMax: 2848\n",
      "No more tweets for AirPodspro\n",
      "Number of tweets in #AirPodspro: 280\n",
      "No more tweets for AirPodspro2\n",
      "Number of tweets in #AirPodspro2: 381\n",
      "No more tweets for AppleWatch\n",
      "Number of tweets in #AppleWatch: 1482\n",
      "No more tweets for AppleWatchUltra\n",
      "Number of tweets in #AppleWatchUltra: 1457\n",
      "No more tweets for AppleWatchSeries8\n",
      "Number of tweets in #AppleWatchSeries8: 1053\n",
      "No more tweets for AppleWatchSE\n",
      "Number of tweets in #AppleWatchSE: 1509\n",
      "Total number of tweets:  15357\n"
     ]
    }
   ],
   "source": [
    "allTweets = [] # store tweets\n",
    "allTweetsCount = 0 # store tweets count\n",
    "\n",
    "for hashtag in hashtags:\n",
    "    tweetsCount = 0\n",
    "    maxId = -1 # keep track of tweet id to retrieve tweets sequentially\n",
    "\n",
    "    while tweetsCount < maxTweets:\n",
    "        if maxId <= 0:\n",
    "            newTweets = api.search(q = hashtag, count = tweetsPerQry, result_type = 'recent', tweet_mode = \"extended\", lang = \"en\")\n",
    "        else:\n",
    "            newTweets = api.search(q = hashtag, count = tweetsPerQry, max_id = str(maxId - 1), result_type = 'recent', tweet_mode = \"extended\", lang = \"en\")\n",
    "\n",
    "        if not newTweets:\n",
    "            print(\"No more tweets for {}\".format(hashtag))\n",
    "            break\n",
    "\n",
    "        # Data processing for each tweet received\n",
    "        for tweet in newTweets:\n",
    "            t = replaceNewLine(tweet) # replace new line in tweets\n",
    "            t = dataPreprocessing(t) # undergo a series of data manipulations\n",
    "            if not hasDuplicate(t, allTweets):\n",
    "                allTweets.append([t])\n",
    "            else:\n",
    "                tweetsCount -= 1\n",
    "            \n",
    "        tweetsCount += len(newTweets)\n",
    "        maxId = newTweets[-1].id\n",
    "        time.sleep(60*15) # sleep for 15 mins as near tweet limit for API call\n",
    "\n",
    "    print(\"Number of tweets in #{}: {}\".format(hashtag, tweetsCount))\n",
    "    allTweetsCount += tweetsCount\n",
    "\n",
    "createCSV(\"Original\", allTweets) \n",
    "print(\"Total number of tweets: \", allTweetsCount) "
   ]
  },
  {
   "cell_type": "markdown",
   "metadata": {},
   "source": [
    "### Viewing Scaped Data"
   ]
  },
  {
   "cell_type": "code",
   "execution_count": 9,
   "metadata": {},
   "outputs": [],
   "source": [
    "url = \"https://raw.githubusercontent.com/xiao-yangg/CE4045-NLP/main/original.csv\"\n",
    "\n",
    "df = pd.read_csv(url, encoding='latin')"
   ]
  },
  {
   "cell_type": "code",
   "execution_count": 10,
   "metadata": {},
   "outputs": [
    {
     "name": "stdout",
     "output_type": "stream",
     "text": [
      "Number of tweets: 15357\n",
      "Number of words: 275503\n",
      "Number of unqiue words: 19824\n"
     ]
    }
   ],
   "source": [
    "words = 0\n",
    "vocab = {}\n",
    "\n",
    "for tweet in df['tweet']:\n",
    "    tokens = tweet.split(' ')\n",
    "    \n",
    "    words += len(tokens)\n",
    "    for w in tokens:\n",
    "        if w not in vocab:\n",
    "            vocab[w] = 1\n",
    "        else:\n",
    "            vocab[w] += 1\n",
    "\n",
    "print(\"Number of tweets: {}\".format(len(df)))\n",
    "print(\"Number of words: {}\".format(words))\n",
    "print(\"Number of unqiue words: {}\".format(len(vocab.keys())))"
   ]
  },
  {
   "cell_type": "code",
   "execution_count": null,
   "metadata": {},
   "outputs": [],
   "source": []
  }
 ],
 "metadata": {
  "colab": {
   "collapsed_sections": [],
   "provenance": [],
   "toc_visible": true
  },
  "gpuClass": "standard",
  "kernelspec": {
   "display_name": "Python 3 (ipykernel)",
   "language": "python",
   "name": "python3"
  },
  "language_info": {
   "codemirror_mode": {
    "name": "ipython",
    "version": 3
   },
   "file_extension": ".py",
   "mimetype": "text/x-python",
   "name": "python",
   "nbconvert_exporter": "python",
   "pygments_lexer": "ipython3",
   "version": "3.9.7"
  }
 },
 "nbformat": 4,
 "nbformat_minor": 1
}
