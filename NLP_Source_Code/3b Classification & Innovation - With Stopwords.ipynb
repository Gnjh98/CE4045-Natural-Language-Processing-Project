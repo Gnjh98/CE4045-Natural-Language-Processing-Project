{
 "cells": [
  {
   "cell_type": "markdown",
   "metadata": {
    "id": "8o_BLrwT77s3"
   },
   "source": [
    "# Classification"
   ]
  },
  {
   "cell_type": "markdown",
   "metadata": {
    "id": "ruL7TkGZTJXs"
   },
   "source": [
    "### Import Packages"
   ]
  },
  {
   "cell_type": "code",
   "execution_count": 1,
   "metadata": {
    "colab": {
     "base_uri": "https://localhost:8080/"
    },
    "id": "ncAdzwABo0DW",
    "outputId": "4b4d4c19-855d-47a3-9fcd-36aa1c4de49e"
   },
   "outputs": [
    {
     "name": "stdout",
     "output_type": "stream",
     "text": [
      "Requirement already satisfied: bayesian-optimization in c:\\users\\xiaoy\\anaconda3\\lib\\site-packages (1.3.1)\n",
      "Requirement already satisfied: scipy>=1.0.0 in c:\\users\\xiaoy\\anaconda3\\lib\\site-packages (from bayesian-optimization) (1.7.1)\n",
      "Requirement already satisfied: numpy>=1.9.0 in c:\\users\\xiaoy\\anaconda3\\lib\\site-packages (from bayesian-optimization) (1.22.4)\n",
      "Requirement already satisfied: scikit-learn>=0.18.0 in c:\\users\\xiaoy\\anaconda3\\lib\\site-packages (from bayesian-optimization) (0.24.2)\n",
      "Requirement already satisfied: joblib>=0.11 in c:\\users\\xiaoy\\anaconda3\\lib\\site-packages (from scikit-learn>=0.18.0->bayesian-optimization) (1.1.0)\n",
      "Requirement already satisfied: threadpoolctl>=2.0.0 in c:\\users\\xiaoy\\anaconda3\\lib\\site-packages (from scikit-learn>=0.18.0->bayesian-optimization) (2.2.0)\n"
     ]
    },
    {
     "name": "stderr",
     "output_type": "stream",
     "text": [
      "[nltk_data] Downloading package punkt to\n",
      "[nltk_data]     C:\\Users\\xiaoy\\AppData\\Roaming\\nltk_data...\n",
      "[nltk_data]   Package punkt is already up-to-date!\n",
      "[nltk_data] Downloading package stopwords to\n",
      "[nltk_data]     C:\\Users\\xiaoy\\AppData\\Roaming\\nltk_data...\n",
      "[nltk_data]   Package stopwords is already up-to-date!\n",
      "[nltk_data] Downloading package wordnet to\n",
      "[nltk_data]     C:\\Users\\xiaoy\\AppData\\Roaming\\nltk_data...\n",
      "[nltk_data]   Package wordnet is already up-to-date!\n",
      "[nltk_data] Downloading package omw-1.4 to\n",
      "[nltk_data]     C:\\Users\\xiaoy\\AppData\\Roaming\\nltk_data...\n",
      "[nltk_data]   Package omw-1.4 is already up-to-date!\n"
     ]
    }
   ],
   "source": [
    "!pip install bayesian-optimization\n",
    "\n",
    "import pandas as pd\n",
    "import matplotlib.pyplot as plt\n",
    "import seaborn as sns\n",
    "import numpy as np\n",
    "import pickle\n",
    "import itertools\n",
    "import gensim\n",
    "\n",
    "import nltk\n",
    "from nltk.tokenize import word_tokenize  \n",
    "from nltk.corpus import stopwords\n",
    "from nltk.stem import WordNetLemmatizer\n",
    "from nltk.stem.snowball import SnowballStemmer\n",
    "from nltk.stem.porter import *\n",
    "\n",
    "from sklearn.model_selection import train_test_split\n",
    "from sklearn.utils import shuffle\n",
    "from sklearn.metrics import accuracy_score\n",
    "from sklearn.metrics import f1_score\n",
    "from sklearn.metrics import classification_report, confusion_matrix\n",
    "from sklearn.feature_extraction.text import CountVectorizer, TfidfVectorizer\n",
    "from sklearn.neighbors import KNeighborsClassifier\n",
    "from sklearn.tree import DecisionTreeClassifier\n",
    "from sklearn.linear_model import LogisticRegression\n",
    "from sklearn.ensemble import ExtraTreesClassifier\n",
    "from sklearn.svm import SVC  \n",
    "from sklearn.model_selection import GridSearchCV\n",
    "from sklearn.naive_bayes import MultinomialNB\n",
    "from sklearn.ensemble import RandomForestClassifier\n",
    "from sklearn.preprocessing import LabelEncoder\n",
    "\n",
    "from bayes_opt import BayesianOptimization\n",
    "from tqdm import tqdm\n",
    "tqdm.pandas(desc=\"progress-bar\") \n",
    "from gensim.models.doc2vec import TaggedDocument\n",
    "\n",
    "from xgboost import XGBClassifier\n",
    "\n",
    "p_stemmer = PorterStemmer() # initialize PorterStemmer\n",
    "\n",
    "# Set seed for RNG\n",
    "SEED = 12\n",
    "\n",
    "nltk.download('punkt')\n",
    "nltk.download('stopwords')\n",
    "nltk.download('wordnet')\n",
    "nltk.download('omw-1.4')\n",
    "\n",
    "import warnings\n",
    "warnings.filterwarnings('ignore')"
   ]
  },
  {
   "cell_type": "markdown",
   "metadata": {
    "id": "kgITriED7sSy"
   },
   "source": [
    "### Fetching from Github\n",
    "\n",
    "After further manual data-preprocessing, raw dataset is uploaded to Github and retrieved via url link."
   ]
  },
  {
   "cell_type": "code",
   "execution_count": 2,
   "metadata": {
    "id": "c69LbwnOtz6J"
   },
   "outputs": [],
   "source": [
    "# Retrieve dataset via url link\n",
    "# Github Repo: https://github.com/X-Yang98/CE4045-NLP\n",
    "overall_url = \"https://raw.githubusercontent.com/xiao-yangg/CE4045-NLP/main/combined_dataset.csv\"\n",
    "\n",
    "overall_df = pd.read_csv(overall_url, encoding='latin') # train and test dataset"
   ]
  },
  {
   "cell_type": "code",
   "execution_count": 3,
   "metadata": {
    "id": "x7P3F6-TU3U7"
   },
   "outputs": [],
   "source": [
    "# Sanity check for any duplicates\n",
    "overall_df.drop_duplicates(['tweet'], inplace=True)\n",
    "\n",
    "# Add index column for identification\n",
    "overall_df['index'] = list(overall_df.index)"
   ]
  },
  {
   "cell_type": "markdown",
   "metadata": {
    "id": "xvylDaR0YDqH"
   },
   "source": [
    "Inter-annotator agreement for evaluation dataset."
   ]
  },
  {
   "cell_type": "code",
   "execution_count": 4,
   "metadata": {
    "colab": {
     "base_uri": "https://localhost:8080/"
    },
    "id": "d90vdyhHYJIH",
    "outputId": "97d8e818-65a0-4a4e-e7f2-f0cab3cad9f8"
   },
   "outputs": [
    {
     "name": "stdout",
     "output_type": "stream",
     "text": [
      "Inter-annotator agreement is 89.29166666666667%.\n"
     ]
    }
   ],
   "source": [
    "no_disagreements = len(overall_df[((overall_df['label_1'] != overall_df['label_2']) | \n",
    "                                (overall_df['label_2'] != overall_df['label_3']) |\n",
    "                                (overall_df['label_3'] != overall_df['label_1'])\n",
    "                               )])\n",
    "\n",
    "print(\"Inter-annotator agreement is {}%.\".format((len(overall_df) - no_disagreements)/len(overall_df)*100))"
   ]
  },
  {
   "cell_type": "markdown",
   "metadata": {
    "id": "KWGcR2UESt0y"
   },
   "source": [
    "General function to display sentiment and sentence length distribution."
   ]
  },
  {
   "cell_type": "code",
   "execution_count": 5,
   "metadata": {
    "id": "mwu-kFtpU7kv"
   },
   "outputs": [],
   "source": [
    "def show_distribution(label, tweets, name):\n",
    "    plt.figure(figsize=(18,6))\n",
    "\n",
    "    # Bar graph visualisation of sentiment distribution\n",
    "    plt.subplot(1,2,1)\n",
    "    sns.countplot(x=label)\n",
    "    plt.xlabel(\"Sentiment\")\n",
    "    plt.ylabel(\"Count\")\n",
    "    plt.title(\"Sentiments Distribution in \" + name + \" Dataset\")\n",
    "\n",
    "    # Bar graph visualisation of sentence length distribution\n",
    "    plt.subplot(1,2,2)\n",
    "    sns.histplot([len(s) for s in tweets], bins=100)\n",
    "    plt.xlabel(\"Sentence Length\")\n",
    "    plt.ylabel(\"Count\")\n",
    "    plt.title(\"Sentence Length Distribution in \" + name + \" Dataset\")"
   ]
  },
  {
   "cell_type": "code",
   "execution_count": 6,
   "metadata": {
    "colab": {
     "base_uri": "https://localhost:8080/",
     "height": 404
    },
    "id": "UFunldUfS6OD",
    "outputId": "c36bddb3-d948-4578-9e9d-a7c2db80145e"
   },
   "outputs": [
    {
     "data": {
      "image/png": "[encoded data removed]",
      "text/plain": [
       "<Figure size 1296x432 with 2 Axes>"
      ]
     },
     "metadata": {
      "needs_background": "light"
     },
     "output_type": "display_data"
    }
   ],
   "source": [
    "show_distribution(overall_df['final_label'], overall_df['tweet'], \"Overall\")"
   ]
  },
  {
   "cell_type": "markdown",
   "metadata": {
    "id": "8gwaPUeOOGsS"
   },
   "source": [
    "### Text Normalization\n"
   ]
  },
  {
   "cell_type": "code",
   "execution_count": 7,
   "metadata": {
    "id": "el2VL6_-Ppfm"
   },
   "outputs": [],
   "source": [
    "# Tokenization\n",
    "def tokenize(text):\n",
    "    return word_tokenize(text)\n",
    "\n",
    "# Stemming\n",
    "def stemming(token_list):\n",
    "    stemmed_list = []\n",
    "    for word in token_list:\n",
    "        stemmed_list.append(p_stemmer.stem(word))\n",
    "\n",
    "    return stemmed_list\n",
    "\n",
    "# Lemmatization\n",
    "def lemmatization(stemmed_list):\n",
    "    wordnet_lemmatizer = WordNetLemmatizer()\n",
    "    lemma_list = []\n",
    "    for word in stemmed_list:\n",
    "        lemma_list.append(wordnet_lemmatizer.lemmatize(word))\n",
    "\n",
    "    return lemma_list\n",
    "\n",
    "# Combination of stemming and lemmatization\n",
    "def nltk_process(text):\n",
    "    nltk_tokenList = tokenize(text) # tokenize\n",
    "    nltk_stemmedList = stemming(nltk_tokenList) # stemmed\n",
    "    nltk_lemmaList = lemmatization(nltk_stemmedList) # lemma\n",
    "\n",
    "    return ' '.join(nltk_tokenList)"
   ]
  },
  {
   "cell_type": "markdown",
   "metadata": {
    "id": "bNyMYg6W-Ev8"
   },
   "source": [
    "Apply normalization to dataset."
   ]
  },
  {
   "cell_type": "code",
   "execution_count": 8,
   "metadata": {
    "id": "RXcgykfMPpiZ"
   },
   "outputs": [],
   "source": [
    "def normalize_df(df):    \n",
    "    df['normalize_tweet'] = df['tweet'].apply(nltk_process) # tweet with no stopwords go through stemming and lemma\n",
    "\n",
    "    # New dataframe of text normalized tweets\n",
    "    columns_titles = ['normalize_tweet','final_label', 'index']\n",
    "    return df.reindex(columns=columns_titles)"
   ]
  },
  {
   "cell_type": "code",
   "execution_count": 9,
   "metadata": {
    "id": "yS2Kr3cUV4Ls"
   },
   "outputs": [],
   "source": [
    "norm_df = normalize_df(overall_df)"
   ]
  },
  {
   "cell_type": "markdown",
   "metadata": {
    "id": "r_FXdG5GPz5h"
   },
   "source": [
    "### Split into train and test datasets"
   ]
  },
  {
   "cell_type": "code",
   "execution_count": 10,
   "metadata": {
    "id": "HZLcsv5JWRX7"
   },
   "outputs": [],
   "source": [
    "X_train, X_test, y_train, y_test = train_test_split(norm_df['normalize_tweet'], # tweet\n",
    "                                                    norm_df[['final_label', 'index']], # label, index\n",
    "                                                    test_size=0.25, # test size 25% \n",
    "                                                    random_state = SEED,\n",
    "                                                    shuffle=True,\n",
    "                                                    stratify=norm_df['final_label']) # ensure even proportion of Positive, Negative, Neutral in test data"
   ]
  },
  {
   "cell_type": "code",
   "execution_count": 11,
   "metadata": {
    "colab": {
     "base_uri": "https://localhost:8080/",
     "height": 404
    },
    "id": "PWzvBiMgVhYs",
    "outputId": "5020527e-c61c-4830-9c27-b51dca07f957"
   },
   "outputs": [
    {
     "data": {
      "image/png": "[encoded data removed]",
      "text/plain": [
       "<Figure size 1296x432 with 2 Axes>"
      ]
     },
     "metadata": {
      "needs_background": "light"
     },
     "output_type": "display_data"
    }
   ],
   "source": [
    "show_distribution(y_train['final_label'], X_train, \"Train\")"
   ]
  },
  {
   "cell_type": "code",
   "execution_count": 12,
   "metadata": {
    "colab": {
     "base_uri": "https://localhost:8080/",
     "height": 404
    },
    "id": "yIwbgaNpVhjN",
    "outputId": "ca0b80de-33a5-4121-cb86-b46415df43f2"
   },
   "outputs": [
    {
     "data": {
      "image/png": "[encoded data removed]",
      "text/plain": [
       "<Figure size 1296x432 with 2 Axes>"
      ]
     },
     "metadata": {
      "needs_background": "light"
     },
     "output_type": "display_data"
    }
   ],
   "source": [
    "show_distribution(y_test['final_label'], X_test, \"Test\")"
   ]
  },
  {
   "cell_type": "markdown",
   "metadata": {
    "id": "-8zT386BH6WA"
   },
   "source": [
    "### Model Helpers"
   ]
  },
  {
   "cell_type": "markdown",
   "metadata": {
    "id": "zG3iO7-XHEzE"
   },
   "source": [
    "#### Logs\n",
    "\n",
    "Storing results for comparision."
   ]
  },
  {
   "cell_type": "code",
   "execution_count": 13,
   "metadata": {
    "id": "3rf2O6XBHNa1"
   },
   "outputs": [],
   "source": [
    "logs = {'models': {}, 'metrics': {}}\n",
    "logs['models']['X_test'] = list(X_test)\n",
    "logs['models']['y_test'] = list(y_test['final_label'])\n",
    "logs['models']['index'] = list(y_test['index'])\n",
    "\n",
    "# Remove index since we already stored\n",
    "y_train = y_train['final_label']\n",
    "y_test = y_test['final_label']"
   ]
  },
  {
   "cell_type": "markdown",
   "metadata": {
    "id": "_0CHCId6rz_f"
   },
   "source": [
    "#### Vectorizers\n",
    "\n",
    "Bag of Words (CountVectorizer)"
   ]
  },
  {
   "cell_type": "code",
   "execution_count": 14,
   "metadata": {
    "colab": {
     "base_uri": "https://localhost:8080/"
    },
    "id": "QPYV2LI5ICh_",
    "outputId": "a9815bd0-c9e2-4faa-eda0-78a9f08b62dd"
   },
   "outputs": [
    {
     "data": {
      "text/plain": [
       "CountVectorizer(max_df=0.7, max_features=2000, min_df=5)"
      ]
     },
     "execution_count": 14,
     "metadata": {},
     "output_type": "execute_result"
    }
   ],
   "source": [
    "count_vec = CountVectorizer(max_features=2000, min_df=5, max_df=0.7)\n",
    "\n",
    "# Using training data to transform text into counts of features for each tweet\n",
    "count_vec.fit(X_train)\n",
    "\n",
    "# uncomment this if planning to run streamlit as this vectorizer will be loaded in the UI\n",
    "# pickle.dump(count_vec, open(\"/content/vectorizer.pkl\", \"wb\"))"
   ]
  },
  {
   "cell_type": "markdown",
   "metadata": {
    "id": "T5I5tReGvVEW"
   },
   "source": [
    "TF-IDF Vectorizer"
   ]
  },
  {
   "cell_type": "code",
   "execution_count": 15,
   "metadata": {
    "colab": {
     "base_uri": "https://localhost:8080/"
    },
    "id": "4XGOUGB-o82p",
    "outputId": "29771e0b-0e8c-42b5-bc48-66372fd7035c"
   },
   "outputs": [
    {
     "data": {
      "text/plain": [
       "TfidfVectorizer(max_df=0.7, max_features=2000, min_df=5)"
      ]
     },
     "execution_count": 15,
     "metadata": {},
     "output_type": "execute_result"
    }
   ],
   "source": [
    "tfidf_vec = TfidfVectorizer(max_features=2000, min_df=5, max_df=0.7)  \n",
    "\n",
    "# Using training data to transform text into counts of features for each tweet\n",
    "tfidf_vec.fit(X_train)"
   ]
  },
  {
   "cell_type": "markdown",
   "metadata": {
    "id": "ScQuLcNGvXdn"
   },
   "source": [
    "Word2Vec"
   ]
  },
  {
   "cell_type": "code",
   "execution_count": 16,
   "metadata": {
    "id": "E6Qt5pk1qPci"
   },
   "outputs": [],
   "source": [
    "class w2v:   \n",
    "    def transform(self, tweets):   \n",
    "        tokenized_tweet = pd.DataFrame(tweets)['normalize_tweet'].reset_index(drop=True).apply(lambda x: x.split())\n",
    "\n",
    "        feature_size = 200\n",
    "        model_w2v = gensim.models.Word2Vec(tokenized_tweet, # tokenize tweet\n",
    "                                            vector_size=feature_size, # desired no. of features/independent variables\n",
    "                                            window=5, # context window size\n",
    "                                            min_count=1,                                \n",
    "                                            seed = SEED) \n",
    "\n",
    "        model_w2v.train(tokenized_tweet, total_examples= len(tokenized_tweet), epochs=20)\n",
    "        \n",
    "        def word_vector(tokens, size):\n",
    "            vec = np.zeros(size).reshape((1, size))\n",
    "            count = 0\n",
    "            for word in tokens:\n",
    "                try:\n",
    "                    vec += model_w2v.wv[word].reshape((1, size))\n",
    "                    count += 1.\n",
    "                except KeyError:  # handling the case where the token is not in vocabulary\n",
    "                    continue\n",
    "            if count != 0:\n",
    "                vec /= count\n",
    "            return vec\n",
    "\n",
    "        wordvec_arrays = np.zeros((len(tokenized_tweet), feature_size)) \n",
    "        for i in range(len(tokenized_tweet)):\n",
    "            wordvec_arrays[i,:] = word_vector(tokenized_tweet[i], feature_size)\n",
    "        wordvec_df = pd.DataFrame(wordvec_arrays)\n",
    "        \n",
    "        return wordvec_df\n",
    "\n",
    "# Initialize class\n",
    "word2vec = w2v()"
   ]
  },
  {
   "cell_type": "markdown",
   "metadata": {
    "id": "hD9iPwPW3Xpf"
   },
   "source": [
    "Doc2Vec"
   ]
  },
  {
   "cell_type": "code",
   "execution_count": 17,
   "metadata": {
    "id": "bKg9R2IP3vJ0"
   },
   "outputs": [],
   "source": [
    "class d2v:   \n",
    "    def transform(self, tweets):    \n",
    "        tokenized_tweet = pd.DataFrame(tweets)['normalize_tweet'].reset_index(drop=True).apply(lambda x: x.split())\n",
    "\n",
    "        def add_label(twt):\n",
    "            output = []\n",
    "            for i, s in zip(twt.index, twt):\n",
    "                output.append(TaggedDocument(s, [\"tweet_\" + str(i)]))\n",
    "            return output\n",
    "\n",
    "        labeled_tweets = add_label(tokenized_tweet) # label all the tweets\n",
    "\n",
    "        feature_size = 200\n",
    "        model_d2v = gensim.models.Doc2Vec(dm=1, # dm = 1 for ‘distributed memory’ model\n",
    "                                          dm_mean=1, # dm_mean = 1 for using mean of the context word vectors\n",
    "                                          vector_size=feature_size, # no. of desired features\n",
    "                                          window=5, # width of the context window                                  \n",
    "                                          min_count=1,                            \n",
    "                                          alpha=0.1, # learning rate                                  \n",
    "                                          seed = SEED) \n",
    "\n",
    "        model_d2v.build_vocab([i for i in tqdm(labeled_tweets)])\n",
    "\n",
    "        model_d2v.train(labeled_tweets, total_examples= len(tokenized_tweet), epochs=15)\n",
    "\n",
    "        docvec_arrays = np.zeros((len(tokenized_tweet), feature_size)) \n",
    "        for i in range(len(tokenized_tweet)):\n",
    "            docvec_arrays[i,:] = model_d2v.docvecs[i].reshape((1,feature_size))    \n",
    "        docvec_df = pd.DataFrame(docvec_arrays) \n",
    "\n",
    "        return docvec_df\n",
    "\n",
    "# Initialize class\n",
    "doc2vec = d2v()"
   ]
  },
  {
   "cell_type": "markdown",
   "metadata": {
    "id": "R5s9Lg7oG3Zt"
   },
   "source": [
    "Gather all vectorizers"
   ]
  },
  {
   "cell_type": "code",
   "execution_count": 18,
   "metadata": {
    "id": "MU76ZclqG1Y4"
   },
   "outputs": [],
   "source": [
    "labels = ['count_vec', 'tfidf_vec', 'word2vec', 'doc2vec']\n",
    "vectorizers = [count_vec, tfidf_vec, word2vec, doc2vec]"
   ]
  },
  {
   "cell_type": "markdown",
   "metadata": {
    "id": "VXuUMq9wBuph"
   },
   "source": [
    "#### Plots\n",
    "\n",
    "General function to plot accuracy, F1 score when using different vectorizers"
   ]
  },
  {
   "cell_type": "code",
   "execution_count": 19,
   "metadata": {
    "id": "2daaoEfBBuCZ"
   },
   "outputs": [],
   "source": [
    "def plot_line_graph_vector(accuracy, f1s, labels):\n",
    "    colors = ['r', 'g', 'b', 'y']\n",
    "    graph_type = ['_acc', '_f1']\n",
    "\n",
    "    plt.figure(figsize=(12,8))\n",
    "\n",
    "    for i in range(len(labels)):\n",
    "        plt.plot(accuracy[i], marker='', color=colors[i], linewidth=2, linestyle='dashed', label=labels[i]+graph_type[0]) # accuracy line\n",
    "        plt.plot(f1s[i], marker='', color=colors[i], linewidth=2, label=labels[i]+graph_type[1]) # f1 line\n",
    "    plt.legend()\n",
    "    plt.show()"
   ]
  },
  {
   "cell_type": "markdown",
   "metadata": {
    "id": "Fv4RAevqI9fo"
   },
   "source": [
    "General function for plotting accuracy and F1 metrics"
   ]
  },
  {
   "cell_type": "code",
   "execution_count": 20,
   "metadata": {
    "id": "Tz7s3CkOJAp7"
   },
   "outputs": [],
   "source": [
    "def plot_metrics(rng, accuracy, f1s, cmp): \n",
    "    start, end, step = rng[0], rng[1], 1\n",
    "    if len(rng) == 3:\n",
    "        step = rng[2]\n",
    "\n",
    "    plt.figure(figsize=(12, 6))\n",
    "\n",
    "    # Plot accuracy dashed line\n",
    "    plt.plot(range(start, end, step), accuracy, color='green', \n",
    "            linestyle='dashed', marker='o',\n",
    "            markerfacecolor='black', markersize=10)\n",
    "    # Plot f1 values dashed line\n",
    "    plt.plot(range(start, end, step), f1s, color='red', \n",
    "            linestyle='dashed', marker='o',\n",
    "            markerfacecolor='blue', markersize=10)\n",
    "            \n",
    "    plt.title('Accuracy & F1 Score vs ' + cmp)\n",
    "    plt.xlabel(cmp)\n",
    "    plt.legend(['Accuracy', 'F1 Score'], loc='upper right')"
   ]
  },
  {
   "cell_type": "markdown",
   "metadata": {
    "id": "s4_s1qaOIUb9"
   },
   "source": [
    "General function for showing evaluation metrics."
   ]
  },
  {
   "cell_type": "code",
   "execution_count": 21,
   "metadata": {
    "id": "YYp9_aPsISfE"
   },
   "outputs": [],
   "source": [
    "def show_metrics(y_test, y_pred):\n",
    "\n",
    "    # Adding classes names for interpretation\n",
    "    classes_names = ['NEGATIVE', 'NEUTRAL', 'POSITIVE']\n",
    "    cm = pd.DataFrame(confusion_matrix(y_test, y_pred), \n",
    "                      columns=classes_names, index=classes_names)\n",
    "                      \n",
    "    # Visualize confusion matrix\n",
    "    sns.heatmap(cm, annot=True, fmt='d');\n",
    "\n",
    "    # Print classification report\n",
    "    print(classification_report(y_test, y_pred))"
   ]
  },
  {
   "cell_type": "markdown",
   "metadata": {
    "id": "nUbDblpgNXmC"
   },
   "source": [
    "### Traditional Machine Learning"
   ]
  },
  {
   "cell_type": "markdown",
   "metadata": {
    "id": "nZr5-wvMsbhl"
   },
   "source": [
    "#### K-Nearest Neighbors (KNN)"
   ]
  },
  {
   "cell_type": "code",
   "execution_count": 22,
   "metadata": {
    "colab": {
     "base_uri": "https://localhost:8080/",
     "height": 588
    },
    "id": "q0F-BrGEKiJ1",
    "outputId": "de2a17f2-2497-4c9a-b9a7-15832095ee31"
   },
   "outputs": [
    {
     "name": "stderr",
     "output_type": "stream",
     "text": [
      "100%|█████████████████████████████████████████████████████████████████████████| 3600/3600 [00:00<00:00, 1807673.22it/s]\n",
      "100%|█████████████████████████████████████████████████████████████████████████| 1200/1200 [00:00<00:00, 1189592.25it/s]\n"
     ]
    },
    {
     "data": {
      "image/png": "[encoded data removed]",
      "text/plain": [
       "<Figure size 864x576 with 1 Axes>"
      ]
     },
     "metadata": {
      "needs_background": "light"
     },
     "output_type": "display_data"
    }
   ],
   "source": [
    "vec_accuracy = []\n",
    "vec_f1s = []\n",
    "\n",
    "for vec in vectorizers:\n",
    "    X_train_dtm = vec.transform(X_train)\n",
    "    X_test_dtm = vec.transform(X_test)\n",
    "\n",
    "    accuracy = []\n",
    "    f1s = []\n",
    "    for i in range(1, 100):\n",
    "        KNN = KNeighborsClassifier(n_neighbors = i)\n",
    "        KNN.fit(X_train_dtm, y_train)\n",
    "        y_pred = KNN.predict(X_test_dtm)\n",
    "        \n",
    "        accuracy.append(accuracy_score(y_test, y_pred))\n",
    "        # Using average='weighted' to calculate a weighted average for the 3 classes \n",
    "        f1s.append(f1_score(y_test, y_pred, average='weighted'))\n",
    "\n",
    "    vec_accuracy.append(accuracy)\n",
    "    vec_f1s.append(f1s)\n",
    "\n",
    "plot_line_graph_vector(vec_accuracy, vec_f1s, labels)"
   ]
  },
  {
   "cell_type": "code",
   "execution_count": 23,
   "metadata": {
    "colab": {
     "base_uri": "https://localhost:8080/"
    },
    "id": "38S5ZR5jGfLW",
    "outputId": "185a9bbe-38af-491d-f9cf-5a2e95df6509"
   },
   "outputs": [
    {
     "name": "stdout",
     "output_type": "stream",
     "text": [
      "Best vectorizer for KNN: tfidf_vec\n"
     ]
    }
   ],
   "source": [
    "# Keep only vector with highest f1 score\n",
    "f1_vects = [max(x) for x in vec_f1s]\n",
    "max_f1 = f1_vects.index(max(f1_vects))\n",
    "\n",
    "knn_accuracy = vec_accuracy[max_f1]\n",
    "knn_f1s = vec_f1s[max_f1]\n",
    "\n",
    "X_train_dtm = vectorizers[max_f1].transform(X_train)\n",
    "X_test_dtm = vectorizers[max_f1].transform(X_test)\n",
    "\n",
    "print(\"Best vectorizer for KNN:\", labels[max_f1])"
   ]
  },
  {
   "cell_type": "code",
   "execution_count": 24,
   "metadata": {
    "colab": {
     "base_uri": "https://localhost:8080/",
     "height": 404
    },
    "id": "faQxKeErLE13",
    "outputId": "bd29ad4f-99a6-40fe-cde7-5b1b4efcf161"
   },
   "outputs": [
    {
     "data": {
      "image/png": "[encoded data removed]",
      "text/plain": [
       "<Figure size 864x432 with 1 Axes>"
      ]
     },
     "metadata": {
      "needs_background": "light"
     },
     "output_type": "display_data"
    }
   ],
   "source": [
    "plot_metrics((1, 100), # tuple\n",
    "             knn_accuracy,  # list\n",
    "             knn_f1s, # list\n",
    "             'K Value') # string eg. K Value, Maximum Depth"
   ]
  },
  {
   "cell_type": "code",
   "execution_count": 25,
   "metadata": {
    "colab": {
     "base_uri": "https://localhost:8080/"
    },
    "id": "KP7HVzZKpInC",
    "outputId": "09513a5d-f3b3-4c02-a103-7a9d39d75dbf"
   },
   "outputs": [
    {
     "name": "stdout",
     "output_type": "stream",
     "text": [
      "Optimal number of neighbors:  67\n",
      "Highest f1 score achieved:  0.600288511350173\n"
     ]
    }
   ],
   "source": [
    "optimal_neighbors = knn_f1s.index(max(knn_f1s)) + 1\n",
    "print(\"Optimal number of neighbors: \", optimal_neighbors)\n",
    "print(\"Highest f1 score achieved: \", max(knn_f1s))"
   ]
  },
  {
   "cell_type": "markdown",
   "metadata": {
    "id": "LbDeZWWBYfs_"
   },
   "source": [
    "##### Optimal K Value\n"
   ]
  },
  {
   "cell_type": "code",
   "execution_count": 26,
   "metadata": {
    "colab": {
     "base_uri": "https://localhost:8080/"
    },
    "id": "6T4qdlOdLybr",
    "outputId": "c35c14a9-5df8-4332-8c1a-4bd8e43a7e55"
   },
   "outputs": [
    {
     "name": "stdout",
     "output_type": "stream",
     "text": [
      "Accuracy Score: 61.16666666666667%\n",
      "F1 Score: 60.028851135017305%\n",
      "Wall time: 229 ms\n"
     ]
    }
   ],
   "source": [
    "%%time\n",
    "# Accuracy using KNN model\n",
    "KNN = KNeighborsClassifier(n_neighbors = optimal_neighbors)\n",
    "KNN.fit(X_train_dtm, y_train)\n",
    "y_pred = KNN.predict(X_test_dtm)\n",
    "\n",
    "acc = accuracy_score(y_test, y_pred) * 100\n",
    "f1 = f1_score(y_test, y_pred, average='weighted') * 100\n",
    "\n",
    "print('Accuracy Score: ', acc, '%', sep='')\n",
    "print('F1 Score: ', f1, '%', sep='')"
   ]
  },
  {
   "cell_type": "code",
   "execution_count": 27,
   "metadata": {
    "colab": {
     "base_uri": "https://localhost:8080/",
     "height": 439
    },
    "id": "UPIz24-YNoYp",
    "outputId": "09ac671d-62d5-40f0-869e-ad2354051b00"
   },
   "outputs": [
    {
     "name": "stdout",
     "output_type": "stream",
     "text": [
      "              precision    recall  f1-score   support\n",
      "\n",
      "    NEGATIVE       0.72      0.51      0.59       386\n",
      "     NEUTRAL       0.53      0.88      0.66       424\n",
      "    POSITIVE       0.73      0.43      0.54       390\n",
      "\n",
      "    accuracy                           0.61      1200\n",
      "   macro avg       0.66      0.60      0.60      1200\n",
      "weighted avg       0.66      0.61      0.60      1200\n",
      "\n"
     ]
    },
    {
     "data": {
      "image/png": "[encoded data removed]",
      "text/plain": [
       "<Figure size 432x288 with 2 Axes>"
      ]
     },
     "metadata": {
      "needs_background": "light"
     },
     "output_type": "display_data"
    }
   ],
   "source": [
    "show_metrics(y_test, y_pred)"
   ]
  },
  {
   "cell_type": "code",
   "execution_count": 28,
   "metadata": {
    "id": "9ain5YQrRZEW"
   },
   "outputs": [],
   "source": [
    "# Store results\n",
    "logs['models']['knn'] = list(y_pred)\n",
    "logs['metrics']['knn'] = {'accuracy': acc, 'f1 score': f1}"
   ]
  },
  {
   "cell_type": "markdown",
   "metadata": {
    "id": "pJw1zVsMdSYD"
   },
   "source": [
    "#### Logistic Regression"
   ]
  },
  {
   "cell_type": "code",
   "execution_count": 29,
   "metadata": {
    "id": "0689vQULX1th"
   },
   "outputs": [],
   "source": [
    "def opt_log(C):\n",
    "    clf = LogisticRegression(solver = 'saga', multi_class = 'multinomial', C = C, random_state = SEED)\n",
    "    clf.fit(X_train_log, y_train)\n",
    "    y_pred = clf.predict(X_test_log)\n",
    "    return f1_score(y_test, y_pred, average='weighted')"
   ]
  },
  {
   "cell_type": "code",
   "execution_count": 30,
   "metadata": {
    "colab": {
     "base_uri": "https://localhost:8080/"
    },
    "id": "p91UxO29sk0-",
    "outputId": "45290c7d-19a8-4f91-8a0c-fd85b5704754"
   },
   "outputs": [
    {
     "name": "stderr",
     "output_type": "stream",
     "text": [
      "100%|█████████████████████████████████████████████████████████████████████████| 3600/3600 [00:00<00:00, 3617511.84it/s]\n",
      "100%|█████████████████████████████████████████████████████████████████████████| 1200/1200 [00:00<00:00, 1199800.91it/s]\n"
     ]
    }
   ],
   "source": [
    "f1_ = []\n",
    "opt_C = []\n",
    "\n",
    "params = {\n",
    "    'C' : (0.1, 100)\n",
    "}\n",
    "\n",
    "for vec in vectorizers:\n",
    "    X_train_log = vec.transform(X_train)\n",
    "    X_test_log = vec.transform(X_test)\n",
    "\n",
    "    opt = BayesianOptimization(f = opt_log, pbounds = params, verbose = 0)\n",
    "\n",
    "    opt.maximize(init_points = 10, n_iter = 10)\n",
    "\n",
    "    f1_.append(opt.max['target'])\n",
    "    opt_C.append(opt.max['params']['C'])"
   ]
  },
  {
   "cell_type": "code",
   "execution_count": 31,
   "metadata": {
    "colab": {
     "base_uri": "https://localhost:8080/"
    },
    "id": "B71hm3Hqwo9M",
    "outputId": "43e75b30-db09-401c-cf3e-eaa7cb135082"
   },
   "outputs": [
    {
     "data": {
      "text/plain": [
       "[0.6767735334202655,\n",
       " 0.6978671385787453,\n",
       " 0.3010032668500688,\n",
       " 0.3063354663524438]"
      ]
     },
     "execution_count": 31,
     "metadata": {},
     "output_type": "execute_result"
    }
   ],
   "source": [
    "f1_"
   ]
  },
  {
   "cell_type": "code",
   "execution_count": 32,
   "metadata": {
    "colab": {
     "base_uri": "https://localhost:8080/"
    },
    "id": "Vv2eO2daxM5u",
    "outputId": "e1860599-7fe6-4894-f6bc-578744ca4f94"
   },
   "outputs": [
    {
     "name": "stdout",
     "output_type": "stream",
     "text": [
      "The optimal vectorizer for logistic regression model:  tfidf_vec\n",
      "The max f1 score achieved:  0.6978671385787453\n",
      "The optimal C for logistic regression model:  15.66571291555706\n"
     ]
    }
   ],
   "source": [
    "max_f1 = f1_.index(max(f1_))\n",
    "opt_vectorizer = labels[max_f1]\n",
    "optimal_C = max(opt_C)\n",
    "print(\"The optimal vectorizer for logistic regression model: \", opt_vectorizer)\n",
    "print(\"The max f1 score achieved: \", max(f1_))\n",
    "print(\"The optimal C for logistic regression model: \", optimal_C)"
   ]
  },
  {
   "cell_type": "markdown",
   "metadata": {
    "id": "kt8IJknfbf_f"
   },
   "source": [
    "##### Optimal C"
   ]
  },
  {
   "cell_type": "code",
   "execution_count": 33,
   "metadata": {
    "colab": {
     "base_uri": "https://localhost:8080/"
    },
    "id": "AZxzqgzbba-E",
    "outputId": "493e6c93-e589-4b99-a649-268ad48b8f47"
   },
   "outputs": [
    {
     "name": "stdout",
     "output_type": "stream",
     "text": [
      "Accuracy Score: 67.08333333333333%\n",
      "F1 Score: 67.04762688579844%\n",
      "Wall time: 276 ms\n"
     ]
    }
   ],
   "source": [
    "%%time\n",
    "# Accuracy using Logistic model\n",
    "X_train_log = vectorizers[max_f1].transform(X_train)\n",
    "X_test_log = vectorizers[max_f1].transform(X_test)\n",
    "\n",
    "optimal_log = LogisticRegression(solver = 'saga', C = optimal_C, multi_class = 'multinomial', random_state = SEED)\n",
    "optimal_log.fit(X_train_log, y_train)\n",
    "y_pred = optimal_log.predict(X_test_log)\n",
    "\n",
    "acc = accuracy_score(y_test, y_pred) * 100\n",
    "f1 = f1_score(y_test, y_pred, average='weighted') * 100\n",
    "\n",
    "print('Accuracy Score: ', acc, '%', sep='')\n",
    "print('F1 Score: ', f1, '%', sep='')\n",
    "\n",
    "# uncomment this if planning to run streamlit as this model will be loaded in the UI as a sample\n",
    "# pickle.dump(optimal_log, open(\"/content/logistic_classifier.pkl\", \"wb\"))"
   ]
  },
  {
   "cell_type": "code",
   "execution_count": 34,
   "metadata": {
    "colab": {
     "base_uri": "https://localhost:8080/",
     "height": 442
    },
    "id": "6a8yl6jycdTY",
    "outputId": "5ce6751c-e552-4b7e-dae2-2f297f897bfb"
   },
   "outputs": [
    {
     "name": "stdout",
     "output_type": "stream",
     "text": [
      "              precision    recall  f1-score   support\n",
      "\n",
      "    NEGATIVE       0.67      0.69      0.68       386\n",
      "     NEUTRAL       0.67      0.69      0.68       424\n",
      "    POSITIVE       0.68      0.63      0.65       390\n",
      "\n",
      "    accuracy                           0.67      1200\n",
      "   macro avg       0.67      0.67      0.67      1200\n",
      "weighted avg       0.67      0.67      0.67      1200\n",
      "\n"
     ]
    },
    {
     "data": {
      "image/png": "[encoded data removed]",
      "text/plain": [
       "<Figure size 432x288 with 2 Axes>"
      ]
     },
     "metadata": {
      "needs_background": "light"
     },
     "output_type": "display_data"
    }
   ],
   "source": [
    "show_metrics(y_test, y_pred)"
   ]
  },
  {
   "cell_type": "code",
   "execution_count": 35,
   "metadata": {
    "id": "qIyPQMQVOLSO"
   },
   "outputs": [],
   "source": [
    "# Store results\n",
    "logs['models']['logreg'] = list(y_pred)\n",
    "logs['metrics']['logreg'] = {'accuracy': acc, 'f1 score': f1}"
   ]
  },
  {
   "cell_type": "markdown",
   "metadata": {},
   "source": [
    "**NOTE: From this point onwards, we use TF-IDF vectorizer as it gives best accuracy.**"
   ]
  },
  {
   "cell_type": "markdown",
   "metadata": {
    "id": "j4CykSNVIiNC"
   },
   "source": [
    "#### Naive Bayes Classifier"
   ]
  },
  {
   "cell_type": "code",
   "execution_count": 36,
   "metadata": {
    "colab": {
     "base_uri": "https://localhost:8080/"
    },
    "id": "KaPYP9A6IsOS",
    "outputId": "c787ecf0-4ff1-42d0-f38b-043dd7f5b298"
   },
   "outputs": [
    {
     "data": {
      "text/plain": [
       "MultinomialNB()"
      ]
     },
     "execution_count": 36,
     "metadata": {},
     "output_type": "execute_result"
    }
   ],
   "source": [
    "#Train using Multinomial Naaive Bayes model\n",
    "model = MultinomialNB()\n",
    "model.fit(X_train_dtm, y_train)"
   ]
  },
  {
   "cell_type": "code",
   "execution_count": 37,
   "metadata": {
    "colab": {
     "base_uri": "https://localhost:8080/"
    },
    "id": "uJFvQ9jeIwFL",
    "outputId": "bd3d7129-c03e-4c04-e88e-880cc3902540"
   },
   "outputs": [
    {
     "name": "stdout",
     "output_type": "stream",
     "text": [
      "              precision    recall  f1-score   support\n",
      "\n",
      "    NEGATIVE       0.65      0.75      0.70       386\n",
      "     NEUTRAL       0.69      0.69      0.69       424\n",
      "    POSITIVE       0.71      0.61      0.65       390\n",
      "\n",
      "    accuracy                           0.68      1200\n",
      "   macro avg       0.68      0.68      0.68      1200\n",
      "weighted avg       0.69      0.68      0.68      1200\n",
      "\n"
     ]
    }
   ],
   "source": [
    "#Model accuracy\n",
    "model.score(X_test_dtm, y_test)\n",
    "model_predictions = model.predict(X_test_dtm)\n",
    "print(classification_report(y_test, model_predictions))"
   ]
  },
  {
   "cell_type": "code",
   "execution_count": 38,
   "metadata": {
    "colab": {
     "base_uri": "https://localhost:8080/"
    },
    "id": "rl5k9pDlIzKZ",
    "outputId": "30ef2351-498f-4399-db66-599aec1b9f17"
   },
   "outputs": [
    {
     "data": {
      "text/plain": [
       "GridSearchCV(cv=10, estimator=MultinomialNB(),\n",
       "             param_grid={'alpha': [1e-05, 0.0001, 0.001, 0.1, 1]},\n",
       "             return_train_score=True)"
      ]
     },
     "execution_count": 38,
     "metadata": {},
     "output_type": "execute_result"
    }
   ],
   "source": [
    "#Hyperparemeter tuning of alpha\n",
    "param = {'alpha': [0.00001, 0.0001, 0.001, 0.1, 1]}\n",
    "\n",
    "#using gridsearch\n",
    "clf=GridSearchCV(model,param, cv=10, return_train_score=True)\n",
    "\n",
    "#fit model for grid search\n",
    "clf.fit(X_train_dtm, y_train)"
   ]
  },
  {
   "cell_type": "code",
   "execution_count": 39,
   "metadata": {
    "colab": {
     "base_uri": "https://localhost:8080/"
    },
    "id": "6cmPZcSsI17t",
    "outputId": "eef9fbf2-2378-45c0-a7de-50bef3b0ddd4"
   },
   "outputs": [
    {
     "name": "stdout",
     "output_type": "stream",
     "text": [
      "{'alpha': 1}\n"
     ]
    }
   ],
   "source": [
    "#print best alpha\n",
    "print(clf.best_params_)"
   ]
  },
  {
   "cell_type": "markdown",
   "metadata": {
    "id": "Vx25_WbmI2ge"
   },
   "source": [
    "##### Optimal Alpha Value"
   ]
  },
  {
   "cell_type": "code",
   "execution_count": 40,
   "metadata": {
    "colab": {
     "base_uri": "https://localhost:8080/",
     "height": 439
    },
    "id": "uhqbUQhGI77R",
    "outputId": "d9b66c64-f4db-42ab-a30f-455eaf3fdc8c"
   },
   "outputs": [
    {
     "name": "stdout",
     "output_type": "stream",
     "text": [
      "Accuracy Score: 68.25%\n",
      "F1 Score: 68.15008774247592%\n",
      "Wall time: 11 ms\n"
     ]
    }
   ],
   "source": [
    "%%time\n",
    "#alpha value = 0.00001\n",
    "y_pred = clf.predict(X_test_dtm)\n",
    "\n",
    "acc = accuracy_score(y_test, y_pred) * 100\n",
    "f1 = f1_score(y_test, y_pred, average='weighted') * 100\n",
    "\n",
    "print('Accuracy Score: ', acc, '%', sep='')\n",
    "print('F1 Score: ', f1, '%', sep='')"
   ]
  },
  {
   "cell_type": "code",
   "execution_count": 41,
   "metadata": {},
   "outputs": [
    {
     "name": "stdout",
     "output_type": "stream",
     "text": [
      "              precision    recall  f1-score   support\n",
      "\n",
      "    NEGATIVE       0.65      0.75      0.70       386\n",
      "     NEUTRAL       0.69      0.69      0.69       424\n",
      "    POSITIVE       0.71      0.61      0.65       390\n",
      "\n",
      "    accuracy                           0.68      1200\n",
      "   macro avg       0.68      0.68      0.68      1200\n",
      "weighted avg       0.69      0.68      0.68      1200\n",
      "\n"
     ]
    },
    {
     "data": {
      "image/png": "[encoded data removed]",
      "text/plain": [
       "<Figure size 432x288 with 2 Axes>"
      ]
     },
     "metadata": {
      "needs_background": "light"
     },
     "output_type": "display_data"
    }
   ],
   "source": [
    "show_metrics(y_test, y_pred)"
   ]
  },
  {
   "cell_type": "code",
   "execution_count": 42,
   "metadata": {
    "id": "hTNGQHKpO-Jw"
   },
   "outputs": [],
   "source": [
    "# Store results\n",
    "logs['models']['nb'] = list(y_pred)\n",
    "logs['metrics']['nb'] = {'accuracy': acc, 'f1 score': f1}"
   ]
  },
  {
   "cell_type": "markdown",
   "metadata": {
    "id": "WluOkROzmC1J"
   },
   "source": [
    "#### Support Vector Machine (SVM)"
   ]
  },
  {
   "cell_type": "code",
   "execution_count": 43,
   "metadata": {
    "colab": {
     "base_uri": "https://localhost:8080/"
    },
    "id": "pwCp0dSnm0G9",
    "outputId": "bd612203-2cfa-4c13-ba60-b7c104df0354"
   },
   "outputs": [
    {
     "name": "stdout",
     "output_type": "stream",
     "text": [
      "Fitting 5 folds for each of 64 candidates, totalling 320 fits\n"
     ]
    },
    {
     "data": {
      "text/plain": [
       "GridSearchCV(estimator=SVC(),\n",
       "             param_grid={'C': [0.1, 1, 10, 100], 'gamma': [1, 0.1, 0.01, 0.001],\n",
       "                         'kernel': ['rbf', 'sigmoid', 'linear', 'poly']},\n",
       "             verbose=1)"
      ]
     },
     "execution_count": 43,
     "metadata": {},
     "output_type": "execute_result"
    }
   ],
   "source": [
    "# Finding best hyperparameters for SVM model\n",
    "svmParams = {'C': [0.1, 1, 10, 100], 'gamma': [1,0.1,0.01,0.001], 'kernel': ['rbf', 'sigmoid', 'linear', 'poly']}\n",
    "svmBestParam = GridSearchCV(SVC(), svmParams, refit=True, verbose=1)\n",
    "svmBestParam.fit(X_train_dtm, y_train)"
   ]
  },
  {
   "cell_type": "code",
   "execution_count": 44,
   "metadata": {
    "colab": {
     "base_uri": "https://localhost:8080/",
     "height": 494
    },
    "id": "XqzcThyFm1vF",
    "outputId": "4e35e61c-2ed2-41e9-c2cb-7fec9cc16a7b"
   },
   "outputs": [
    {
     "name": "stdout",
     "output_type": "stream",
     "text": [
      "Best hyperparameters:  {'C': 10, 'gamma': 1, 'kernel': 'rbf'}\n",
      "Best score:  0.6802777777777779\n",
      "\n",
      "Accuracy Score: 69.91666666666667%\n",
      "F1 Score: 69.81926419072883%\n",
      "              precision    recall  f1-score   support\n",
      "\n",
      "    NEGATIVE       0.68      0.75      0.71       386\n",
      "     NEUTRAL       0.70      0.72      0.71       424\n",
      "    POSITIVE       0.72      0.62      0.67       390\n",
      "\n",
      "    accuracy                           0.70      1200\n",
      "   macro avg       0.70      0.70      0.70      1200\n",
      "weighted avg       0.70      0.70      0.70      1200\n",
      "\n",
      "Wall time: 866 ms\n"
     ]
    },
    {
     "data": {
      "image/png": "[encoded data removed]",
      "text/plain": [
       "<Figure size 432x288 with 2 Axes>"
      ]
     },
     "metadata": {
      "needs_background": "light"
     },
     "output_type": "display_data"
    }
   ],
   "source": [
    "%%time\n",
    "# Printing the best hyperparameters and score\n",
    "print(\"Best hyperparameters: \", svmBestParam.best_params_) # print best hyperparams\n",
    "print(\"Best score: \", svmBestParam.best_score_) # print best score\n",
    "print(\"\")\n",
    "\n",
    "# Testing and showing metrics\n",
    "svmPred = svmBestParam.predict(X_test_dtm)\n",
    "\n",
    "acc = accuracy_score(y_test, svmPred) * 100\n",
    "f1 = f1_score(y_test, svmPred, average='weighted') * 100\n",
    "\n",
    "print('Accuracy Score: ', acc, '%', sep='')\n",
    "print('F1 Score: ', f1, '%', sep='')\n",
    "\n",
    "show_metrics(y_test, svmPred)"
   ]
  },
  {
   "cell_type": "code",
   "execution_count": 45,
   "metadata": {
    "id": "T_v4it9oPCl7"
   },
   "outputs": [],
   "source": [
    "# Store results\n",
    "logs['models']['svm'] = list(svmPred)\n",
    "logs['metrics']['svm'] = {'accuracy': acc, 'f1 score': f1}"
   ]
  },
  {
   "cell_type": "markdown",
   "metadata": {
    "id": "lU0QA4e3LLgt"
   },
   "source": [
    "#### Decision Trees\n"
   ]
  },
  {
   "cell_type": "code",
   "execution_count": 46,
   "metadata": {
    "colab": {
     "base_uri": "https://localhost:8080/"
    },
    "id": "TAUNKbjoLSfn",
    "outputId": "f95a75ef-dc46-4678-c4a9-9dd8271c310f"
   },
   "outputs": [
    {
     "name": "stderr",
     "output_type": "stream",
     "text": [
      "100%|████████████████████████████████████████████████████████████████████████████████| 200/200 [00:53<00:00,  3.77it/s]\n"
     ]
    }
   ],
   "source": [
    "dt_accuracy = []\n",
    "dt_f1s = []\n",
    "\n",
    "for i in tqdm(range(1, 201)):\n",
    "    dt = DecisionTreeClassifier(max_depth = i, random_state = SEED)\n",
    "    dt.fit(X_train_dtm, y_train)\n",
    "    y_pred = dt.predict(X_test_dtm)\n",
    "    \n",
    "    dt_accuracy.append(accuracy_score(y_test, y_pred))\n",
    "    # Using average='weighted' to calculate a weighted average for the 3 classes \n",
    "    dt_f1s.append(f1_score(y_test, y_pred, average='weighted'))"
   ]
  },
  {
   "cell_type": "code",
   "execution_count": 47,
   "metadata": {
    "colab": {
     "base_uri": "https://localhost:8080/",
     "height": 404
    },
    "id": "ya-eEF37Rakk",
    "outputId": "4d63a927-cb8f-41fe-c91b-f71a0cbed054"
   },
   "outputs": [
    {
     "data": {
      "image/png": "[encoded data removed]",
      "text/plain": [
       "<Figure size 864x432 with 1 Axes>"
      ]
     },
     "metadata": {
      "needs_background": "light"
     },
     "output_type": "display_data"
    }
   ],
   "source": [
    "plot_metrics((1, 201), # tuple\n",
    "             dt_accuracy,  # list\n",
    "             dt_f1s, # list\n",
    "             'Maximum Depth') # string eg. K Value, Maximum Depth"
   ]
  },
  {
   "cell_type": "code",
   "execution_count": 48,
   "metadata": {
    "colab": {
     "base_uri": "https://localhost:8080/"
    },
    "id": "n9A0PPKORlk3",
    "outputId": "aed2becd-631f-4be5-92b0-2068b46b92a8"
   },
   "outputs": [
    {
     "name": "stdout",
     "output_type": "stream",
     "text": [
      "Optimal maximum depth:  21\n",
      "Highest f1 score achieved:  0.5714463543927322\n"
     ]
    }
   ],
   "source": [
    "optimal_dt_depth = dt_f1s.index(max(dt_f1s)) + 1\n",
    "print(\"Optimal maximum depth: \", optimal_dt_depth)\n",
    "print(\"Highest f1 score achieved: \", max(dt_f1s))"
   ]
  },
  {
   "cell_type": "markdown",
   "metadata": {
    "id": "WqiJanURPP06"
   },
   "source": [
    "##### Optimal Maximum Depth"
   ]
  },
  {
   "cell_type": "code",
   "execution_count": 49,
   "metadata": {
    "colab": {
     "base_uri": "https://localhost:8080/"
    },
    "id": "8A68AAQNOedN",
    "outputId": "4f8e5ecd-abaa-4b49-a6bd-71b18cee06ad"
   },
   "outputs": [
    {
     "name": "stdout",
     "output_type": "stream",
     "text": [
      "Accuracy Score: 57.166666666666664%\n",
      "F1 Score: 57.144635439273216%\n",
      "Wall time: 166 ms\n"
     ]
    }
   ],
   "source": [
    "%%time\n",
    "# Accuracy using Decision Tree model\n",
    "optimal_dt = DecisionTreeClassifier(max_depth = optimal_dt_depth, random_state = SEED)\n",
    "optimal_dt.fit(X_train_dtm, y_train)\n",
    "y_pred = optimal_dt.predict(X_test_dtm)\n",
    "\n",
    "acc = accuracy_score(y_test, y_pred) * 100\n",
    "f1 = f1_score(y_test, y_pred, average='weighted') * 100\n",
    "\n",
    "print('Accuracy Score: ', acc, '%', sep='')\n",
    "print('F1 Score: ', f1, '%', sep='')"
   ]
  },
  {
   "cell_type": "code",
   "execution_count": 50,
   "metadata": {
    "colab": {
     "base_uri": "https://localhost:8080/",
     "height": 439
    },
    "id": "Z6b3nlHaPgD8",
    "outputId": "62e0a10f-f673-49e1-d2ae-221f27f1b5f0"
   },
   "outputs": [
    {
     "name": "stdout",
     "output_type": "stream",
     "text": [
      "              precision    recall  f1-score   support\n",
      "\n",
      "    NEGATIVE       0.58      0.54      0.56       386\n",
      "     NEUTRAL       0.60      0.62      0.61       424\n",
      "    POSITIVE       0.53      0.55      0.54       390\n",
      "\n",
      "    accuracy                           0.57      1200\n",
      "   macro avg       0.57      0.57      0.57      1200\n",
      "weighted avg       0.57      0.57      0.57      1200\n",
      "\n"
     ]
    },
    {
     "data": {
      "image/png": "[encoded data removed]",
      "text/plain": [
       "<Figure size 432x288 with 2 Axes>"
      ]
     },
     "metadata": {
      "needs_background": "light"
     },
     "output_type": "display_data"
    }
   ],
   "source": [
    "show_metrics(y_test, y_pred)"
   ]
  },
  {
   "cell_type": "code",
   "execution_count": 51,
   "metadata": {
    "id": "hEBEP9E0PHsE"
   },
   "outputs": [],
   "source": [
    "# Store results\n",
    "logs['models']['dectree'] = list(y_pred)\n",
    "logs['metrics']['dectree'] = {'accuracy': acc, 'f1 score': f1}"
   ]
  },
  {
   "cell_type": "markdown",
   "metadata": {
    "id": "tvTphfdijd_t"
   },
   "source": [
    "#### Extra Trees Classifier\n"
   ]
  },
  {
   "cell_type": "code",
   "execution_count": 52,
   "metadata": {
    "colab": {
     "base_uri": "https://localhost:8080/"
    },
    "id": "DEKGZ-m-jdDS",
    "outputId": "47721245-2c64-4a75-88bb-4f31631e3ee8"
   },
   "outputs": [
    {
     "name": "stderr",
     "output_type": "stream",
     "text": [
      "100%|████████████████████████████████████████████████████████████████████████████████| 100/100 [05:06<00:00,  3.07s/it]\n"
     ]
    }
   ],
   "source": [
    "et_accuracy = []\n",
    "et_f1s = []\n",
    "\n",
    "for i in tqdm(range(1, 101)):\n",
    "    et_clf = ExtraTreesClassifier(max_depth = i, n_estimators = 250, random_state = SEED)\n",
    "    et_clf.fit(X_train_dtm, y_train)\n",
    "    y_pred = et_clf.predict(X_test_dtm)\n",
    "    \n",
    "    et_accuracy.append(accuracy_score(y_test, y_pred))\n",
    "    # Using average='weighted' to calculate a weighted average for the 3 classes \n",
    "    et_f1s.append(f1_score(y_test, y_pred, average='weighted'))"
   ]
  },
  {
   "cell_type": "code",
   "execution_count": 53,
   "metadata": {
    "colab": {
     "base_uri": "https://localhost:8080/",
     "height": 404
    },
    "id": "BfAvpwn4jdJq",
    "outputId": "f8d7cf04-5a32-40f3-f78f-8eb529e0d844"
   },
   "outputs": [
    {
     "data": {
      "image/png": "[encoded data removed]",
      "text/plain": [
       "<Figure size 864x432 with 1 Axes>"
      ]
     },
     "metadata": {
      "needs_background": "light"
     },
     "output_type": "display_data"
    }
   ],
   "source": [
    "plot_metrics((1, 101), # tuple\n",
    "             et_accuracy,  # list\n",
    "             et_f1s, # list\n",
    "             'Maximum Depth') # string eg. K Value, Maximum Depth"
   ]
  },
  {
   "cell_type": "code",
   "execution_count": 54,
   "metadata": {
    "colab": {
     "base_uri": "https://localhost:8080/"
    },
    "id": "Phc1tYXojdbN",
    "outputId": "a98a60e9-e55f-4555-ce98-8abcb72b3624"
   },
   "outputs": [
    {
     "name": "stdout",
     "output_type": "stream",
     "text": [
      "Optimal maximum depth:  95\n",
      "Highest f1 score achieved:  0.6882282635782179\n"
     ]
    }
   ],
   "source": [
    "optimal_et_depth = et_f1s.index(max(et_f1s)) + 1\n",
    "print(\"Optimal maximum depth: \", optimal_et_depth)\n",
    "print(\"Highest f1 score achieved: \", max(et_f1s))"
   ]
  },
  {
   "cell_type": "markdown",
   "metadata": {
    "id": "o00TKGi1kt3B"
   },
   "source": [
    "##### Optimal Maximum Depth"
   ]
  },
  {
   "cell_type": "code",
   "execution_count": 55,
   "metadata": {
    "colab": {
     "base_uri": "https://localhost:8080/"
    },
    "id": "NQjcgbRvjddm",
    "outputId": "6b22b81c-d187-45cc-cb34-f6bddce0135c"
   },
   "outputs": [
    {
     "name": "stdout",
     "output_type": "stream",
     "text": [
      "Accuracy Score: 69.0%\n",
      "F1 Score: 68.82282635782178%\n",
      "Wall time: 4.99 s\n"
     ]
    }
   ],
   "source": [
    "%%time\n",
    "# Accuracy using ExtraTrees model\n",
    "optimal_et = ExtraTreesClassifier(max_depth = optimal_et_depth, n_estimators = 250, random_state = SEED)\n",
    "optimal_et.fit(X_train_dtm, y_train)\n",
    "y_pred = optimal_et.predict(X_test_dtm)\n",
    "\n",
    "acc = accuracy_score(y_test, y_pred) * 100\n",
    "f1 = f1_score(y_test, y_pred, average='weighted') * 100\n",
    "\n",
    "print('Accuracy Score: ', acc, '%', sep='')\n",
    "print('F1 Score: ', f1, '%', sep='')"
   ]
  },
  {
   "cell_type": "code",
   "execution_count": 56,
   "metadata": {
    "colab": {
     "base_uri": "https://localhost:8080/",
     "height": 439
    },
    "id": "717Hn7ysjdgf",
    "outputId": "bd23e3b1-734e-4269-8ac5-5af3df512cb1"
   },
   "outputs": [
    {
     "name": "stdout",
     "output_type": "stream",
     "text": [
      "              precision    recall  f1-score   support\n",
      "\n",
      "    NEGATIVE       0.67      0.74      0.70       386\n",
      "     NEUTRAL       0.68      0.74      0.71       424\n",
      "    POSITIVE       0.73      0.59      0.65       390\n",
      "\n",
      "    accuracy                           0.69      1200\n",
      "   macro avg       0.69      0.69      0.69      1200\n",
      "weighted avg       0.69      0.69      0.69      1200\n",
      "\n"
     ]
    },
    {
     "data": {
      "image/png": "[encoded data removed]",
      "text/plain": [
       "<Figure size 432x288 with 2 Axes>"
      ]
     },
     "metadata": {
      "needs_background": "light"
     },
     "output_type": "display_data"
    }
   ],
   "source": [
    "show_metrics(y_test, y_pred)"
   ]
  },
  {
   "cell_type": "code",
   "execution_count": 57,
   "metadata": {
    "id": "-rqnvf7qPLgI"
   },
   "outputs": [],
   "source": [
    "# Store results\n",
    "logs['models']['extree'] = list(y_pred)\n",
    "logs['metrics']['extree'] = {'accuracy': acc, 'f1 score': f1}"
   ]
  },
  {
   "cell_type": "markdown",
   "metadata": {
    "id": "GaATX87394Wu"
   },
   "source": [
    "#### Random Forest"
   ]
  },
  {
   "cell_type": "code",
   "execution_count": 58,
   "metadata": {
    "colab": {
     "base_uri": "https://localhost:8080/"
    },
    "id": "eBmOS5M29-7O",
    "outputId": "44ee9d09-b707-4739-9540-c871aef69aab"
   },
   "outputs": [
    {
     "name": "stderr",
     "output_type": "stream",
     "text": [
      "100%|██████████████████████████████████████████████████████████████████████████████████| 30/30 [00:28<00:00,  1.05it/s]\n"
     ]
    }
   ],
   "source": [
    "rand_forest_acc = list()\n",
    "rand_forest_f1s = list()\n",
    "for i in tqdm(range(10, 301, 10)):\n",
    "    forest = RandomForestClassifier(n_estimators=i, oob_score=True, n_jobs=-1)\n",
    "    forest.fit(X_train_dtm, y_train)\n",
    "    y_pred_i = forest.predict(X_test_dtm)\n",
    "\n",
    "    rand_forest_acc.append(accuracy_score(y_test, y_pred_i))\n",
    "    rand_forest_f1s.append(f1_score(y_test, y_pred_i, average='weighted'))"
   ]
  },
  {
   "cell_type": "code",
   "execution_count": 59,
   "metadata": {
    "colab": {
     "base_uri": "https://localhost:8080/",
     "height": 404
    },
    "id": "_-rk-TVZ-BMJ",
    "outputId": "4523c469-dcd6-418c-d836-191171b3a96b"
   },
   "outputs": [
    {
     "data": {
      "image/png": "[encoded data removed]",
      "text/plain": [
       "<Figure size 864x432 with 1 Axes>"
      ]
     },
     "metadata": {
      "needs_background": "light"
     },
     "output_type": "display_data"
    }
   ],
   "source": [
    "plot_metrics((10, 301, 10), # tuple\n",
    "             rand_forest_acc,  # list\n",
    "             rand_forest_f1s, # list\n",
    "             'N Trees') # string eg. K Value, Maximum Depth"
   ]
  },
  {
   "cell_type": "code",
   "execution_count": 60,
   "metadata": {
    "colab": {
     "base_uri": "https://localhost:8080/"
    },
    "id": "jtKQjgtv-Cdn",
    "outputId": "c317eb9f-b18d-4b51-d8bc-e47a0003873b"
   },
   "outputs": [
    {
     "name": "stdout",
     "output_type": "stream",
     "text": [
      "Optimal number of trees:  67\n",
      "Highest f1 score achieved:  0.6666942666013091\n"
     ]
    }
   ],
   "source": [
    "optimal_trees = rand_forest_f1s.index(max(rand_forest_f1s)) + 1\n",
    "print(\"Optimal number of trees: \", optimal_neighbors)\n",
    "print(\"Highest f1 score achieved: \", max(rand_forest_f1s))"
   ]
  },
  {
   "cell_type": "markdown",
   "metadata": {
    "id": "2RB1pNCqcGNz"
   },
   "source": [
    "##### Optimal No. of Trees"
   ]
  },
  {
   "cell_type": "code",
   "execution_count": 61,
   "metadata": {
    "colab": {
     "base_uri": "https://localhost:8080/"
    },
    "id": "yCo3I4fB-DmG",
    "outputId": "35803950-46fa-4e30-fd7f-fdc2013099cf"
   },
   "outputs": [
    {
     "name": "stdout",
     "output_type": "stream",
     "text": [
      "Accuracy Score: 62.74999999999999%\n",
      "F1 Score: 62.530614660265584%\n",
      "Wall time: 195 ms\n"
     ]
    }
   ],
   "source": [
    "%%time\n",
    "forest = RandomForestClassifier(n_estimators=optimal_trees, oob_score=True, n_jobs=-1)\n",
    "forest.fit(X_train_dtm, y_train)\n",
    "y_pred = forest.predict(X_test_dtm)\n",
    "\n",
    "acc = accuracy_score(y_test, y_pred) * 100\n",
    "f1 = f1_score(y_test, y_pred, average='weighted') * 100\n",
    "\n",
    "print('Accuracy Score: ', acc, '%', sep='')\n",
    "print('F1 Score: ', f1, '%', sep='')"
   ]
  },
  {
   "cell_type": "code",
   "execution_count": 62,
   "metadata": {
    "colab": {
     "base_uri": "https://localhost:8080/",
     "height": 439
    },
    "id": "Hvn8Dtey-E1a",
    "outputId": "64e69abf-a150-43a5-f19c-134b291c8e52"
   },
   "outputs": [
    {
     "name": "stdout",
     "output_type": "stream",
     "text": [
      "              precision    recall  f1-score   support\n",
      "\n",
      "    NEGATIVE       0.62      0.69      0.65       386\n",
      "     NEUTRAL       0.62      0.66      0.64       424\n",
      "    POSITIVE       0.65      0.52      0.58       390\n",
      "\n",
      "    accuracy                           0.63      1200\n",
      "   macro avg       0.63      0.63      0.62      1200\n",
      "weighted avg       0.63      0.63      0.63      1200\n",
      "\n"
     ]
    },
    {
     "data": {
      "image/png": "[encoded data removed]",
      "text/plain": [
       "<Figure size 432x288 with 2 Axes>"
      ]
     },
     "metadata": {
      "needs_background": "light"
     },
     "output_type": "display_data"
    }
   ],
   "source": [
    "show_metrics(y_test, y_pred)"
   ]
  },
  {
   "cell_type": "code",
   "execution_count": 63,
   "metadata": {
    "id": "5N26XX9RPRkF"
   },
   "outputs": [],
   "source": [
    "# Store results\n",
    "logs['models']['randforest'] = list(y_pred)\n",
    "logs['metrics']['randforest'] = {'accuracy': acc, 'f1 score': f1}"
   ]
  },
  {
   "cell_type": "markdown",
   "metadata": {
    "id": "hP0-BL3qTXzS"
   },
   "source": [
    "#### XGBoost\n"
   ]
  },
  {
   "cell_type": "code",
   "execution_count": 64,
   "metadata": {
    "colab": {
     "base_uri": "https://localhost:8080/"
    },
    "id": "DaSJqaldVj3g",
    "outputId": "9bb41e5d-c6fe-44c7-9bad-af2b4d491c9a"
   },
   "outputs": [
    {
     "name": "stderr",
     "output_type": "stream",
     "text": [
      "100%|██████████████████████████████████████████████████████████████████████████████████| 30/30 [16:39<00:00, 33.31s/it]\n"
     ]
    }
   ],
   "source": [
    "xgb_accuracy = []\n",
    "xgb_f1s = []\n",
    "\n",
    "le = LabelEncoder()\n",
    "y_train_encoded = le.fit_transform(y_train)\n",
    "y_test_encoded = le.fit_transform(y_test)\n",
    "\n",
    "for i in tqdm(range(1, 31)):\n",
    "    xgb = XGBClassifier(max_depth = i, n_estimators = 250)\n",
    "    xgb.fit(X_train_dtm, y_train_encoded)\n",
    "    y_pred_encoded = xgb.predict(X_test_dtm)\n",
    "    y_pred = le.inverse_transform(y_pred_encoded)\n",
    "    \n",
    "    xgb_accuracy.append(accuracy_score(y_test, y_pred))\n",
    "    # Using average='weighted' to calculate a weighted average for the 3 classes \n",
    "    xgb_f1s.append(f1_score(y_test, y_pred, average='weighted'))"
   ]
  },
  {
   "cell_type": "code",
   "execution_count": 65,
   "metadata": {
    "colab": {
     "base_uri": "https://localhost:8080/",
     "height": 404
    },
    "id": "JVdTlNlKVnvj",
    "outputId": "5d54a544-a8fc-4385-f443-bcda431de450"
   },
   "outputs": [
    {
     "data": {
      "image/png": "[encoded data removed]",
      "text/plain": [
       "<Figure size 864x432 with 1 Axes>"
      ]
     },
     "metadata": {
      "needs_background": "light"
     },
     "output_type": "display_data"
    }
   ],
   "source": [
    "plot_metrics((1, 31), # tuple\n",
    "             xgb_accuracy,  # list\n",
    "             xgb_f1s, # list\n",
    "             'Maximum Depth') # string eg. K Value, Maximum Depth"
   ]
  },
  {
   "cell_type": "code",
   "execution_count": 66,
   "metadata": {
    "colab": {
     "base_uri": "https://localhost:8080/"
    },
    "id": "1BYLWUnWVnx0",
    "outputId": "76ce0003-81bf-4954-df43-372c63484fd2"
   },
   "outputs": [
    {
     "name": "stdout",
     "output_type": "stream",
     "text": [
      "Optimal maximum depth:  6\n",
      "Highest f1 score achieved:  0.6861744182254006\n"
     ]
    }
   ],
   "source": [
    "optimal_xgb_depth = xgb_f1s.index(max(xgb_f1s)) + 1\n",
    "print(\"Optimal maximum depth: \", optimal_xgb_depth)\n",
    "print(\"Highest f1 score achieved: \", max(xgb_f1s))"
   ]
  },
  {
   "cell_type": "markdown",
   "metadata": {
    "id": "frY9IpawW_jq"
   },
   "source": [
    "##### Optimal Maximum Depth"
   ]
  },
  {
   "cell_type": "code",
   "execution_count": 67,
   "metadata": {
    "colab": {
     "base_uri": "https://localhost:8080/"
    },
    "id": "2AfeIYmbVn2e",
    "outputId": "0946e54d-9a63-4f6c-fcc4-b308fa3b0479"
   },
   "outputs": [
    {
     "name": "stdout",
     "output_type": "stream",
     "text": [
      "Accuracy Score: 68.66666666666667%\n",
      "F1 Score: 68.61744182254006%\n",
      "Wall time: 13.9 s\n"
     ]
    }
   ],
   "source": [
    "%%time\n",
    "# Accuracy using XGBoost model\n",
    "optimal_xgb = XGBClassifier(max_depth = optimal_xgb_depth, n_estimators = 250)\n",
    "optimal_xgb.fit(X_train_dtm, y_train_encoded)\n",
    "y_pred_encoded = optimal_xgb.predict(X_test_dtm)\n",
    "y_pred = le.inverse_transform(y_pred_encoded)\n",
    "\n",
    "acc = accuracy_score(y_test, y_pred) * 100\n",
    "f1 = f1_score(y_test, y_pred, average='weighted') * 100\n",
    "\n",
    "print('Accuracy Score: ', acc, '%', sep='')\n",
    "print('F1 Score: ', f1, '%', sep='')"
   ]
  },
  {
   "cell_type": "code",
   "execution_count": 68,
   "metadata": {
    "colab": {
     "base_uri": "https://localhost:8080/",
     "height": 439
    },
    "id": "7xPx69GmVn5F",
    "outputId": "cc40d9b4-5720-4ed0-810a-0f244491e2c1"
   },
   "outputs": [
    {
     "name": "stdout",
     "output_type": "stream",
     "text": [
      "              precision    recall  f1-score   support\n",
      "\n",
      "    NEGATIVE       0.69      0.68      0.68       386\n",
      "     NEUTRAL       0.68      0.73      0.71       424\n",
      "    POSITIVE       0.69      0.64      0.67       390\n",
      "\n",
      "    accuracy                           0.69      1200\n",
      "   macro avg       0.69      0.69      0.69      1200\n",
      "weighted avg       0.69      0.69      0.69      1200\n",
      "\n"
     ]
    },
    {
     "data": {
      "image/png": "[encoded data removed]",
      "text/plain": [
       "<Figure size 432x288 with 2 Axes>"
      ]
     },
     "metadata": {
      "needs_background": "light"
     },
     "output_type": "display_data"
    }
   ],
   "source": [
    "show_metrics(y_test, y_pred)"
   ]
  },
  {
   "cell_type": "code",
   "execution_count": 69,
   "metadata": {
    "id": "ftfsh0h8PXmC"
   },
   "outputs": [],
   "source": [
    "# Store results\n",
    "logs['models']['xgboost'] = list(y_pred)\n",
    "logs['metrics']['xgboost'] = {'accuracy': acc, 'f1 score': f1}"
   ]
  },
  {
   "cell_type": "code",
   "execution_count": null,
   "metadata": {},
   "outputs": [],
   "source": []
  },
  {
   "cell_type": "markdown",
   "metadata": {
    "id": "IENUGPPfnyRM"
   },
   "source": [
    "# Innovations"
   ]
  },
  {
   "cell_type": "markdown",
   "metadata": {
    "id": "K9GTzVVydgTW"
   },
   "source": [
    "### Ensemble Classification\n",
    "\n",
    "\n"
   ]
  },
  {
   "cell_type": "markdown",
   "metadata": {
    "id": "XTO5S8ZuqTpV"
   },
   "source": [
    "#### Import Packages"
   ]
  },
  {
   "cell_type": "code",
   "execution_count": 70,
   "metadata": {
    "id": "dUJYcUiBqXCZ"
   },
   "outputs": [],
   "source": [
    "from sklearn.ensemble import StackingClassifier"
   ]
  },
  {
   "cell_type": "markdown",
   "metadata": {
    "id": "Ua980HEpqZZH"
   },
   "source": [
    "#### Stacked Classifier"
   ]
  },
  {
   "cell_type": "code",
   "execution_count": 71,
   "metadata": {},
   "outputs": [
    {
     "data": {
      "text/html": [
       "<div>\n",
       "<style scoped>\n",
       "    .dataframe tbody tr th:only-of-type {\n",
       "        vertical-align: middle;\n",
       "    }\n",
       "\n",
       "    .dataframe tbody tr th {\n",
       "        vertical-align: top;\n",
       "    }\n",
       "\n",
       "    .dataframe thead th {\n",
       "        text-align: right;\n",
       "    }\n",
       "</style>\n",
       "<table border=\"1\" class=\"dataframe\">\n",
       "  <thead>\n",
       "    <tr style=\"text-align: right;\">\n",
       "      <th></th>\n",
       "      <th>svm</th>\n",
       "      <th>extree</th>\n",
       "      <th>xgboost</th>\n",
       "      <th>nb</th>\n",
       "      <th>logreg</th>\n",
       "      <th>randforest</th>\n",
       "      <th>knn</th>\n",
       "      <th>dectree</th>\n",
       "    </tr>\n",
       "  </thead>\n",
       "  <tbody>\n",
       "    <tr>\n",
       "      <th>accuracy</th>\n",
       "      <td>69.916667</td>\n",
       "      <td>69.000000</td>\n",
       "      <td>68.666667</td>\n",
       "      <td>68.250000</td>\n",
       "      <td>67.083333</td>\n",
       "      <td>62.750000</td>\n",
       "      <td>61.166667</td>\n",
       "      <td>57.166667</td>\n",
       "    </tr>\n",
       "    <tr>\n",
       "      <th>f1 score</th>\n",
       "      <td>69.819264</td>\n",
       "      <td>68.822826</td>\n",
       "      <td>68.617442</td>\n",
       "      <td>68.150088</td>\n",
       "      <td>67.047627</td>\n",
       "      <td>62.530615</td>\n",
       "      <td>60.028851</td>\n",
       "      <td>57.144635</td>\n",
       "    </tr>\n",
       "  </tbody>\n",
       "</table>\n",
       "</div>"
      ],
      "text/plain": [
       "                svm     extree    xgboost         nb     logreg  randforest  \\\n",
       "accuracy  69.916667  69.000000  68.666667  68.250000  67.083333   62.750000   \n",
       "f1 score  69.819264  68.822826  68.617442  68.150088  67.047627   62.530615   \n",
       "\n",
       "                knn    dectree  \n",
       "accuracy  61.166667  57.166667  \n",
       "f1 score  60.028851  57.144635  "
      ]
     },
     "execution_count": 71,
     "metadata": {},
     "output_type": "execute_result"
    }
   ],
   "source": [
    "# Taking top 4 estimators base on f1 score\n",
    "metrics_df = pd.DataFrame.from_dict(logs['metrics'])\n",
    "metrics_df.sort_values(by=['f1 score'], axis=1, ascending=False, inplace=False)"
   ]
  },
  {
   "cell_type": "code",
   "execution_count": 72,
   "metadata": {
    "id": "DLob-AnrX13m"
   },
   "outputs": [],
   "source": [
    "stacked_estimators = [\n",
    "                      ('xgb', XGBClassifier(max_depth = optimal_xgb_depth, n_estimators = 250, random_state = SEED)),\n",
    "                      ('et', ExtraTreesClassifier(max_depth = optimal_et_depth, n_estimators = 250, random_state = SEED)),\n",
    "                      ('svm', SVC(C = 1, gamma = 1, kernel = 'rbf')),\n",
    "                      ('nb', MultinomialNB(alpha = 1))\n",
    "                     ]"
   ]
  },
  {
   "cell_type": "code",
   "execution_count": 73,
   "metadata": {
    "id": "JKMv-kCrX16Y"
   },
   "outputs": [],
   "source": [
    "final_est = LogisticRegression(solver = 'saga', multi_class = 'multinomial', random_state = SEED)\n",
    "stacked_clf = StackingClassifier(estimators = stacked_estimators,\n",
    "                                final_estimator = final_est,\n",
    "                                n_jobs = 1)"
   ]
  },
  {
   "cell_type": "code",
   "execution_count": 74,
   "metadata": {
    "colab": {
     "base_uri": "https://localhost:8080/"
    },
    "id": "NpxhQETve7ym",
    "outputId": "f5385b9f-e9c0-491c-82cd-032150152de2"
   },
   "outputs": [
    {
     "name": "stdout",
     "output_type": "stream",
     "text": [
      "Accuracy Score: 71.91666666666666%\n",
      "F1 Score: 71.8095163113031%\n",
      "Wall time: 1min 41s\n"
     ]
    }
   ],
   "source": [
    "%%time\n",
    "stacked_clf.fit(X_train_dtm, y_train_encoded)\n",
    "y_pred_encoded = stacked_clf.predict(X_test_dtm)\n",
    "y_pred = le.inverse_transform(y_pred_encoded)\n",
    "\n",
    "acc = accuracy_score(y_test, y_pred) * 100\n",
    "f1 = f1_score(y_test, y_pred, average='weighted') * 100\n",
    "\n",
    "print('Accuracy Score: ', acc, '%', sep='')\n",
    "print('F1 Score: ', f1, '%', sep='')"
   ]
  },
  {
   "cell_type": "code",
   "execution_count": 75,
   "metadata": {
    "colab": {
     "base_uri": "https://localhost:8080/",
     "height": 439
    },
    "id": "dRf7ystQfCOs",
    "outputId": "3bf001eb-c932-4ae0-ba2b-73db3f0ec58e"
   },
   "outputs": [
    {
     "name": "stdout",
     "output_type": "stream",
     "text": [
      "              precision    recall  f1-score   support\n",
      "\n",
      "    NEGATIVE       0.70      0.78      0.74       386\n",
      "     NEUTRAL       0.72      0.73      0.73       424\n",
      "    POSITIVE       0.74      0.64      0.69       390\n",
      "\n",
      "    accuracy                           0.72      1200\n",
      "   macro avg       0.72      0.72      0.72      1200\n",
      "weighted avg       0.72      0.72      0.72      1200\n",
      "\n"
     ]
    },
    {
     "data": {
      "image/png": "[encoded data removed]",
      "text/plain": [
       "<Figure size 432x288 with 2 Axes>"
      ]
     },
     "metadata": {
      "needs_background": "light"
     },
     "output_type": "display_data"
    }
   ],
   "source": [
    "show_metrics(y_test, y_pred)"
   ]
  },
  {
   "cell_type": "code",
   "execution_count": 76,
   "metadata": {
    "id": "JqZC0d8qvm1R"
   },
   "outputs": [],
   "source": [
    "# Store results\n",
    "logs['models']['stacked'] = list(y_pred)\n",
    "logs['metrics']['stacked'] = {'accuracy': acc, 'f1 score': f1}"
   ]
  },
  {
   "cell_type": "code",
   "execution_count": null,
   "metadata": {
    "id": "a-xesSkUxu0E"
   },
   "outputs": [],
   "source": []
  },
  {
   "cell_type": "markdown",
   "metadata": {
    "id": "UZmQp80hTzzn"
   },
   "source": [
    "# Discussion"
   ]
  },
  {
   "cell_type": "markdown",
   "metadata": {
    "id": "e56VTcjNUa8G"
   },
   "source": [
    "### Experiment Findings"
   ]
  },
  {
   "cell_type": "code",
   "execution_count": 77,
   "metadata": {
    "colab": {
     "base_uri": "https://localhost:8080/"
    },
    "id": "v_RaWeX3Udgj",
    "outputId": "839616c6-980b-40f9-daa9-756b7e46ba32"
   },
   "outputs": [
    {
     "data": {
      "text/html": [
       "<div>\n",
       "<style scoped>\n",
       "    .dataframe tbody tr th:only-of-type {\n",
       "        vertical-align: middle;\n",
       "    }\n",
       "\n",
       "    .dataframe tbody tr th {\n",
       "        vertical-align: top;\n",
       "    }\n",
       "\n",
       "    .dataframe thead th {\n",
       "        text-align: right;\n",
       "    }\n",
       "</style>\n",
       "<table border=\"1\" class=\"dataframe\">\n",
       "  <thead>\n",
       "    <tr style=\"text-align: right;\">\n",
       "      <th></th>\n",
       "      <th>tweet</th>\n",
       "      <th>label_1</th>\n",
       "      <th>label_2</th>\n",
       "      <th>label_3</th>\n",
       "      <th>final_label</th>\n",
       "      <th>index</th>\n",
       "      <th>normalize_tweet</th>\n",
       "      <th>X_test</th>\n",
       "      <th>y_test</th>\n",
       "      <th>knn</th>\n",
       "      <th>logreg</th>\n",
       "      <th>nb</th>\n",
       "      <th>svm</th>\n",
       "      <th>dectree</th>\n",
       "      <th>extree</th>\n",
       "      <th>randforest</th>\n",
       "      <th>xgboost</th>\n",
       "      <th>stacked</th>\n",
       "    </tr>\n",
       "  </thead>\n",
       "  <tbody>\n",
       "    <tr>\n",
       "      <th>0</th>\n",
       "      <td>iphone features appleevent you must buy it</td>\n",
       "      <td>POSITIVE</td>\n",
       "      <td>POSITIVE</td>\n",
       "      <td>POSITIVE</td>\n",
       "      <td>POSITIVE</td>\n",
       "      <td>9</td>\n",
       "      <td>iphone features appleevent you must buy it</td>\n",
       "      <td>iphone features appleevent you must buy it</td>\n",
       "      <td>POSITIVE</td>\n",
       "      <td>NEUTRAL</td>\n",
       "      <td>POSITIVE</td>\n",
       "      <td>POSITIVE</td>\n",
       "      <td>POSITIVE</td>\n",
       "      <td>POSITIVE</td>\n",
       "      <td>POSITIVE</td>\n",
       "      <td>POSITIVE</td>\n",
       "      <td>POSITIVE</td>\n",
       "      <td>POSITIVE</td>\n",
       "    </tr>\n",
       "    <tr>\n",
       "      <th>1</th>\n",
       "      <td>hey this is real dope appleevent</td>\n",
       "      <td>POSITIVE</td>\n",
       "      <td>POSITIVE</td>\n",
       "      <td>POSITIVE</td>\n",
       "      <td>POSITIVE</td>\n",
       "      <td>12</td>\n",
       "      <td>hey this is real dope appleevent</td>\n",
       "      <td>hey this is real dope appleevent</td>\n",
       "      <td>POSITIVE</td>\n",
       "      <td>POSITIVE</td>\n",
       "      <td>POSITIVE</td>\n",
       "      <td>POSITIVE</td>\n",
       "      <td>POSITIVE</td>\n",
       "      <td>POSITIVE</td>\n",
       "      <td>POSITIVE</td>\n",
       "      <td>POSITIVE</td>\n",
       "      <td>POSITIVE</td>\n",
       "      <td>POSITIVE</td>\n",
       "    </tr>\n",
       "    <tr>\n",
       "      <th>2</th>\n",
       "      <td>thank you so much for this amazing opportunity</td>\n",
       "      <td>POSITIVE</td>\n",
       "      <td>POSITIVE</td>\n",
       "      <td>POSITIVE</td>\n",
       "      <td>POSITIVE</td>\n",
       "      <td>14</td>\n",
       "      <td>thank you so much for this amazing opportunity</td>\n",
       "      <td>thank you so much for this amazing opportunity</td>\n",
       "      <td>POSITIVE</td>\n",
       "      <td>POSITIVE</td>\n",
       "      <td>POSITIVE</td>\n",
       "      <td>POSITIVE</td>\n",
       "      <td>POSITIVE</td>\n",
       "      <td>POSITIVE</td>\n",
       "      <td>POSITIVE</td>\n",
       "      <td>POSITIVE</td>\n",
       "      <td>POSITIVE</td>\n",
       "      <td>POSITIVE</td>\n",
       "    </tr>\n",
       "    <tr>\n",
       "      <th>3</th>\n",
       "      <td>top best laptops for nursing school students</td>\n",
       "      <td>POSITIVE</td>\n",
       "      <td>POSITIVE</td>\n",
       "      <td>POSITIVE</td>\n",
       "      <td>POSITIVE</td>\n",
       "      <td>17</td>\n",
       "      <td>top best laptops for nursing school students</td>\n",
       "      <td>top best laptops for nursing school students</td>\n",
       "      <td>POSITIVE</td>\n",
       "      <td>POSITIVE</td>\n",
       "      <td>POSITIVE</td>\n",
       "      <td>POSITIVE</td>\n",
       "      <td>POSITIVE</td>\n",
       "      <td>POSITIVE</td>\n",
       "      <td>POSITIVE</td>\n",
       "      <td>POSITIVE</td>\n",
       "      <td>POSITIVE</td>\n",
       "      <td>POSITIVE</td>\n",
       "    </tr>\n",
       "    <tr>\n",
       "      <th>4</th>\n",
       "      <td>thoughtsol and apple together bring you the al...</td>\n",
       "      <td>POSITIVE</td>\n",
       "      <td>POSITIVE</td>\n",
       "      <td>POSITIVE</td>\n",
       "      <td>POSITIVE</td>\n",
       "      <td>18</td>\n",
       "      <td>thoughtsol and apple together bring you the al...</td>\n",
       "      <td>thoughtsol and apple together bring you the al...</td>\n",
       "      <td>POSITIVE</td>\n",
       "      <td>POSITIVE</td>\n",
       "      <td>NEGATIVE</td>\n",
       "      <td>NEUTRAL</td>\n",
       "      <td>POSITIVE</td>\n",
       "      <td>POSITIVE</td>\n",
       "      <td>POSITIVE</td>\n",
       "      <td>POSITIVE</td>\n",
       "      <td>POSITIVE</td>\n",
       "      <td>POSITIVE</td>\n",
       "    </tr>\n",
       "  </tbody>\n",
       "</table>\n",
       "</div>"
      ],
      "text/plain": [
       "                                               tweet   label_1   label_2  \\\n",
       "0         iphone features appleevent you must buy it  POSITIVE  POSITIVE   \n",
       "1                   hey this is real dope appleevent  POSITIVE  POSITIVE   \n",
       "2     thank you so much for this amazing opportunity  POSITIVE  POSITIVE   \n",
       "3       top best laptops for nursing school students  POSITIVE  POSITIVE   \n",
       "4  thoughtsol and apple together bring you the al...  POSITIVE  POSITIVE   \n",
       "\n",
       "    label_3 final_label  index  \\\n",
       "0  POSITIVE    POSITIVE      9   \n",
       "1  POSITIVE    POSITIVE     12   \n",
       "2  POSITIVE    POSITIVE     14   \n",
       "3  POSITIVE    POSITIVE     17   \n",
       "4  POSITIVE    POSITIVE     18   \n",
       "\n",
       "                                     normalize_tweet  \\\n",
       "0         iphone features appleevent you must buy it   \n",
       "1                   hey this is real dope appleevent   \n",
       "2     thank you so much for this amazing opportunity   \n",
       "3       top best laptops for nursing school students   \n",
       "4  thoughtsol and apple together bring you the al...   \n",
       "\n",
       "                                              X_test    y_test       knn  \\\n",
       "0         iphone features appleevent you must buy it  POSITIVE   NEUTRAL   \n",
       "1                   hey this is real dope appleevent  POSITIVE  POSITIVE   \n",
       "2     thank you so much for this amazing opportunity  POSITIVE  POSITIVE   \n",
       "3       top best laptops for nursing school students  POSITIVE  POSITIVE   \n",
       "4  thoughtsol and apple together bring you the al...  POSITIVE  POSITIVE   \n",
       "\n",
       "     logreg        nb       svm   dectree    extree randforest   xgboost  \\\n",
       "0  POSITIVE  POSITIVE  POSITIVE  POSITIVE  POSITIVE   POSITIVE  POSITIVE   \n",
       "1  POSITIVE  POSITIVE  POSITIVE  POSITIVE  POSITIVE   POSITIVE  POSITIVE   \n",
       "2  POSITIVE  POSITIVE  POSITIVE  POSITIVE  POSITIVE   POSITIVE  POSITIVE   \n",
       "3  POSITIVE  POSITIVE  POSITIVE  POSITIVE  POSITIVE   POSITIVE  POSITIVE   \n",
       "4  NEGATIVE   NEUTRAL  POSITIVE  POSITIVE  POSITIVE   POSITIVE  POSITIVE   \n",
       "\n",
       "    stacked  \n",
       "0  POSITIVE  \n",
       "1  POSITIVE  \n",
       "2  POSITIVE  \n",
       "3  POSITIVE  \n",
       "4  POSITIVE  "
      ]
     },
     "execution_count": 77,
     "metadata": {},
     "output_type": "execute_result"
    }
   ],
   "source": [
    "# View test dataset with model results\n",
    "findings_df = pd.DataFrame.from_dict(logs['models'])\n",
    "findings_df = pd.merge(overall_df, findings_df, left_on='index', right_on='index')\n",
    "findings_df.head()"
   ]
  },
  {
   "cell_type": "code",
   "execution_count": 78,
   "metadata": {
    "colab": {
     "base_uri": "https://localhost:8080/",
     "height": 112
    },
    "id": "V2VOKCVXtOoX",
    "outputId": "1eeeeac5-d4bb-44ae-daef-bd520876e65f"
   },
   "outputs": [
    {
     "data": {
      "text/html": [
       "<div>\n",
       "<style scoped>\n",
       "    .dataframe tbody tr th:only-of-type {\n",
       "        vertical-align: middle;\n",
       "    }\n",
       "\n",
       "    .dataframe tbody tr th {\n",
       "        vertical-align: top;\n",
       "    }\n",
       "\n",
       "    .dataframe thead th {\n",
       "        text-align: right;\n",
       "    }\n",
       "</style>\n",
       "<table border=\"1\" class=\"dataframe\">\n",
       "  <thead>\n",
       "    <tr style=\"text-align: right;\">\n",
       "      <th></th>\n",
       "      <th>stacked</th>\n",
       "      <th>svm</th>\n",
       "      <th>extree</th>\n",
       "      <th>xgboost</th>\n",
       "      <th>nb</th>\n",
       "      <th>logreg</th>\n",
       "      <th>randforest</th>\n",
       "      <th>knn</th>\n",
       "      <th>dectree</th>\n",
       "    </tr>\n",
       "  </thead>\n",
       "  <tbody>\n",
       "    <tr>\n",
       "      <th>accuracy</th>\n",
       "      <td>71.916667</td>\n",
       "      <td>69.916667</td>\n",
       "      <td>69.000000</td>\n",
       "      <td>68.666667</td>\n",
       "      <td>68.250000</td>\n",
       "      <td>67.083333</td>\n",
       "      <td>62.750000</td>\n",
       "      <td>61.166667</td>\n",
       "      <td>57.166667</td>\n",
       "    </tr>\n",
       "    <tr>\n",
       "      <th>f1 score</th>\n",
       "      <td>71.809516</td>\n",
       "      <td>69.819264</td>\n",
       "      <td>68.822826</td>\n",
       "      <td>68.617442</td>\n",
       "      <td>68.150088</td>\n",
       "      <td>67.047627</td>\n",
       "      <td>62.530615</td>\n",
       "      <td>60.028851</td>\n",
       "      <td>57.144635</td>\n",
       "    </tr>\n",
       "  </tbody>\n",
       "</table>\n",
       "</div>"
      ],
      "text/plain": [
       "            stacked        svm     extree    xgboost         nb     logreg  \\\n",
       "accuracy  71.916667  69.916667  69.000000  68.666667  68.250000  67.083333   \n",
       "f1 score  71.809516  69.819264  68.822826  68.617442  68.150088  67.047627   \n",
       "\n",
       "          randforest        knn    dectree  \n",
       "accuracy   62.750000  61.166667  57.166667  \n",
       "f1 score   62.530615  60.028851  57.144635  "
      ]
     },
     "execution_count": 78,
     "metadata": {},
     "output_type": "execute_result"
    }
   ],
   "source": [
    "# Sort base on f1 score\n",
    "metrics_df = pd.DataFrame.from_dict(logs['metrics'])\n",
    "metrics_df.sort_values(by=['f1 score'], axis=1, ascending=False, inplace=False)"
   ]
  },
  {
   "cell_type": "markdown",
   "metadata": {
    "id": "N_2VGSOUUegK"
   },
   "source": [
    "### Error Analysis"
   ]
  },
  {
   "cell_type": "code",
   "execution_count": 79,
   "metadata": {
    "colab": {
     "base_uri": "https://localhost:8080/",
     "height": 502
    },
    "id": "QBVR6DdBwx31",
    "outputId": "762818ab-6570-41b8-9ffa-bbbe1a043114",
    "scrolled": false
   },
   "outputs": [],
   "source": [
    "# Find differences between actual & predicted by our best classifier\n",
    "error_df = findings_df.loc[~(findings_df['y_test'] == findings_df['stacked'])]"
   ]
  },
  {
   "cell_type": "code",
   "execution_count": 80,
   "metadata": {},
   "outputs": [
    {
     "data": {
      "text/plain": [
       "Text(0.5, 1.0, 'Number of Words Distribution in Error Dataset')"
      ]
     },
     "execution_count": 80,
     "metadata": {},
     "output_type": "execute_result"
    },
    {
     "data": {
      "image/png": "[encoded data removed]",
      "text/plain": [
       "<Figure size 864x432 with 1 Axes>"
      ]
     },
     "metadata": {
      "needs_background": "light"
     },
     "output_type": "display_data"
    }
   ],
   "source": [
    "# Bar graph visualisation of word count distribution\n",
    "plt.figure(figsize=(12,6))\n",
    "sns.histplot([len(s.split(' ')) for s in error_df['X_test']], bins=100)\n",
    "plt.xlabel(\"Number of Words\")\n",
    "plt.ylabel(\"Count\")\n",
    "plt.title(\"Number of Words Distribution in Error Dataset\")"
   ]
  },
  {
   "cell_type": "code",
   "execution_count": 81,
   "metadata": {},
   "outputs": [
    {
     "data": {
      "text/plain": [
       "14    23\n",
       "10    23\n",
       "9     22\n",
       "15    21\n",
       "7     14\n",
       "8     14\n",
       "6     14\n",
       "13    13\n",
       "20    11\n",
       "16    11\n",
       "12    11\n",
       "11    11\n",
       "19     9\n",
       "25     9\n",
       "4      9\n",
       "27     9\n",
       "18     9\n",
       "5      9\n",
       "17     8\n",
       "23     8\n",
       "22     7\n",
       "21     7\n",
       "3      6\n",
       "35     5\n",
       "43     4\n",
       "26     4\n",
       "24     4\n",
       "30     3\n",
       "34     3\n",
       "31     3\n",
       "29     3\n",
       "41     3\n",
       "2      3\n",
       "38     2\n",
       "28     2\n",
       "37     2\n",
       "44     2\n",
       "42     2\n",
       "45     2\n",
       "48     2\n",
       "40     2\n",
       "33     2\n",
       "32     2\n",
       "1      1\n",
       "46     1\n",
       "39     1\n",
       "36     1\n",
       "Name: count, dtype: int64"
      ]
     },
     "execution_count": 81,
     "metadata": {},
     "output_type": "execute_result"
    }
   ],
   "source": [
    "# Getting word\n",
    "error_df['count'] = error_df['X_test'].apply(lambda x: len(x.split(' ')))\n",
    "error_df['count'].value_counts()"
   ]
  },
  {
   "cell_type": "code",
   "execution_count": 82,
   "metadata": {
    "id": "Jh5d-1EokIn5",
    "scrolled": false
   },
   "outputs": [
    {
     "data": {
      "text/html": [
       "<div>\n",
       "<style scoped>\n",
       "    .dataframe tbody tr th:only-of-type {\n",
       "        vertical-align: middle;\n",
       "    }\n",
       "\n",
       "    .dataframe tbody tr th {\n",
       "        vertical-align: top;\n",
       "    }\n",
       "\n",
       "    .dataframe thead th {\n",
       "        text-align: right;\n",
       "    }\n",
       "</style>\n",
       "<table border=\"1\" class=\"dataframe\">\n",
       "  <thead>\n",
       "    <tr style=\"text-align: right;\">\n",
       "      <th></th>\n",
       "      <th>tweet</th>\n",
       "      <th>X_test</th>\n",
       "      <th>y_test</th>\n",
       "      <th>stacked</th>\n",
       "      <th>short_tweet</th>\n",
       "    </tr>\n",
       "  </thead>\n",
       "  <tbody>\n",
       "    <tr>\n",
       "      <th>137</th>\n",
       "      <td>iphonepro get</td>\n",
       "      <td>iphonepro get</td>\n",
       "      <td>POSITIVE</td>\n",
       "      <td>NEUTRAL</td>\n",
       "      <td>True</td>\n",
       "    </tr>\n",
       "    <tr>\n",
       "      <th>146</th>\n",
       "      <td>its working iphonepromax</td>\n",
       "      <td>its working iphonepromax</td>\n",
       "      <td>POSITIVE</td>\n",
       "      <td>NEGATIVE</td>\n",
       "      <td>True</td>\n",
       "    </tr>\n",
       "    <tr>\n",
       "      <th>321</th>\n",
       "      <td>applewatchultra looks damn</td>\n",
       "      <td>applewatchultra looks damn</td>\n",
       "      <td>NEUTRAL</td>\n",
       "      <td>POSITIVE</td>\n",
       "      <td>True</td>\n",
       "    </tr>\n",
       "    <tr>\n",
       "      <th>387</th>\n",
       "      <td>iphonepro early adopter island</td>\n",
       "      <td>iphonepro early adopter island</td>\n",
       "      <td>NEUTRAL</td>\n",
       "      <td>POSITIVE</td>\n",
       "      <td>True</td>\n",
       "    </tr>\n",
       "    <tr>\n",
       "      <th>392</th>\n",
       "      <td>iphonepromax ordered</td>\n",
       "      <td>iphonepromax ordered</td>\n",
       "      <td>NEUTRAL</td>\n",
       "      <td>NEGATIVE</td>\n",
       "      <td>True</td>\n",
       "    </tr>\n",
       "    <tr>\n",
       "      <th>442</th>\n",
       "      <td>pumpkins design</td>\n",
       "      <td>pumpkins design</td>\n",
       "      <td>NEUTRAL</td>\n",
       "      <td>POSITIVE</td>\n",
       "      <td>True</td>\n",
       "    </tr>\n",
       "    <tr>\n",
       "      <th>545</th>\n",
       "      <td>things a chunk applewatchultra</td>\n",
       "      <td>things a chunk applewatchultra</td>\n",
       "      <td>NEGATIVE</td>\n",
       "      <td>POSITIVE</td>\n",
       "      <td>True</td>\n",
       "    </tr>\n",
       "    <tr>\n",
       "      <th>566</th>\n",
       "      <td>what</td>\n",
       "      <td>what</td>\n",
       "      <td>NEGATIVE</td>\n",
       "      <td>NEUTRAL</td>\n",
       "      <td>True</td>\n",
       "    </tr>\n",
       "    <tr>\n",
       "      <th>615</th>\n",
       "      <td>end of discussion</td>\n",
       "      <td>end of discussion</td>\n",
       "      <td>NEGATIVE</td>\n",
       "      <td>NEUTRAL</td>\n",
       "      <td>True</td>\n",
       "    </tr>\n",
       "    <tr>\n",
       "      <th>675</th>\n",
       "      <td>it wears her out</td>\n",
       "      <td>it wears her out</td>\n",
       "      <td>NEGATIVE</td>\n",
       "      <td>POSITIVE</td>\n",
       "      <td>True</td>\n",
       "    </tr>\n",
       "    <tr>\n",
       "      <th>693</th>\n",
       "      <td>just got robbed iphonepro</td>\n",
       "      <td>just got robbed iphonepro</td>\n",
       "      <td>NEGATIVE</td>\n",
       "      <td>NEUTRAL</td>\n",
       "      <td>True</td>\n",
       "    </tr>\n",
       "    <tr>\n",
       "      <th>761</th>\n",
       "      <td>how is iphone camera</td>\n",
       "      <td>how is iphone camera</td>\n",
       "      <td>NEUTRAL</td>\n",
       "      <td>NEGATIVE</td>\n",
       "      <td>True</td>\n",
       "    </tr>\n",
       "    <tr>\n",
       "      <th>849</th>\n",
       "      <td>i tried it iphonepro</td>\n",
       "      <td>i tried it iphonepro</td>\n",
       "      <td>NEUTRAL</td>\n",
       "      <td>NEGATIVE</td>\n",
       "      <td>True</td>\n",
       "    </tr>\n",
       "    <tr>\n",
       "      <th>948</th>\n",
       "      <td>iphonepromax flop phone</td>\n",
       "      <td>iphonepromax flop phone</td>\n",
       "      <td>NEGATIVE</td>\n",
       "      <td>NEUTRAL</td>\n",
       "      <td>True</td>\n",
       "    </tr>\n",
       "    <tr>\n",
       "      <th>1002</th>\n",
       "      <td>if deviceiphone paddingtop</td>\n",
       "      <td>if deviceiphone paddingtop</td>\n",
       "      <td>NEUTRAL</td>\n",
       "      <td>NEGATIVE</td>\n",
       "      <td>True</td>\n",
       "    </tr>\n",
       "    <tr>\n",
       "      <th>1013</th>\n",
       "      <td>what a beauty iphonepro</td>\n",
       "      <td>what a beauty iphonepro</td>\n",
       "      <td>POSITIVE</td>\n",
       "      <td>NEUTRAL</td>\n",
       "      <td>True</td>\n",
       "    </tr>\n",
       "    <tr>\n",
       "      <th>1024</th>\n",
       "      <td>gorgeous deep purple iphonepro</td>\n",
       "      <td>gorgeous deep purple iphonepro</td>\n",
       "      <td>POSITIVE</td>\n",
       "      <td>NEUTRAL</td>\n",
       "      <td>True</td>\n",
       "    </tr>\n",
       "    <tr>\n",
       "      <th>1123</th>\n",
       "      <td>look at this</td>\n",
       "      <td>look at this</td>\n",
       "      <td>NEUTRAL</td>\n",
       "      <td>POSITIVE</td>\n",
       "      <td>True</td>\n",
       "    </tr>\n",
       "    <tr>\n",
       "      <th>1192</th>\n",
       "      <td>no i want iphonepromax</td>\n",
       "      <td>no i want iphonepromax</td>\n",
       "      <td>POSITIVE</td>\n",
       "      <td>NEGATIVE</td>\n",
       "      <td>True</td>\n",
       "    </tr>\n",
       "  </tbody>\n",
       "</table>\n",
       "</div>"
      ],
      "text/plain": [
       "                               tweet                          X_test  \\\n",
       "137                    iphonepro get                   iphonepro get   \n",
       "146         its working iphonepromax        its working iphonepromax   \n",
       "321       applewatchultra looks damn      applewatchultra looks damn   \n",
       "387   iphonepro early adopter island  iphonepro early adopter island   \n",
       "392             iphonepromax ordered            iphonepromax ordered   \n",
       "442                  pumpkins design                 pumpkins design   \n",
       "545   things a chunk applewatchultra  things a chunk applewatchultra   \n",
       "566                             what                            what   \n",
       "615                end of discussion               end of discussion   \n",
       "675                 it wears her out                it wears her out   \n",
       "693        just got robbed iphonepro       just got robbed iphonepro   \n",
       "761             how is iphone camera            how is iphone camera   \n",
       "849             i tried it iphonepro            i tried it iphonepro   \n",
       "948          iphonepromax flop phone         iphonepromax flop phone   \n",
       "1002      if deviceiphone paddingtop      if deviceiphone paddingtop   \n",
       "1013         what a beauty iphonepro         what a beauty iphonepro   \n",
       "1024  gorgeous deep purple iphonepro  gorgeous deep purple iphonepro   \n",
       "1123                    look at this                    look at this   \n",
       "1192          no i want iphonepromax          no i want iphonepromax   \n",
       "\n",
       "        y_test   stacked  short_tweet  \n",
       "137   POSITIVE   NEUTRAL         True  \n",
       "146   POSITIVE  NEGATIVE         True  \n",
       "321    NEUTRAL  POSITIVE         True  \n",
       "387    NEUTRAL  POSITIVE         True  \n",
       "392    NEUTRAL  NEGATIVE         True  \n",
       "442    NEUTRAL  POSITIVE         True  \n",
       "545   NEGATIVE  POSITIVE         True  \n",
       "566   NEGATIVE   NEUTRAL         True  \n",
       "615   NEGATIVE   NEUTRAL         True  \n",
       "675   NEGATIVE  POSITIVE         True  \n",
       "693   NEGATIVE   NEUTRAL         True  \n",
       "761    NEUTRAL  NEGATIVE         True  \n",
       "849    NEUTRAL  NEGATIVE         True  \n",
       "948   NEGATIVE   NEUTRAL         True  \n",
       "1002   NEUTRAL  NEGATIVE         True  \n",
       "1013  POSITIVE   NEUTRAL         True  \n",
       "1024  POSITIVE   NEUTRAL         True  \n",
       "1123   NEUTRAL  POSITIVE         True  \n",
       "1192  POSITIVE  NEGATIVE         True  "
      ]
     },
     "execution_count": 82,
     "metadata": {},
     "output_type": "execute_result"
    }
   ],
   "source": [
    "# Eliminate errors for short normalized tweet length\n",
    "error_df['short_tweet'] = error_df['X_test'].apply(lambda x: len(x.split(' ')) < 5)\n",
    "error_df.loc[error_df['short_tweet'] == True][['tweet', 'X_test', 'y_test', 'stacked', 'short_tweet']]"
   ]
  },
  {
   "cell_type": "markdown",
   "metadata": {},
   "source": [
    "We notice that stopwords are sometimes necessary to define the sentiments of a tweet."
   ]
  },
  {
   "cell_type": "code",
   "execution_count": null,
   "metadata": {},
   "outputs": [],
   "source": []
  }
 ],
 "metadata": {
  "colab": {
   "collapsed_sections": [],
   "provenance": [],
   "toc_visible": true
  },
  "gpuClass": "standard",
  "kernelspec": {
   "display_name": "Python 3 (ipykernel)",
   "language": "python",
   "name": "python3"
  },
  "language_info": {
   "codemirror_mode": {
    "name": "ipython",
    "version": 3
   },
   "file_extension": ".py",
   "mimetype": "text/x-python",
   "name": "python",
   "nbconvert_exporter": "python",
   "pygments_lexer": "ipython3",
   "version": "3.9.7"
  }
 },
 "nbformat": 4,
 "nbformat_minor": 1
}
