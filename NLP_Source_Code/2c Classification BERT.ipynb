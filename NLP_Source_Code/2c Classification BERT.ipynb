{
  "cells": [
    {
      "cell_type": "markdown",
      "metadata": {
        "id": "8o_BLrwT77s3"
      },
      "source": [
        "# Classification"
      ]
    },
    {
      "cell_type": "markdown",
      "metadata": {
        "id": "ruL7TkGZTJXs"
      },
      "source": [
        "### Import Packages"
      ]
    },
    {
      "cell_type": "code",
      "execution_count": 1,
      "metadata": {
        "colab": {
          "base_uri": "https://localhost:8080/"
        },
        "id": "ncAdzwABo0DW",
        "outputId": "2c22eb4b-3a18-49e2-d28d-622bdbe98ebb"
      },
      "outputs": [
        {
          "output_type": "stream",
          "name": "stdout",
          "text": [
            "Looking in indexes: https://pypi.org/simple, https://us-python.pkg.dev/colab-wheels/public/simple/\n",
            "Requirement already satisfied: tensorflow_hub in /usr/local/lib/python3.7/dist-packages (0.12.0)\n",
            "Requirement already satisfied: protobuf>=3.8.0 in /usr/local/lib/python3.7/dist-packages (from tensorflow_hub) (3.17.3)\n",
            "Requirement already satisfied: numpy>=1.12.0 in /usr/local/lib/python3.7/dist-packages (from tensorflow_hub) (1.21.6)\n",
            "Requirement already satisfied: six>=1.9 in /usr/local/lib/python3.7/dist-packages (from protobuf>=3.8.0->tensorflow_hub) (1.15.0)\n",
            "Looking in indexes: https://pypi.org/simple, https://us-python.pkg.dev/colab-wheels/public/simple/\n",
            "Collecting tensorflow_text\n",
            "  Downloading tensorflow_text-2.10.0-cp37-cp37m-manylinux_2_17_x86_64.manylinux2014_x86_64.whl (5.9 MB)\n",
            "\u001b[K     |████████████████████████████████| 5.9 MB 14.2 MB/s \n",
            "\u001b[?25hCollecting tensorflow<2.11,>=2.10.0\n",
            "  Downloading tensorflow-2.10.0-cp37-cp37m-manylinux_2_17_x86_64.manylinux2014_x86_64.whl (578.0 MB)\n",
            "\u001b[K     |████████████████████████████████| 578.0 MB 17 kB/s \n",
            "\u001b[?25hRequirement already satisfied: tensorflow-hub>=0.8.0 in /usr/local/lib/python3.7/dist-packages (from tensorflow_text) (0.12.0)\n",
            "Requirement already satisfied: gast<=0.4.0,>=0.2.1 in /usr/local/lib/python3.7/dist-packages (from tensorflow<2.11,>=2.10.0->tensorflow_text) (0.4.0)\n",
            "Requirement already satisfied: libclang>=13.0.0 in /usr/local/lib/python3.7/dist-packages (from tensorflow<2.11,>=2.10.0->tensorflow_text) (14.0.6)\n",
            "Requirement already satisfied: absl-py>=1.0.0 in /usr/local/lib/python3.7/dist-packages (from tensorflow<2.11,>=2.10.0->tensorflow_text) (1.3.0)\n",
            "Requirement already satisfied: six>=1.12.0 in /usr/local/lib/python3.7/dist-packages (from tensorflow<2.11,>=2.10.0->tensorflow_text) (1.15.0)\n",
            "Collecting keras<2.11,>=2.10.0\n",
            "  Downloading keras-2.10.0-py2.py3-none-any.whl (1.7 MB)\n",
            "\u001b[K     |████████████████████████████████| 1.7 MB 56.0 MB/s \n",
            "\u001b[?25hRequirement already satisfied: grpcio<2.0,>=1.24.3 in /usr/local/lib/python3.7/dist-packages (from tensorflow<2.11,>=2.10.0->tensorflow_text) (1.50.0)\n",
            "Requirement already satisfied: protobuf<3.20,>=3.9.2 in /usr/local/lib/python3.7/dist-packages (from tensorflow<2.11,>=2.10.0->tensorflow_text) (3.17.3)\n",
            "Requirement already satisfied: termcolor>=1.1.0 in /usr/local/lib/python3.7/dist-packages (from tensorflow<2.11,>=2.10.0->tensorflow_text) (2.0.1)\n",
            "Requirement already satisfied: opt-einsum>=2.3.2 in /usr/local/lib/python3.7/dist-packages (from tensorflow<2.11,>=2.10.0->tensorflow_text) (3.3.0)\n",
            "Requirement already satisfied: tensorflow-io-gcs-filesystem>=0.23.1 in /usr/local/lib/python3.7/dist-packages (from tensorflow<2.11,>=2.10.0->tensorflow_text) (0.27.0)\n",
            "Collecting tensorboard<2.11,>=2.10\n",
            "  Downloading tensorboard-2.10.1-py3-none-any.whl (5.9 MB)\n",
            "\u001b[K     |████████████████████████████████| 5.9 MB 53.5 MB/s \n",
            "\u001b[?25hRequirement already satisfied: h5py>=2.9.0 in /usr/local/lib/python3.7/dist-packages (from tensorflow<2.11,>=2.10.0->tensorflow_text) (3.1.0)\n",
            "Collecting flatbuffers>=2.0\n",
            "  Downloading flatbuffers-22.10.26-py2.py3-none-any.whl (26 kB)\n",
            "Requirement already satisfied: google-pasta>=0.1.1 in /usr/local/lib/python3.7/dist-packages (from tensorflow<2.11,>=2.10.0->tensorflow_text) (0.2.0)\n",
            "Requirement already satisfied: typing-extensions>=3.6.6 in /usr/local/lib/python3.7/dist-packages (from tensorflow<2.11,>=2.10.0->tensorflow_text) (4.1.1)\n",
            "Requirement already satisfied: packaging in /usr/local/lib/python3.7/dist-packages (from tensorflow<2.11,>=2.10.0->tensorflow_text) (21.3)\n",
            "Requirement already satisfied: numpy>=1.20 in /usr/local/lib/python3.7/dist-packages (from tensorflow<2.11,>=2.10.0->tensorflow_text) (1.21.6)\n",
            "Requirement already satisfied: setuptools in /usr/local/lib/python3.7/dist-packages (from tensorflow<2.11,>=2.10.0->tensorflow_text) (57.4.0)\n",
            "Requirement already satisfied: wrapt>=1.11.0 in /usr/local/lib/python3.7/dist-packages (from tensorflow<2.11,>=2.10.0->tensorflow_text) (1.14.1)\n",
            "Requirement already satisfied: astunparse>=1.6.0 in /usr/local/lib/python3.7/dist-packages (from tensorflow<2.11,>=2.10.0->tensorflow_text) (1.6.3)\n",
            "Collecting tensorflow-estimator<2.11,>=2.10.0\n",
            "  Downloading tensorflow_estimator-2.10.0-py2.py3-none-any.whl (438 kB)\n",
            "\u001b[K     |████████████████████████████████| 438 kB 68.6 MB/s \n",
            "\u001b[?25hRequirement already satisfied: keras-preprocessing>=1.1.1 in /usr/local/lib/python3.7/dist-packages (from tensorflow<2.11,>=2.10.0->tensorflow_text) (1.1.2)\n",
            "Requirement already satisfied: wheel<1.0,>=0.23.0 in /usr/local/lib/python3.7/dist-packages (from astunparse>=1.6.0->tensorflow<2.11,>=2.10.0->tensorflow_text) (0.37.1)\n",
            "Requirement already satisfied: cached-property in /usr/local/lib/python3.7/dist-packages (from h5py>=2.9.0->tensorflow<2.11,>=2.10.0->tensorflow_text) (1.5.2)\n",
            "Requirement already satisfied: markdown>=2.6.8 in /usr/local/lib/python3.7/dist-packages (from tensorboard<2.11,>=2.10->tensorflow<2.11,>=2.10.0->tensorflow_text) (3.4.1)\n",
            "Requirement already satisfied: tensorboard-plugin-wit>=1.6.0 in /usr/local/lib/python3.7/dist-packages (from tensorboard<2.11,>=2.10->tensorflow<2.11,>=2.10.0->tensorflow_text) (1.8.1)\n",
            "Requirement already satisfied: google-auth-oauthlib<0.5,>=0.4.1 in /usr/local/lib/python3.7/dist-packages (from tensorboard<2.11,>=2.10->tensorflow<2.11,>=2.10.0->tensorflow_text) (0.4.6)\n",
            "Requirement already satisfied: werkzeug>=1.0.1 in /usr/local/lib/python3.7/dist-packages (from tensorboard<2.11,>=2.10->tensorflow<2.11,>=2.10.0->tensorflow_text) (1.0.1)\n",
            "Requirement already satisfied: requests<3,>=2.21.0 in /usr/local/lib/python3.7/dist-packages (from tensorboard<2.11,>=2.10->tensorflow<2.11,>=2.10.0->tensorflow_text) (2.23.0)\n",
            "Requirement already satisfied: google-auth<3,>=1.6.3 in /usr/local/lib/python3.7/dist-packages (from tensorboard<2.11,>=2.10->tensorflow<2.11,>=2.10.0->tensorflow_text) (1.35.0)\n",
            "Requirement already satisfied: tensorboard-data-server<0.7.0,>=0.6.0 in /usr/local/lib/python3.7/dist-packages (from tensorboard<2.11,>=2.10->tensorflow<2.11,>=2.10.0->tensorflow_text) (0.6.1)\n",
            "Requirement already satisfied: pyasn1-modules>=0.2.1 in /usr/local/lib/python3.7/dist-packages (from google-auth<3,>=1.6.3->tensorboard<2.11,>=2.10->tensorflow<2.11,>=2.10.0->tensorflow_text) (0.2.8)\n",
            "Requirement already satisfied: cachetools<5.0,>=2.0.0 in /usr/local/lib/python3.7/dist-packages (from google-auth<3,>=1.6.3->tensorboard<2.11,>=2.10->tensorflow<2.11,>=2.10.0->tensorflow_text) (4.2.4)\n",
            "Requirement already satisfied: rsa<5,>=3.1.4 in /usr/local/lib/python3.7/dist-packages (from google-auth<3,>=1.6.3->tensorboard<2.11,>=2.10->tensorflow<2.11,>=2.10.0->tensorflow_text) (4.9)\n",
            "Requirement already satisfied: requests-oauthlib>=0.7.0 in /usr/local/lib/python3.7/dist-packages (from google-auth-oauthlib<0.5,>=0.4.1->tensorboard<2.11,>=2.10->tensorflow<2.11,>=2.10.0->tensorflow_text) (1.3.1)\n",
            "Requirement already satisfied: importlib-metadata>=4.4 in /usr/local/lib/python3.7/dist-packages (from markdown>=2.6.8->tensorboard<2.11,>=2.10->tensorflow<2.11,>=2.10.0->tensorflow_text) (4.13.0)\n",
            "Requirement already satisfied: zipp>=0.5 in /usr/local/lib/python3.7/dist-packages (from importlib-metadata>=4.4->markdown>=2.6.8->tensorboard<2.11,>=2.10->tensorflow<2.11,>=2.10.0->tensorflow_text) (3.10.0)\n",
            "Requirement already satisfied: pyasn1<0.5.0,>=0.4.6 in /usr/local/lib/python3.7/dist-packages (from pyasn1-modules>=0.2.1->google-auth<3,>=1.6.3->tensorboard<2.11,>=2.10->tensorflow<2.11,>=2.10.0->tensorflow_text) (0.4.8)\n",
            "Requirement already satisfied: idna<3,>=2.5 in /usr/local/lib/python3.7/dist-packages (from requests<3,>=2.21.0->tensorboard<2.11,>=2.10->tensorflow<2.11,>=2.10.0->tensorflow_text) (2.10)\n",
            "Requirement already satisfied: chardet<4,>=3.0.2 in /usr/local/lib/python3.7/dist-packages (from requests<3,>=2.21.0->tensorboard<2.11,>=2.10->tensorflow<2.11,>=2.10.0->tensorflow_text) (3.0.4)\n",
            "Requirement already satisfied: urllib3!=1.25.0,!=1.25.1,<1.26,>=1.21.1 in /usr/local/lib/python3.7/dist-packages (from requests<3,>=2.21.0->tensorboard<2.11,>=2.10->tensorflow<2.11,>=2.10.0->tensorflow_text) (1.24.3)\n",
            "Requirement already satisfied: certifi>=2017.4.17 in /usr/local/lib/python3.7/dist-packages (from requests<3,>=2.21.0->tensorboard<2.11,>=2.10->tensorflow<2.11,>=2.10.0->tensorflow_text) (2022.9.24)\n",
            "Requirement already satisfied: oauthlib>=3.0.0 in /usr/local/lib/python3.7/dist-packages (from requests-oauthlib>=0.7.0->google-auth-oauthlib<0.5,>=0.4.1->tensorboard<2.11,>=2.10->tensorflow<2.11,>=2.10.0->tensorflow_text) (3.2.2)\n",
            "Requirement already satisfied: pyparsing!=3.0.5,>=2.0.2 in /usr/local/lib/python3.7/dist-packages (from packaging->tensorflow<2.11,>=2.10.0->tensorflow_text) (3.0.9)\n",
            "Installing collected packages: tensorflow-estimator, tensorboard, keras, flatbuffers, tensorflow, tensorflow-text\n",
            "  Attempting uninstall: tensorflow-estimator\n",
            "    Found existing installation: tensorflow-estimator 2.9.0\n",
            "    Uninstalling tensorflow-estimator-2.9.0:\n",
            "      Successfully uninstalled tensorflow-estimator-2.9.0\n",
            "  Attempting uninstall: tensorboard\n",
            "    Found existing installation: tensorboard 2.9.1\n",
            "    Uninstalling tensorboard-2.9.1:\n",
            "      Successfully uninstalled tensorboard-2.9.1\n",
            "  Attempting uninstall: keras\n",
            "    Found existing installation: keras 2.9.0\n",
            "    Uninstalling keras-2.9.0:\n",
            "      Successfully uninstalled keras-2.9.0\n",
            "  Attempting uninstall: flatbuffers\n",
            "    Found existing installation: flatbuffers 1.12\n",
            "    Uninstalling flatbuffers-1.12:\n",
            "      Successfully uninstalled flatbuffers-1.12\n",
            "  Attempting uninstall: tensorflow\n",
            "    Found existing installation: tensorflow 2.9.2\n",
            "    Uninstalling tensorflow-2.9.2:\n",
            "      Successfully uninstalled tensorflow-2.9.2\n",
            "Successfully installed flatbuffers-22.10.26 keras-2.10.0 tensorboard-2.10.1 tensorflow-2.10.0 tensorflow-estimator-2.10.0 tensorflow-text-2.10.0\n"
          ]
        },
        {
          "output_type": "stream",
          "name": "stderr",
          "text": [
            "[nltk_data] Downloading package punkt to /root/nltk_data...\n",
            "[nltk_data]   Unzipping tokenizers/punkt.zip.\n",
            "[nltk_data] Downloading package stopwords to /root/nltk_data...\n",
            "[nltk_data]   Unzipping corpora/stopwords.zip.\n",
            "[nltk_data] Downloading package wordnet to /root/nltk_data...\n",
            "[nltk_data] Downloading package omw-1.4 to /root/nltk_data...\n"
          ]
        }
      ],
      "source": [
        "!pip install tensorflow_hub\n",
        "!pip install tensorflow_text\n",
        "\n",
        "import tensorflow as tf\n",
        "import tensorflow_hub as hub\n",
        "import tensorflow_text as text\n",
        "from tensorflow.keras.optimizers import Adam\n",
        "from tensorflow.keras.callbacks import EarlyStopping\n",
        "\n",
        "import pandas as pd\n",
        "import matplotlib.pyplot as plt\n",
        "import seaborn as sns\n",
        "import numpy as np\n",
        "\n",
        "import nltk\n",
        "from nltk.tokenize import word_tokenize  \n",
        "from nltk.corpus import stopwords\n",
        "from nltk.stem import WordNetLemmatizer\n",
        "from nltk.stem.snowball import SnowballStemmer\n",
        "from nltk.stem.porter import *\n",
        "\n",
        "from sklearn.model_selection import train_test_split\n",
        "from sklearn.metrics import accuracy_score\n",
        "from sklearn.metrics import f1_score\n",
        "from sklearn.metrics import classification_report, confusion_matrix\n",
        "from sklearn.model_selection import StratifiedKFold\n",
        "\n",
        "p_stemmer = PorterStemmer() # initialize PorterStemmer\n",
        "\n",
        "# Set seed for RNG\n",
        "SEED = 12\n",
        "\n",
        "nltk.download('punkt')\n",
        "nltk.download('stopwords')\n",
        "nltk.download('wordnet')\n",
        "nltk.download('omw-1.4')\n",
        "\n",
        "import warnings\n",
        "warnings.filterwarnings('ignore')"
      ]
    },
    {
      "cell_type": "markdown",
      "metadata": {
        "id": "kgITriED7sSy"
      },
      "source": [
        "### Fetching from Github\n",
        "\n",
        "After further manual data-preprocessing, raw dataset is uploaded to Github and retrieved via url link."
      ]
    },
    {
      "cell_type": "code",
      "execution_count": 2,
      "metadata": {
        "id": "c69LbwnOtz6J"
      },
      "outputs": [],
      "source": [
        "# Retrieve dataset via url link\n",
        "# Github Repo: https://github.com/X-Yang98/CE4045-NLP\n",
        "overall_url = \"https://raw.githubusercontent.com/xiao-yangg/CE4045-NLP/main/combined_dataset.csv\"\n",
        "\n",
        "overall_df = pd.read_csv(overall_url, encoding='latin') # train and test dataset"
      ]
    },
    {
      "cell_type": "code",
      "execution_count": 3,
      "metadata": {
        "id": "x7P3F6-TU3U7"
      },
      "outputs": [],
      "source": [
        "# Sanity check for any duplicates\n",
        "overall_df.drop_duplicates(['tweet'], inplace=True)\n",
        "\n",
        "# Add index column for identification\n",
        "overall_df['index'] = list(overall_df.index)"
      ]
    },
    {
      "cell_type": "markdown",
      "metadata": {
        "id": "xvylDaR0YDqH"
      },
      "source": [
        "Inter-annotator agreement for evaluation dataset."
      ]
    },
    {
      "cell_type": "code",
      "execution_count": 4,
      "metadata": {
        "colab": {
          "base_uri": "https://localhost:8080/"
        },
        "id": "d90vdyhHYJIH",
        "outputId": "876fcb4d-23c8-445c-bc9c-0a618524ef13"
      },
      "outputs": [
        {
          "output_type": "stream",
          "name": "stdout",
          "text": [
            "Inter-annotator agreement is 89.29166666666667%.\n"
          ]
        }
      ],
      "source": [
        "no_disagreements = len(overall_df[((overall_df['label_1'] != overall_df['label_2']) | \n",
        "                                (overall_df['label_2'] != overall_df['label_3']) |\n",
        "                                (overall_df['label_3'] != overall_df['label_1'])\n",
        "                               )])\n",
        "\n",
        "print(\"Inter-annotator agreement is {}%.\".format((len(overall_df) - no_disagreements)/len(overall_df)*100))"
      ]
    },
    {
      "cell_type": "markdown",
      "metadata": {
        "id": "KWGcR2UESt0y"
      },
      "source": [
        "General function to display sentiment and sentence length distribution."
      ]
    },
    {
      "cell_type": "code",
      "execution_count": 5,
      "metadata": {
        "id": "mwu-kFtpU7kv"
      },
      "outputs": [],
      "source": [
        "def show_distribution(label, tweets, name):\n",
        "    plt.figure(figsize=(18,6))\n",
        "\n",
        "    # Bar graph visualisation of sentiment distribution\n",
        "    plt.subplot(1,2,1)\n",
        "    sns.countplot(x=label)\n",
        "    plt.xlabel(\"Sentiment\")\n",
        "    plt.ylabel(\"Count\")\n",
        "    plt.title(\"Sentiments Distribution in \" + name + \" Dataset\")\n",
        "\n",
        "    # Bar graph visualisation of sentence length distribution\n",
        "    plt.subplot(1,2,2)\n",
        "    sns.histplot([len(s) for s in tweets], bins=100)\n",
        "    plt.xlabel(\"Sentence Length\")\n",
        "    plt.ylabel(\"Count\")\n",
        "    plt.title(\"Sentence Length Distribution in \" + name + \" Dataset\")"
      ]
    },
    {
      "cell_type": "code",
      "execution_count": 6,
      "metadata": {
        "colab": {
          "base_uri": "https://localhost:8080/",
          "height": 256
        },
        "id": "UFunldUfS6OD",
        "outputId": "5a5eb50b-0530-4d95-a7f1-26ddb1c7d492"
      },
      "outputs": [
        {
          "output_type": "display_data",
          "data": {
            "text/plain": [
              "<Figure size 1296x432 with 2 Axes>"
            ],
            "image/png": "[encoded data removed]"
          },
          "metadata": {
            "needs_background": "light"
          }
        }
      ],
      "source": [
        "show_distribution(overall_df['final_label'], overall_df['tweet'], \"Overall\")"
      ]
    },
    {
      "cell_type": "markdown",
      "metadata": {
        "id": "8gwaPUeOOGsS"
      },
      "source": [
        "### Text Normalization\n"
      ]
    },
    {
      "cell_type": "code",
      "execution_count": 7,
      "metadata": {
        "id": "el2VL6_-Ppfm"
      },
      "outputs": [],
      "source": [
        "# Tokenization\n",
        "def tokenize(text):\n",
        "    return word_tokenize(text)\n",
        "\n",
        "# Removal of Stopwords\n",
        "def remove_stopword(text):\n",
        "    nltk_tokenList = tokenize(text) # tokenize\n",
        "\n",
        "    filtered_sentence = [] # sentence without stopwords\n",
        "    nltk_stop_words = set(stopwords.words(\"english\"))\n",
        "    for w in nltk_tokenList:  \n",
        "        if w not in nltk_stop_words:  \n",
        "            filtered_sentence.append(w)\n",
        "    \n",
        "    if len(filtered_sentence) <= 13:\n",
        "        return text\n",
        "    return ' '.join(filtered_sentence)\n",
        "\n",
        "# Stemming\n",
        "def stemming(token_list):\n",
        "    stemmed_list = []\n",
        "    for word in token_list:\n",
        "        stemmed_list.append(p_stemmer.stem(word))\n",
        "\n",
        "    return stemmed_list\n",
        "\n",
        "# Lemmatization\n",
        "def lemmatization(stemmed_list):\n",
        "    wordnet_lemmatizer = WordNetLemmatizer()\n",
        "    lemma_list = []\n",
        "    for word in stemmed_list:\n",
        "        lemma_list.append(wordnet_lemmatizer.lemmatize(word))\n",
        "\n",
        "    return lemma_list\n",
        "\n",
        "# Combination of stemming and lemmatization\n",
        "def nltk_process(text):\n",
        "    nltk_tokenList = tokenize(text) # tokenize\n",
        "    nltk_stemmedList = stemming(nltk_tokenList) # stemmed\n",
        "    nltk_lemmaList = lemmatization(nltk_stemmedList) # lemma\n",
        "\n",
        "    return ' '.join(nltk_tokenList)"
      ]
    },
    {
      "cell_type": "markdown",
      "metadata": {
        "id": "bNyMYg6W-Ev8"
      },
      "source": [
        "Apply normalization to dataset."
      ]
    },
    {
      "cell_type": "code",
      "execution_count": 8,
      "metadata": {
        "id": "RXcgykfMPpiZ"
      },
      "outputs": [],
      "source": [
        "def normalize_df(df):    \n",
        "    df['no_stopword_tweet'] = df['tweet'].apply(remove_stopword) # obtain tweet without stopwords\n",
        "    df['normalize_tweet'] = df['no_stopword_tweet'].apply(nltk_process) # tweet with no stopwords go through stemming and lemma\n",
        "\n",
        "    # New dataframe of text normalized tweets\n",
        "    columns_titles = ['normalize_tweet','final_label', 'index']\n",
        "    return df.reindex(columns=columns_titles)"
      ]
    },
    {
      "cell_type": "code",
      "execution_count": 9,
      "metadata": {
        "id": "yS2Kr3cUV4Ls"
      },
      "outputs": [],
      "source": [
        "norm_df = normalize_df(overall_df)"
      ]
    },
    {
      "cell_type": "markdown",
      "source": [
        "### Split into train and test datasets"
      ],
      "metadata": {
        "id": "bAPTF8V3r7EI"
      }
    },
    {
      "cell_type": "code",
      "source": [
        "X_train, X_test, Y_train, Y_test = train_test_split(norm_df['normalize_tweet'], # tweet\n",
        "                                                    norm_df['final_label'], # label\n",
        "                                                    test_size=0.1, # test size 10% \n",
        "                                                    random_state = SEED,\n",
        "                                                    shuffle=True,\n",
        "                                                    stratify=norm_df['final_label']) # ensure even proportion of Positive, Negative, Neutral in test data"
      ],
      "metadata": {
        "id": "7RP_0zdJr7tT"
      },
      "execution_count": 10,
      "outputs": []
    },
    {
      "cell_type": "code",
      "source": [
        "show_distribution(Y_train, X_train, \"Train\")"
      ],
      "metadata": {
        "colab": {
          "base_uri": "https://localhost:8080/",
          "height": 256
        },
        "id": "Rl2N6sajr7v1",
        "outputId": "b0c4fbd1-03d9-474c-c162-fa734a3f279e"
      },
      "execution_count": 11,
      "outputs": [
        {
          "output_type": "display_data",
          "data": {
            "text/plain": [
              "<Figure size 1296x432 with 2 Axes>"
            ],
            "image/png": "[encoded data removed]"
          },
          "metadata": {
            "needs_background": "light"
          }
        }
      ]
    },
    {
      "cell_type": "code",
      "source": [
        "show_distribution(Y_test, X_test, \"Test\")"
      ],
      "metadata": {
        "colab": {
          "base_uri": "https://localhost:8080/",
          "height": 257
        },
        "id": "p7v2566Qr7x9",
        "outputId": "b9d877bf-4478-4fe8-b790-89c65a1e4e5f"
      },
      "execution_count": 12,
      "outputs": [
        {
          "output_type": "display_data",
          "data": {
            "text/plain": [
              "<Figure size 1296x432 with 2 Axes>"
            ],
            "image/png": "[encoded data removed]"
          },
          "metadata": {
            "needs_background": "light"
          }
        }
      ]
    },
    {
      "cell_type": "markdown",
      "source": [
        "### BERT"
      ],
      "metadata": {
        "id": "6-FqiFBWGR4g"
      }
    },
    {
      "cell_type": "markdown",
      "source": [
        "##### Model Initialization"
      ],
      "metadata": {
        "id": "pzZnYTOON2dE"
      }
    },
    {
      "cell_type": "code",
      "source": [
        "tfhub_handle_encoder = \"https://tfhub.dev/tensorflow/small_bert/bert_en_uncased_L-4_H-512_A-8/1\"\n",
        "tfhub_handle_preprocess = \"https://tfhub.dev/tensorflow/bert_en_uncased_preprocess/3\""
      ],
      "metadata": {
        "id": "9KnS8Q5CN1Te"
      },
      "execution_count": 13,
      "outputs": []
    },
    {
      "cell_type": "code",
      "source": [
        "# Callbacks\n",
        "cb = [tf.keras.callbacks.EarlyStopping(monitor='val_accuracy', patience=3)]"
      ],
      "metadata": {
        "id": "jVu4YchEOdNt"
      },
      "execution_count": 14,
      "outputs": []
    },
    {
      "cell_type": "code",
      "source": [
        "def build_BERT():\n",
        "    \n",
        "    input = tf.keras.layers.Input(shape=(), dtype=tf.string, name='tweet')\n",
        "\n",
        "    preprocess_layer = hub.KerasLayer(tfhub_handle_preprocess, name='preprocessing')\n",
        "    \n",
        "    encoder_inputs = preprocess_layer(input)\n",
        "    encoder = hub.KerasLayer(tfhub_handle_encoder, trainable=True, name='BERT_encoder')\n",
        "    \n",
        "    outputs = encoder(encoder_inputs)\n",
        "    x = outputs['pooled_output']\n",
        "    x = tf.keras.layers.Dropout(0.1)(x)\n",
        "    x = tf.keras.layers.Dense(3, activation='softmax', name='classifier')(x)\n",
        "    \n",
        "    loss = tf.keras.losses.CategoricalCrossentropy(from_logits=True)\n",
        "    metric = tf.metrics.CategoricalAccuracy('accuracy')\n",
        "    optimizer = Adam(learning_rate=5e-05, epsilon=1e-08, decay=0.01, clipnorm=1.0)\n",
        "\n",
        "    model = tf.keras.Model(input, x)\n",
        "    model.compile(optimizer=optimizer, loss=loss, metrics=metric)\n",
        "    return model"
      ],
      "metadata": {
        "id": "jT4Ja-uuOWy0"
      },
      "execution_count": 15,
      "outputs": []
    },
    {
      "cell_type": "code",
      "source": [
        "model = build_BERT()\n",
        "model.summary()"
      ],
      "metadata": {
        "colab": {
          "base_uri": "https://localhost:8080/"
        },
        "id": "sFLV7dOWOY1i",
        "outputId": "490c2ddb-8011-4dad-d3cb-7d3793664dcf"
      },
      "execution_count": 16,
      "outputs": [
        {
          "output_type": "stream",
          "name": "stderr",
          "text": [
            "WARNING:tensorflow:Please fix your imports. Module tensorflow.python.training.tracking.data_structures has been moved to tensorflow.python.trackable.data_structures. The old module will be deleted in version 2.11.\n"
          ]
        },
        {
          "output_type": "stream",
          "name": "stdout",
          "text": [
            "Model: \"model\"\n",
            "__________________________________________________________________________________________________\n",
            " Layer (type)                   Output Shape         Param #     Connected to                     \n",
            "==================================================================================================\n",
            " tweet (InputLayer)             [(None,)]            0           []                               \n",
            "                                                                                                  \n",
            " preprocessing (KerasLayer)     {'input_word_ids':   0           ['tweet[0][0]']                  \n",
            "                                (None, 128),                                                      \n",
            "                                 'input_mask': (Non                                               \n",
            "                                e, 128),                                                          \n",
            "                                 'input_type_ids':                                                \n",
            "                                (None, 128)}                                                      \n",
            "                                                                                                  \n",
            " BERT_encoder (KerasLayer)      {'sequence_output':  28763649    ['preprocessing[0][0]',          \n",
            "                                 (None, 128, 512),                'preprocessing[0][1]',          \n",
            "                                 'pooled_output': (               'preprocessing[0][2]']          \n",
            "                                None, 512),                                                       \n",
            "                                 'encoder_outputs':                                               \n",
            "                                 [(None, 128, 512),                                               \n",
            "                                 (None, 128, 512),                                                \n",
            "                                 (None, 128, 512),                                                \n",
            "                                 (None, 128, 512)],                                               \n",
            "                                 'default': (None,                                                \n",
            "                                512)}                                                             \n",
            "                                                                                                  \n",
            " dropout (Dropout)              (None, 512)          0           ['BERT_encoder[0][5]']           \n",
            "                                                                                                  \n",
            " classifier (Dense)             (None, 3)            1539        ['dropout[0][0]']                \n",
            "                                                                                                  \n",
            "==================================================================================================\n",
            "Total params: 28,765,188\n",
            "Trainable params: 28,765,187\n",
            "Non-trainable params: 1\n",
            "__________________________________________________________________________________________________\n"
          ]
        }
      ]
    },
    {
      "cell_type": "markdown",
      "source": [
        "##### 4-Fold Cross Validation"
      ],
      "metadata": {
        "id": "SaIsS-lONZHp"
      }
    },
    {
      "cell_type": "code",
      "source": [
        "fold_names = ['Fold 1', 'Fold 2', 'Fold 3', 'Fold 4']"
      ],
      "metadata": {
        "id": "Y3r_A06cSf9A"
      },
      "execution_count": 17,
      "outputs": []
    },
    {
      "cell_type": "code",
      "source": [
        "cv = StratifiedKFold(n_splits=4, shuffle=True, random_state=SEED)\n",
        "\n",
        "X = pd.DataFrame(X_train).reset_index()['normalize_tweet']\n",
        "Y = pd.DataFrame(Y_train).reset_index()['final_label']\n",
        "\n",
        "acc = {'Fold 1': {}, 'Fold 2': {}, 'Fold 3': {}, 'Fold 4':{}}\n",
        "fold = 0\n",
        "for train_idx, test_idx in cv.split(X, Y):\n",
        "    print(\"***** Validating {} *****\".format(fold_names[fold]))\n",
        "\n",
        "    x_train, y_train = X[train_idx], Y[train_idx]\n",
        "    x_val, y_val = X[test_idx], Y[test_idx]\n",
        "    \n",
        "    y_train_c = tf.keras.utils.to_categorical(y_train.astype('category').cat.codes.values, \n",
        "                                              num_classes=3)\n",
        "    y_val_c = tf.keras.utils.to_categorical(y_val.astype('category').cat.codes.values, \n",
        "                                             num_classes=3)\n",
        "    \n",
        "    history = model.fit(x=x_train,\n",
        "                        y=y_train_c,\n",
        "                        validation_data=(x_val, y_val_c),\n",
        "                        epochs=5,\n",
        "                        callbacks=cb,\n",
        "                        verbose=1)\n",
        "    \n",
        "    acc[fold_names[fold]]['accuracy'] = history.history['accuracy']\n",
        "    acc[fold_names[fold]]['val_accuracy'] = history.history['val_accuracy']\n",
        "    fold += 1"
      ],
      "metadata": {
        "colab": {
          "base_uri": "https://localhost:8080/"
        },
        "id": "vClANaKpNE35",
        "outputId": "ec7a1450-68ff-4961-d1e0-fd49b9ea7bef"
      },
      "execution_count": 18,
      "outputs": [
        {
          "output_type": "stream",
          "name": "stdout",
          "text": [
            "***** Validating Fold 1 *****\n",
            "Epoch 1/5\n",
            "102/102 [==============================] - 43s 289ms/step - loss: 0.8756 - accuracy: 0.6062 - val_loss: 0.7433 - val_accuracy: 0.6806\n",
            "Epoch 2/5\n",
            "102/102 [==============================] - 24s 239ms/step - loss: 0.6554 - accuracy: 0.7299 - val_loss: 0.6984 - val_accuracy: 0.7056\n",
            "Epoch 3/5\n",
            "102/102 [==============================] - 25s 246ms/step - loss: 0.5408 - accuracy: 0.7781 - val_loss: 0.7088 - val_accuracy: 0.7259\n",
            "Epoch 4/5\n",
            "102/102 [==============================] - 24s 236ms/step - loss: 0.4537 - accuracy: 0.8256 - val_loss: 0.7352 - val_accuracy: 0.7222\n",
            "Epoch 5/5\n",
            "102/102 [==============================] - 25s 244ms/step - loss: 0.4099 - accuracy: 0.8491 - val_loss: 0.7424 - val_accuracy: 0.7204\n",
            "***** Validating Fold 2 *****\n",
            "Epoch 1/5\n",
            "102/102 [==============================] - 24s 238ms/step - loss: 0.4920 - accuracy: 0.8173 - val_loss: 0.2698 - val_accuracy: 0.9139\n",
            "Epoch 2/5\n",
            "102/102 [==============================] - 24s 236ms/step - loss: 0.4556 - accuracy: 0.8309 - val_loss: 0.2794 - val_accuracy: 0.9065\n",
            "Epoch 3/5\n",
            "102/102 [==============================] - 27s 265ms/step - loss: 0.4144 - accuracy: 0.8423 - val_loss: 0.2753 - val_accuracy: 0.9037\n",
            "Epoch 4/5\n",
            "102/102 [==============================] - 26s 256ms/step - loss: 0.3832 - accuracy: 0.8565 - val_loss: 0.2807 - val_accuracy: 0.9000\n",
            "***** Validating Fold 3 *****\n",
            "Epoch 1/5\n",
            "102/102 [==============================] - 24s 238ms/step - loss: 0.3939 - accuracy: 0.8546 - val_loss: 0.1547 - val_accuracy: 0.9593\n",
            "Epoch 2/5\n",
            "102/102 [==============================] - 24s 239ms/step - loss: 0.3644 - accuracy: 0.8642 - val_loss: 0.1518 - val_accuracy: 0.9556\n",
            "Epoch 3/5\n",
            "102/102 [==============================] - 24s 236ms/step - loss: 0.3364 - accuracy: 0.8753 - val_loss: 0.1566 - val_accuracy: 0.9509\n",
            "Epoch 4/5\n",
            "102/102 [==============================] - 24s 236ms/step - loss: 0.3211 - accuracy: 0.8772 - val_loss: 0.1589 - val_accuracy: 0.9519\n",
            "***** Validating Fold 4 *****\n",
            "Epoch 1/5\n",
            "102/102 [==============================] - 24s 238ms/step - loss: 0.3241 - accuracy: 0.8781 - val_loss: 0.1277 - val_accuracy: 0.9676\n",
            "Epoch 2/5\n",
            "102/102 [==============================] - 24s 236ms/step - loss: 0.3184 - accuracy: 0.8840 - val_loss: 0.1280 - val_accuracy: 0.9667\n",
            "Epoch 3/5\n",
            "102/102 [==============================] - 24s 235ms/step - loss: 0.2914 - accuracy: 0.8892 - val_loss: 0.1296 - val_accuracy: 0.9648\n",
            "Epoch 4/5\n",
            "102/102 [==============================] - 24s 235ms/step - loss: 0.2633 - accuracy: 0.9062 - val_loss: 0.1337 - val_accuracy: 0.9657\n"
          ]
        }
      ]
    },
    {
      "cell_type": "markdown",
      "source": [
        "##### Visualise Accuracies across K-Folds"
      ],
      "metadata": {
        "id": "Mw6p3_HXOpH0"
      }
    },
    {
      "cell_type": "code",
      "source": [
        "colors = ['blue', 'orange', 'green', 'red']"
      ],
      "metadata": {
        "id": "WxR8eo8sUDlK"
      },
      "execution_count": 19,
      "outputs": []
    },
    {
      "cell_type": "code",
      "source": [
        "graph_type = ['_acc', '_val_acc']\n",
        "\n",
        "plt.figure()\n",
        "\n",
        "for i in range(len(fold_names)):\n",
        "    plt.plot(acc[fold_names[i]]['accuracy'], marker='', color=colors[i], linewidth=2, \n",
        "             linestyle='dashed', label=fold_names[i]+graph_type[0])\n",
        "    plt.plot(acc[fold_names[i]]['val_accuracy'], marker='', color=colors[i], linewidth=2, \n",
        "             label=fold_names[i]+graph_type[1])\n",
        "\n",
        "plt.xticks([i for i in range(0, 5)])\n",
        "plt.ylabel('cross-validation accuracy')\n",
        "plt.xlabel('epoch')\n",
        "plt.legend()\n",
        "plt.show()"
      ],
      "metadata": {
        "colab": {
          "base_uri": "https://localhost:8080/",
          "height": 279
        },
        "id": "kY_V8v5DT_DL",
        "outputId": "4410a551-492e-46b1-9e9b-f161b025c5d4"
      },
      "execution_count": 20,
      "outputs": [
        {
          "output_type": "display_data",
          "data": {
            "text/plain": [
              "<Figure size 432x288 with 1 Axes>"
            ],
            "image/png": "[encoded data removed]"
          },
          "metadata": {
            "needs_background": "light"
          }
        }
      ]
    },
    {
      "cell_type": "code",
      "source": [
        "plt.figure()\n",
        "\n",
        "for i in range(len(fold_names)):\n",
        "    res = [None, None, None, None]\n",
        "    res[i] = acc[fold_names[i]]['val_accuracy'][-1]\n",
        "    \n",
        "    plt.plot(fold_names, res, marker = 'x', linestyle = 'None', \n",
        "             color=colors[i])\n",
        "\n",
        "plt.xticks(fold_names)\n",
        "plt.ylabel('cross-validation accuracy')\n",
        "plt.xlabel('fold no.')\n",
        "plt.legend([f for f in fold_names], loc='upper right')"
      ],
      "metadata": {
        "colab": {
          "base_uri": "https://localhost:8080/",
          "height": 296
        },
        "id": "k13r40MxIbrj",
        "outputId": "3d7b50be-26f1-4d1c-e2fa-11f210f584ce"
      },
      "execution_count": 21,
      "outputs": [
        {
          "output_type": "execute_result",
          "data": {
            "text/plain": [
              "<matplotlib.legend.Legend at 0x7f3c51c77b90>"
            ]
          },
          "metadata": {},
          "execution_count": 21
        },
        {
          "output_type": "display_data",
          "data": {
            "text/plain": [
              "<Figure size 432x288 with 1 Axes>"
            ],
            "image/png": "[encoded data removed]"
          },
          "metadata": {
            "needs_background": "light"
          }
        }
      ]
    },
    {
      "cell_type": "markdown",
      "source": [
        "##### Model on Test data"
      ],
      "metadata": {
        "id": "KFUdH258txda"
      }
    },
    {
      "cell_type": "code",
      "source": [
        "y_train_c = tf.keras.utils.to_categorical(Y_train.astype('category').cat.codes.values, \n",
        "                                          num_classes=3)\n",
        "y_test_c = tf.keras.utils.to_categorical(Y_test.astype('category').cat.codes.values, \n",
        "                                         num_classes=3)"
      ],
      "metadata": {
        "id": "ZFyg__YCuEZf"
      },
      "execution_count": 22,
      "outputs": []
    },
    {
      "cell_type": "code",
      "source": [
        "history = model.fit(x=X_train,\n",
        "                    y=y_train_c,\n",
        "                    validation_data=(X_test, y_test_c),\n",
        "                    epochs=5,\n",
        "                    callbacks=cb,\n",
        "                    verbose=1)"
      ],
      "metadata": {
        "colab": {
          "base_uri": "https://localhost:8080/"
        },
        "id": "O57PPmAdtwPE",
        "outputId": "9a81a237-ec81-41f4-c5fd-1f37ee8188b7"
      },
      "execution_count": 23,
      "outputs": [
        {
          "output_type": "stream",
          "name": "stdout",
          "text": [
            "Epoch 1/5\n",
            "135/135 [==============================] - 30s 218ms/step - loss: 0.2565 - accuracy: 0.9104 - val_loss: 0.7821 - val_accuracy: 0.7646\n",
            "Epoch 2/5\n",
            "135/135 [==============================] - 29s 217ms/step - loss: 0.2414 - accuracy: 0.9146 - val_loss: 0.7816 - val_accuracy: 0.7542\n",
            "Epoch 3/5\n",
            "135/135 [==============================] - 31s 227ms/step - loss: 0.2256 - accuracy: 0.9201 - val_loss: 0.7938 - val_accuracy: 0.7583\n",
            "Epoch 4/5\n",
            "135/135 [==============================] - 29s 217ms/step - loss: 0.2244 - accuracy: 0.9178 - val_loss: 0.7981 - val_accuracy: 0.7583\n"
          ]
        }
      ]
    },
    {
      "cell_type": "code",
      "source": [
        "# Summarize history for train and test accuracies\n",
        "plt.figure()\n",
        "plt.plot(history.history['accuracy'])\n",
        "plt.plot(history.history['val_accuracy'])\n",
        "plt.title('model accuracy')\n",
        "plt.ylabel('accuracy')\n",
        "plt.xlabel('epoch')\n",
        "plt.xticks([i for i in range(0, 5)])\n",
        "plt.legend(['train', 'test'], loc='upper right')"
      ],
      "metadata": {
        "colab": {
          "base_uri": "https://localhost:8080/",
          "height": 312
        },
        "id": "1e2n4oWKtwRh",
        "outputId": "255dc530-1b04-4471-b018-3bd0e2cd0f2c"
      },
      "execution_count": 24,
      "outputs": [
        {
          "output_type": "execute_result",
          "data": {
            "text/plain": [
              "<matplotlib.legend.Legend at 0x7f3bd54059d0>"
            ]
          },
          "metadata": {},
          "execution_count": 24
        },
        {
          "output_type": "display_data",
          "data": {
            "text/plain": [
              "<Figure size 432x288 with 1 Axes>"
            ],
            "image/png": "[encoded data removed]"
          },
          "metadata": {
            "needs_background": "light"
          }
        }
      ]
    },
    {
      "cell_type": "code",
      "source": [],
      "metadata": {
        "id": "6EvBcuhEtwTW"
      },
      "execution_count": 24,
      "outputs": []
    }
  ],
  "metadata": {
    "colab": {
      "collapsed_sections": [],
      "provenance": [],
      "toc_visible": true
    },
    "gpuClass": "standard",
    "kernelspec": {
      "display_name": "Python 3 (ipykernel)",
      "language": "python",
      "name": "python3"
    },
    "language_info": {
      "codemirror_mode": {
        "name": "ipython",
        "version": 3
      },
      "file_extension": ".py",
      "mimetype": "text/x-python",
      "name": "python",
      "nbconvert_exporter": "python",
      "pygments_lexer": "ipython3",
      "version": "3.9.7"
    },
    "accelerator": "GPU"
  },
  "nbformat": 4,
  "nbformat_minor": 0
}