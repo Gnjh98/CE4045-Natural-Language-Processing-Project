{
 "cells": [
  {
   "cell_type": "markdown",
   "metadata": {
    "id": "8o_BLrwT77s3"
   },
   "source": [
    "# Classification"
   ]
  },
  {
   "cell_type": "markdown",
   "metadata": {
    "id": "ruL7TkGZTJXs"
   },
   "source": [
    "### Import Packages"
   ]
  },
  {
   "cell_type": "code",
   "execution_count": 1,
   "metadata": {
    "colab": {
     "base_uri": "https://localhost:8080/"
    },
    "id": "ncAdzwABo0DW",
    "outputId": "4b4d4c19-855d-47a3-9fcd-36aa1c4de49e"
   },
   "outputs": [
    {
     "name": "stdout",
     "output_type": "stream",
     "text": [
      "Requirement already satisfied: bayesian-optimization in c:\\users\\xiaoy\\anaconda3\\lib\\site-packages (1.3.1)\n",
      "Requirement already satisfied: numpy>=1.9.0 in c:\\users\\xiaoy\\anaconda3\\lib\\site-packages (from bayesian-optimization) (1.22.4)\n",
      "Requirement already satisfied: scikit-learn>=0.18.0 in c:\\users\\xiaoy\\anaconda3\\lib\\site-packages (from bayesian-optimization) (0.24.2)\n",
      "Requirement already satisfied: scipy>=1.0.0 in c:\\users\\xiaoy\\anaconda3\\lib\\site-packages (from bayesian-optimization) (1.7.1)\n",
      "Requirement already satisfied: joblib>=0.11 in c:\\users\\xiaoy\\anaconda3\\lib\\site-packages (from scikit-learn>=0.18.0->bayesian-optimization) (1.1.0)\n",
      "Requirement already satisfied: threadpoolctl>=2.0.0 in c:\\users\\xiaoy\\anaconda3\\lib\\site-packages (from scikit-learn>=0.18.0->bayesian-optimization) (2.2.0)\n"
     ]
    },
    {
     "name": "stderr",
     "output_type": "stream",
     "text": [
      "[nltk_data] Downloading package punkt to\n",
      "[nltk_data]     C:\\Users\\xiaoy\\AppData\\Roaming\\nltk_data...\n",
      "[nltk_data]   Package punkt is already up-to-date!\n",
      "[nltk_data] Downloading package stopwords to\n",
      "[nltk_data]     C:\\Users\\xiaoy\\AppData\\Roaming\\nltk_data...\n",
      "[nltk_data]   Package stopwords is already up-to-date!\n",
      "[nltk_data] Downloading package wordnet to\n",
      "[nltk_data]     C:\\Users\\xiaoy\\AppData\\Roaming\\nltk_data...\n",
      "[nltk_data]   Package wordnet is already up-to-date!\n",
      "[nltk_data] Downloading package omw-1.4 to\n",
      "[nltk_data]     C:\\Users\\xiaoy\\AppData\\Roaming\\nltk_data...\n",
      "[nltk_data]   Package omw-1.4 is already up-to-date!\n"
     ]
    }
   ],
   "source": [
    "!pip install bayesian-optimization\n",
    "\n",
    "import pandas as pd\n",
    "import matplotlib.pyplot as plt\n",
    "import seaborn as sns\n",
    "import numpy as np\n",
    "import pickle\n",
    "import itertools\n",
    "import gensim\n",
    "\n",
    "import nltk\n",
    "from nltk.tokenize import word_tokenize  \n",
    "from nltk.corpus import stopwords\n",
    "from nltk.stem import WordNetLemmatizer\n",
    "from nltk.stem.snowball import SnowballStemmer\n",
    "from nltk.stem.porter import *\n",
    "\n",
    "from sklearn.model_selection import train_test_split\n",
    "from sklearn.utils import shuffle\n",
    "from sklearn.metrics import accuracy_score\n",
    "from sklearn.metrics import f1_score\n",
    "from sklearn.metrics import classification_report, confusion_matrix\n",
    "from sklearn.feature_extraction.text import CountVectorizer, TfidfVectorizer\n",
    "from sklearn.neighbors import KNeighborsClassifier\n",
    "from sklearn.tree import DecisionTreeClassifier\n",
    "from sklearn.linear_model import LogisticRegression\n",
    "from sklearn.ensemble import ExtraTreesClassifier\n",
    "from sklearn.svm import SVC  \n",
    "from sklearn.model_selection import GridSearchCV\n",
    "from sklearn.naive_bayes import MultinomialNB\n",
    "from sklearn.ensemble import RandomForestClassifier\n",
    "from sklearn.preprocessing import LabelEncoder\n",
    "\n",
    "from bayes_opt import BayesianOptimization\n",
    "from tqdm import tqdm\n",
    "tqdm.pandas(desc=\"progress-bar\") \n",
    "from gensim.models.doc2vec import TaggedDocument\n",
    "\n",
    "from xgboost import XGBClassifier\n",
    "\n",
    "p_stemmer = PorterStemmer() # initialize PorterStemmer\n",
    "\n",
    "# Set seed for RNG\n",
    "SEED = 12\n",
    "\n",
    "nltk.download('punkt')\n",
    "nltk.download('stopwords')\n",
    "nltk.download('wordnet')\n",
    "nltk.download('omw-1.4')\n",
    "\n",
    "import warnings\n",
    "warnings.filterwarnings('ignore')"
   ]
  },
  {
   "cell_type": "markdown",
   "metadata": {
    "id": "kgITriED7sSy"
   },
   "source": [
    "### Fetching from Github\n",
    "\n",
    "After further manual data-preprocessing, raw dataset is uploaded to Github and retrieved via url link."
   ]
  },
  {
   "cell_type": "code",
   "execution_count": 2,
   "metadata": {
    "id": "c69LbwnOtz6J"
   },
   "outputs": [],
   "source": [
    "# Retrieve dataset via url link\n",
    "# Github Repo: https://github.com/X-Yang98/CE4045-NLP\n",
    "overall_url = \"https://raw.githubusercontent.com/xiao-yangg/CE4045-NLP/main/combined_dataset.csv\"\n",
    "\n",
    "overall_df = pd.read_csv(overall_url, encoding='latin') # train and test dataset"
   ]
  },
  {
   "cell_type": "code",
   "execution_count": 3,
   "metadata": {
    "id": "x7P3F6-TU3U7"
   },
   "outputs": [],
   "source": [
    "# Sanity check for any duplicates\n",
    "overall_df.drop_duplicates(['tweet'], inplace=True)\n",
    "\n",
    "# Add index column for identification\n",
    "overall_df['index'] = list(overall_df.index)"
   ]
  },
  {
   "cell_type": "markdown",
   "metadata": {
    "id": "xvylDaR0YDqH"
   },
   "source": [
    "Inter-annotator agreement for evaluation dataset."
   ]
  },
  {
   "cell_type": "code",
   "execution_count": 4,
   "metadata": {
    "colab": {
     "base_uri": "https://localhost:8080/"
    },
    "id": "d90vdyhHYJIH",
    "outputId": "97d8e818-65a0-4a4e-e7f2-f0cab3cad9f8"
   },
   "outputs": [
    {
     "name": "stdout",
     "output_type": "stream",
     "text": [
      "Inter-annotator agreement is 89.29166666666667%.\n"
     ]
    }
   ],
   "source": [
    "no_disagreements = len(overall_df[((overall_df['label_1'] != overall_df['label_2']) | \n",
    "                                (overall_df['label_2'] != overall_df['label_3']) |\n",
    "                                (overall_df['label_3'] != overall_df['label_1'])\n",
    "                               )])\n",
    "\n",
    "print(\"Inter-annotator agreement is {}%.\".format((len(overall_df) - no_disagreements)/len(overall_df)*100))"
   ]
  },
  {
   "cell_type": "markdown",
   "metadata": {
    "id": "KWGcR2UESt0y"
   },
   "source": [
    "General function to display sentiment and sentence length distribution."
   ]
  },
  {
   "cell_type": "code",
   "execution_count": 5,
   "metadata": {
    "id": "mwu-kFtpU7kv"
   },
   "outputs": [],
   "source": [
    "def show_distribution(label, tweets, name):\n",
    "    plt.figure(figsize=(18,6))\n",
    "\n",
    "    # Bar graph visualisation of sentiment distribution\n",
    "    plt.subplot(1,2,1)\n",
    "    sns.countplot(x=label)\n",
    "    plt.xlabel(\"Sentiment\")\n",
    "    plt.ylabel(\"Count\")\n",
    "    plt.title(\"Sentiments Distribution in \" + name + \" Dataset\")\n",
    "\n",
    "    # Bar graph visualisation of sentence length distribution\n",
    "    plt.subplot(1,2,2)\n",
    "    sns.histplot([len(s) for s in tweets], bins=100)\n",
    "    plt.xlabel(\"Sentence Length\")\n",
    "    plt.ylabel(\"Count\")\n",
    "    plt.title(\"Sentence Length Distribution in \" + name + \" Dataset\")"
   ]
  },
  {
   "cell_type": "code",
   "execution_count": 6,
   "metadata": {
    "colab": {
     "base_uri": "https://localhost:8080/",
     "height": 404
    },
    "id": "UFunldUfS6OD",
    "outputId": "c36bddb3-d948-4578-9e9d-a7c2db80145e"
   },
   "outputs": [
    {
     "data": {
      "image/png": "[encoded data removed]",
      "text/plain": [
       "<Figure size 1296x432 with 2 Axes>"
      ]
     },
     "metadata": {
      "needs_background": "light"
     },
     "output_type": "display_data"
    }
   ],
   "source": [
    "show_distribution(overall_df['final_label'], overall_df['tweet'], \"Overall\")"
   ]
  },
  {
   "cell_type": "markdown",
   "metadata": {
    "id": "8gwaPUeOOGsS"
   },
   "source": [
    "### Text Normalization\n"
   ]
  },
  {
   "cell_type": "code",
   "execution_count": 7,
   "metadata": {
    "id": "el2VL6_-Ppfm"
   },
   "outputs": [],
   "source": [
    "# Tokenization\n",
    "def tokenize(text):\n",
    "    return word_tokenize(text)\n",
    "\n",
    "# Removal of Stopwords\n",
    "def remove_stopword(text):\n",
    "    nltk_tokenList = tokenize(text) # tokenize\n",
    "\n",
    "    filtered_sentence = [] # sentence without stopwords\n",
    "    nltk_stop_words = set(stopwords.words(\"english\"))\n",
    "    for w in nltk_tokenList:  \n",
    "        if w not in nltk_stop_words:  \n",
    "            filtered_sentence.append(w)\n",
    "    \n",
    "    return ' '.join(filtered_sentence)\n",
    "\n",
    "# Stemming\n",
    "def stemming(token_list):\n",
    "    stemmed_list = []\n",
    "    for word in token_list:\n",
    "        stemmed_list.append(p_stemmer.stem(word))\n",
    "\n",
    "    return stemmed_list\n",
    "\n",
    "# Lemmatization\n",
    "def lemmatization(stemmed_list):\n",
    "    wordnet_lemmatizer = WordNetLemmatizer()\n",
    "    lemma_list = []\n",
    "    for word in stemmed_list:\n",
    "        lemma_list.append(wordnet_lemmatizer.lemmatize(word))\n",
    "\n",
    "    return lemma_list\n",
    "\n",
    "# Combination of stemming and lemmatization\n",
    "def nltk_process(text):\n",
    "    nltk_tokenList = tokenize(text) # tokenize\n",
    "    nltk_stemmedList = stemming(nltk_tokenList) # stemmed\n",
    "    nltk_lemmaList = lemmatization(nltk_stemmedList) # lemma\n",
    "\n",
    "    return ' '.join(nltk_tokenList)"
   ]
  },
  {
   "cell_type": "markdown",
   "metadata": {
    "id": "bNyMYg6W-Ev8"
   },
   "source": [
    "Apply normalization to dataset."
   ]
  },
  {
   "cell_type": "code",
   "execution_count": 8,
   "metadata": {
    "id": "RXcgykfMPpiZ"
   },
   "outputs": [],
   "source": [
    "def normalize_df(df):    \n",
    "    df['no_stopword_tweet'] = df['tweet'].apply(remove_stopword) # obtain tweet without stopwords\n",
    "    df['normalize_tweet'] = df['no_stopword_tweet'].apply(nltk_process) # tweet with no stopwords go through stemming and lemma\n",
    "\n",
    "    # New dataframe of text normalized tweets\n",
    "    columns_titles = ['normalize_tweet','final_label', 'index']\n",
    "    return df.reindex(columns=columns_titles)"
   ]
  },
  {
   "cell_type": "code",
   "execution_count": 9,
   "metadata": {
    "id": "yS2Kr3cUV4Ls"
   },
   "outputs": [],
   "source": [
    "norm_df = normalize_df(overall_df)"
   ]
  },
  {
   "cell_type": "markdown",
   "metadata": {
    "id": "r_FXdG5GPz5h"
   },
   "source": [
    "### Split into train and test datasets"
   ]
  },
  {
   "cell_type": "code",
   "execution_count": 10,
   "metadata": {
    "id": "HZLcsv5JWRX7"
   },
   "outputs": [],
   "source": [
    "X_train, X_test, y_train, y_test = train_test_split(norm_df['normalize_tweet'], # tweet\n",
    "                                                    norm_df[['final_label', 'index']], # label, index\n",
    "                                                    test_size=0.25, # test size 25% \n",
    "                                                    random_state = SEED,\n",
    "                                                    shuffle=True,\n",
    "                                                    stratify=norm_df['final_label']) # ensure even proportion of Positive, Negative, Neutral in test data"
   ]
  },
  {
   "cell_type": "code",
   "execution_count": 11,
   "metadata": {
    "colab": {
     "base_uri": "https://localhost:8080/",
     "height": 404
    },
    "id": "PWzvBiMgVhYs",
    "outputId": "5020527e-c61c-4830-9c27-b51dca07f957"
   },
   "outputs": [
    {
     "data": {
      "image/png": "[encoded data removed]",
      "text/plain": [
       "<Figure size 1296x432 with 2 Axes>"
      ]
     },
     "metadata": {
      "needs_background": "light"
     },
     "output_type": "display_data"
    }
   ],
   "source": [
    "show_distribution(y_train['final_label'], X_train, \"Train\")"
   ]
  },
  {
   "cell_type": "code",
   "execution_count": 12,
   "metadata": {
    "colab": {
     "base_uri": "https://localhost:8080/",
     "height": 404
    },
    "id": "yIwbgaNpVhjN",
    "outputId": "ca0b80de-33a5-4121-cb86-b46415df43f2"
   },
   "outputs": [
    {
     "data": {
      "image/png": "[encoded data removed]",
      "text/plain": [
       "<Figure size 1296x432 with 2 Axes>"
      ]
     },
     "metadata": {
      "needs_background": "light"
     },
     "output_type": "display_data"
    }
   ],
   "source": [
    "show_distribution(y_test['final_label'], X_test, \"Test\")"
   ]
  },
  {
   "cell_type": "markdown",
   "metadata": {
    "id": "-8zT386BH6WA"
   },
   "source": [
    "### Model Helpers"
   ]
  },
  {
   "cell_type": "code",
   "execution_count": 13,
   "metadata": {
    "id": "3rf2O6XBHNa1"
   },
   "outputs": [],
   "source": [
    "# Remove index\n",
    "y_train = y_train['final_label']\n",
    "y_test = y_test['final_label']"
   ]
  },
  {
   "cell_type": "markdown",
   "metadata": {
    "id": "_0CHCId6rz_f"
   },
   "source": [
    "#### Vectorizers"
   ]
  },
  {
   "cell_type": "markdown",
   "metadata": {
    "id": "T5I5tReGvVEW"
   },
   "source": [
    "TF-IDF Vectorizer"
   ]
  },
  {
   "cell_type": "code",
   "execution_count": 14,
   "metadata": {
    "colab": {
     "base_uri": "https://localhost:8080/"
    },
    "id": "4XGOUGB-o82p",
    "outputId": "29771e0b-0e8c-42b5-bc48-66372fd7035c"
   },
   "outputs": [],
   "source": [
    "tfidf_vec = TfidfVectorizer(max_features=2000, min_df=5, max_df=0.7)  \n",
    "\n",
    "# Using training data to transform text into counts of features for each tweet\n",
    "tfidf_vec.fit(X_train)\n",
    "\n",
    "# uncomment this if planning to run streamlit as this vectorizer will be loaded in the UI\n",
    "pickle.dump(tfidf_vec, open(\"vectorizer.pkl\", \"wb\"))"
   ]
  },
  {
   "cell_type": "markdown",
   "metadata": {
    "id": "VXuUMq9wBuph"
   },
   "source": [
    "#### Plots"
   ]
  },
  {
   "cell_type": "markdown",
   "metadata": {
    "id": "s4_s1qaOIUb9"
   },
   "source": [
    "General function for showing evaluation metrics."
   ]
  },
  {
   "cell_type": "code",
   "execution_count": 15,
   "metadata": {
    "id": "YYp9_aPsISfE"
   },
   "outputs": [],
   "source": [
    "def show_metrics(y_test, y_pred):\n",
    "\n",
    "    # Adding classes names for interpretation\n",
    "    classes_names = ['NEGATIVE', 'NEUTRAL', 'POSITIVE']\n",
    "    cm = pd.DataFrame(confusion_matrix(y_test, y_pred), \n",
    "                      columns=classes_names, index=classes_names)\n",
    "                      \n",
    "    # Visualize confusion matrix\n",
    "    sns.heatmap(cm, annot=True, fmt='d');\n",
    "\n",
    "    # Print classification report\n",
    "    print(classification_report(y_test, y_pred))"
   ]
  },
  {
   "cell_type": "code",
   "execution_count": null,
   "metadata": {},
   "outputs": [],
   "source": []
  },
  {
   "cell_type": "markdown",
   "metadata": {
    "id": "IENUGPPfnyRM"
   },
   "source": [
    "# Innovations"
   ]
  },
  {
   "cell_type": "markdown",
   "metadata": {
    "id": "K9GTzVVydgTW"
   },
   "source": [
    "### Ensemble Classification\n",
    "\n",
    "\n"
   ]
  },
  {
   "cell_type": "markdown",
   "metadata": {
    "id": "XTO5S8ZuqTpV"
   },
   "source": [
    "#### Import Packages"
   ]
  },
  {
   "cell_type": "code",
   "execution_count": 17,
   "metadata": {
    "id": "dUJYcUiBqXCZ"
   },
   "outputs": [],
   "source": [
    "from sklearn.ensemble import StackingClassifier"
   ]
  },
  {
   "cell_type": "markdown",
   "metadata": {
    "id": "Ua980HEpqZZH"
   },
   "source": [
    "#### Stacked Classifier"
   ]
  },
  {
   "cell_type": "code",
   "execution_count": 27,
   "metadata": {},
   "outputs": [],
   "source": [
    "X_train_dtm = tfidf_vec.transform(X_train)\n",
    "X_test_dtm = tfidf_vec.transform(X_test)\n",
    "\n",
    "le = LabelEncoder()\n",
    "y_train_encoded = le.fit_transform(y_train)\n",
    "y_test_encoded = le.fit_transform(y_test)"
   ]
  },
  {
   "cell_type": "code",
   "execution_count": 28,
   "metadata": {},
   "outputs": [],
   "source": [
    "optimal_xgb_depth = 12\n",
    "optimal_et_depth = 77"
   ]
  },
  {
   "cell_type": "code",
   "execution_count": 29,
   "metadata": {
    "id": "DLob-AnrX13m"
   },
   "outputs": [],
   "source": [
    "stacked_estimators = [\n",
    "                      ('xgb', XGBClassifier(max_depth = optimal_xgb_depth, n_estimators = 250, random_state = SEED)),\n",
    "                      ('et', ExtraTreesClassifier(max_depth = optimal_et_depth, n_estimators = 250, random_state = SEED)),\n",
    "                      ('svm', SVC(C = 1, gamma = 1, kernel = 'rbf')),\n",
    "                      ('nb', MultinomialNB(alpha = 1))\n",
    "                     ]"
   ]
  },
  {
   "cell_type": "code",
   "execution_count": 30,
   "metadata": {
    "id": "JKMv-kCrX16Y"
   },
   "outputs": [],
   "source": [
    "final_est = LogisticRegression(solver = 'saga', multi_class = 'multinomial', random_state = SEED)\n",
    "stacked_clf = StackingClassifier(estimators = stacked_estimators,\n",
    "                                final_estimator = final_est,\n",
    "                                n_jobs = 1)"
   ]
  },
  {
   "cell_type": "code",
   "execution_count": 31,
   "metadata": {
    "colab": {
     "base_uri": "https://localhost:8080/"
    },
    "id": "NpxhQETve7ym",
    "outputId": "f5385b9f-e9c0-491c-82cd-032150152de2"
   },
   "outputs": [
    {
     "name": "stdout",
     "output_type": "stream",
     "text": [
      "Accuracy Score: 69.83333333333334%\n",
      "F1 Score: 69.77155239486137%\n"
     ]
    }
   ],
   "source": [
    "stacked_clf.fit(X_train_dtm, y_train_encoded)\n",
    "y_pred_encoded = stacked_clf.predict(X_test_dtm)\n",
    "y_pred = le.inverse_transform(y_pred_encoded)\n",
    "\n",
    "acc = accuracy_score(y_test, y_pred) * 100\n",
    "f1 = f1_score(y_test, y_pred, average='weighted') * 100\n",
    "\n",
    "print('Accuracy Score: ', acc, '%', sep='')\n",
    "print('F1 Score: ', f1, '%', sep='')\n",
    "\n",
    "# uncomment this if planning to run streamlit as this model will be loaded in the UI as a sample\n",
    "pickle.dump(stacked_clf, open(\"stacked_classifier.pkl\", \"wb\"))"
   ]
  },
  {
   "cell_type": "code",
   "execution_count": 32,
   "metadata": {
    "colab": {
     "base_uri": "https://localhost:8080/",
     "height": 439
    },
    "id": "dRf7ystQfCOs",
    "outputId": "3bf001eb-c932-4ae0-ba2b-73db3f0ec58e"
   },
   "outputs": [
    {
     "name": "stdout",
     "output_type": "stream",
     "text": [
      "              precision    recall  f1-score   support\n",
      "\n",
      "    NEGATIVE       0.68      0.73      0.70       386\n",
      "     NEUTRAL       0.71      0.73      0.72       424\n",
      "    POSITIVE       0.71      0.64      0.67       390\n",
      "\n",
      "    accuracy                           0.70      1200\n",
      "   macro avg       0.70      0.70      0.70      1200\n",
      "weighted avg       0.70      0.70      0.70      1200\n",
      "\n"
     ]
    },
    {
     "data": {
      "image/png": "[encoded data removed]",
      "text/plain": [
       "<Figure size 432x288 with 2 Axes>"
      ]
     },
     "metadata": {
      "needs_background": "light"
     },
     "output_type": "display_data"
    }
   ],
   "source": [
    "show_metrics(y_test, y_pred)"
   ]
  },
  {
   "cell_type": "code",
   "execution_count": null,
   "metadata": {},
   "outputs": [],
   "source": []
  },
  {
   "cell_type": "markdown",
   "metadata": {
    "id": "FUppQRP6lD00"
   },
   "source": [
    "# Streamlit UI\n",
    "\n"
   ]
  },
  {
   "cell_type": "markdown",
   "metadata": {
    "id": "EkLGe-yAirj4"
   },
   "source": [
    "### Import Packages"
   ]
  },
  {
   "cell_type": "code",
   "execution_count": 33,
   "metadata": {
    "colab": {
     "base_uri": "https://localhost:8080/"
    },
    "id": "REAjdvuClCsB",
    "outputId": "26be0f49-5770-4ff6-aef0-c099d72b3bb9"
   },
   "outputs": [
    {
     "name": "stdout",
     "output_type": "stream",
     "text": [
      "Collecting pyngrok\n",
      "  Downloading pyngrok-5.1.0.tar.gz (745 kB)\n",
      "Requirement already satisfied: PyYAML in c:\\users\\xiaoy\\anaconda3\\lib\\site-packages (from pyngrok) (6.0)\n",
      "Building wheels for collected packages: pyngrok\n",
      "  Building wheel for pyngrok (setup.py): started\n",
      "  Building wheel for pyngrok (setup.py): finished with status 'done'\n",
      "  Created wheel for pyngrok: filename=pyngrok-5.1.0-py3-none-any.whl size=19006 sha256=0408a97f93d627ab61d9544dc98f1f9d3668f42d1ecf881cdb95f98bc1c80b00\n",
      "  Stored in directory: c:\\users\\xiaoy\\appdata\\local\\pip\\cache\\wheels\\a8\\05\\30\\c9d9f2417546c7a7c329f5bba09e2cfba9991c030ad8bfb043\n",
      "Successfully built pyngrok\n",
      "Installing collected packages: pyngrok\n",
      "Successfully installed pyngrok-5.1.0\n",
      "                                                                                                    \r"
     ]
    }
   ],
   "source": [
    "!pip install -q streamlit\n",
    "!pip install pyngrok\n",
    "\n",
    "from pyngrok import ngrok\n",
    "\n",
    "# Authenticate\n",
    "ngrok.set_auth_token(\"2FqU82IZ9ZI6E5dgzkFV3T8ln1o_71PCqcz1mN4uKfS7QbZco\")"
   ]
  },
  {
   "cell_type": "markdown",
   "metadata": {
    "id": "eAmaSgCjhgXA"
   },
   "source": [
    "### Application"
   ]
  },
  {
   "cell_type": "code",
   "execution_count": 34,
   "metadata": {
    "colab": {
     "base_uri": "https://localhost:8080/"
    },
    "id": "zAA5Lh9W75yt",
    "outputId": "ca3ca9df-390a-4a47-e648-75aa1d6bff83"
   },
   "outputs": [
    {
     "name": "stdout",
     "output_type": "stream",
     "text": [
      "Writing streamlit_app.py\n"
     ]
    }
   ],
   "source": [
    "%%writefile streamlit_app.py \n",
    "import streamlit as st\n",
    "import pandas as pd\n",
    "import matplotlib.pyplot as plt\n",
    "import pickle\n",
    "import re\n",
    "from sklearn.metrics import accuracy_score\n",
    "from nltk.tokenize import word_tokenize\n",
    "from nltk.corpus import stopwords\n",
    "from wordcloud import WordCloud  \n",
    "\n",
    "def add_bg_from_url():\n",
    "    st.markdown(\n",
    "         f\"\"\"\n",
    "         <style>\n",
    "         .stApp {{\n",
    "             background-image: url(\"https://media.idownloadblog.com/wp-content/uploads/2022/08/Apple-Far-Out-Event-Wallpaper-for-6K-desktop.png\");\n",
    "             background-size: cover;\n",
    "         }}\n",
    "         </style>\n",
    "         \"\"\",\n",
    "         unsafe_allow_html=True\n",
    "     )\n",
    "\n",
    "add_bg_from_url() \n",
    "\n",
    "#############\n",
    "# [BACKEND] #\n",
    "#############\n",
    "# Data Pre-processing (extracted)\n",
    "def removePunctuations(tweet):\n",
    "    return re.sub(r'[^\\w\\s]', '', tweet)\n",
    "def removeNumbers(tweet):\n",
    "    return re.sub(r'[0-9]', '', tweet)\n",
    "def dataPreprocessing(tweet):\n",
    "    tweet = removePunctuations(tweet)\n",
    "    tweet = removeNumbers(tweet)\n",
    "    return tweet.lower().strip()\n",
    "def tokenize(text):\n",
    "    return word_tokenize(text)\n",
    "def remove_stopword(text):\n",
    "    nltk_tokenList = tokenize(text)\n",
    "    filtered_sentence = []\n",
    "    nltk_stop_words = set(stopwords.words(\"english\"))\n",
    "    for w in nltk_tokenList:  \n",
    "        if w not in nltk_stop_words:  \n",
    "            filtered_sentence.append(w)\n",
    "    if len(filtered_sentence) <= 13:\n",
    "        return text\n",
    "    return ' '.join(filtered_sentence)\n",
    "\n",
    "\n",
    "# Fixed list of categories about Apple event\n",
    "list_category = [\"appleevent\",\"iphone\",\"watch\"]\n",
    "\n",
    "# Find category of tweet\n",
    "def find_category_keyword(list_text, keyword):\n",
    "    for i in list_text:\n",
    "        if keyword in i:\n",
    "            return True     \n",
    "    return False\n",
    "\n",
    "# Remove categorical keyword from tweet\n",
    "def remove_category_keyword(list_text):\n",
    "    i = 0\n",
    "    while i < len(list_text):\n",
    "        for j in list_category:\n",
    "            if j in list_text[i]:\n",
    "                list_text.pop(i)\n",
    "                if len(list_text) == 0:\n",
    "                    break\n",
    "                i -= 1\n",
    "        i += 1   \n",
    "    return ' '.join(list_text) # join back tweet\n",
    "\n",
    "# Retrieve sentiment data\n",
    "overall_url = \"https://raw.githubusercontent.com/xiao-yangg/CE4045-NLP/main/combined_dataset.csv\"\n",
    "df = pd.read_csv(overall_url, encoding='latin')\n",
    "df['no_stopword_tweet'] = df['tweet'].apply(remove_stopword)\n",
    "df['tokenize'] = df['no_stopword_tweet'].apply(tokenize)\n",
    "for category in list_category:\n",
    "    df[category] = df['tokenize'].apply(find_category_keyword, args=(category,))\n",
    "df['no_category_tweet'] = df['tokenize'].apply(remove_category_keyword)\n",
    "\n",
    "# WordCloud generator function\n",
    "def generate_wordcloud(df):\n",
    "    string = pd.Series(df).str.cat(sep=' ')\n",
    "\n",
    "    wordcloud = WordCloud(width=1600, height=800, \n",
    "                      max_font_size=200, max_words=50, collocations=False, \n",
    "                      background_color='black').generate(string)\n",
    "\n",
    "    fig = plt.figure(figsize=(40,30))\n",
    "    plt.imshow(wordcloud, interpolation=\"bilinear\")\n",
    "    plt.axis(\"off\")\n",
    "    return fig\n",
    "  \n",
    "\n",
    "#############\n",
    "#[FRONTEND] #\n",
    "#############\n",
    "st.title(\"Twitter Sentiment Analysis on #AppleEvent2022\")\n",
    "\n",
    "# Loading model and vectorizer into streamlit\n",
    "load_model_state = st.text(\"Loading trained classifier...\")\n",
    "vectorizer = pickle.load(open(\"/content/vectorizer.pkl\", \"rb\"))\n",
    "model = pickle.load(open(\"/content/stacked_classifier.pkl\", \"rb\"))\n",
    "load_model_state.text(\"Trained classifier loaded!\")\n",
    "\n",
    "# Upload training csv/txt file\n",
    "st.subheader(\"Upload test file to classify\")\n",
    "with st.form(\"placeholder\", clear_on_submit = True):\n",
    "    uploaded_file = st.file_uploader(\"Choose test file\")\n",
    "    uploaded_button = st.form_submit_button(\"Upload and classify\")\n",
    "    if uploaded_button and uploaded_file is not None:\n",
    "        data = uploaded_file.getvalue().decode('utf-8').splitlines()\n",
    "        headers = data[0].split(sep = \",\")\n",
    "        data_dict = {header : [] for header in headers}\n",
    "        for i in range(1, len(data)):\n",
    "            split_data = data[i].split(sep = \",\")\n",
    "            for e in range(len(headers)):\n",
    "                data_dict[headers[e]].append(split_data[e])\n",
    "        test_df = pd.DataFrame.from_dict(data_dict)\n",
    "\n",
    "        test_df = test_df.drop_duplicates()\n",
    "        test_df = test_df.dropna()\n",
    "        st.text(\"Unclassified test dataframe:\")\n",
    "        st.write(test_df)\n",
    "\n",
    "        classify_state = st.text(\"Classifying test data...\")\n",
    "        x_test = vectorizer.transform(test_df[headers[0]])\n",
    "        y_pred = model.predict(x_test)\n",
    "        classified_df = test_df.copy()\n",
    "        classified_df[\"predicted_labels\"] = y_pred\n",
    "        classify_state.text(\"Displaying classified test data\")\n",
    "        st.text(\"Classified test dataframe:\")\n",
    "        st.write(classified_df)\n",
    "\n",
    "    elif uploaded_button:\n",
    "        st.write(\"Please upload a valid csv file with columns (tweets, label)\")\n",
    "\n",
    "# Taking in a query sentence as input\n",
    "raw_sentence = st.text_input(label=\"Ask me about #AppleEvent2022!\", placeholder=\"And I will give you a surprise!\")\n",
    "raw_category = st.selectbox('Which hashtag?', ('No Hashtag', '#AppleEvent2022', '#iPhone14'))\n",
    "state = st.button(\"Find out\")\n",
    "st.write(\"*our dataset consist of tweets scraped on 26 September 2022\")\n",
    "\n",
    "# Analyse Sentiment of input by user\n",
    "if state:\n",
    "    if not raw_category: # check if 1 of hashtags is selected\n",
    "        st.write(\"Select a hashtag!\")\n",
    "    else:\n",
    "        # Process input\n",
    "        sentence = dataPreprocessing(raw_sentence)\n",
    "\n",
    "        # Model prediction on sentence sentiment\n",
    "        y_pred = model.predict(vectorizer.transform([sentence])) \n",
    "        sentiment = y_pred[0]\n",
    "        sentiment = 'POSITIVE' if sentiment == 2 else 'NEGATIVE' if sentiment == 0 else 'NEUTRAL'\n",
    "\n",
    "        # Find category\n",
    "        category = ''\n",
    "        if raw_category != 'No Hashtag':\n",
    "            category = removeNumbers(raw_category[1:].lower()) # lowercase + remove numbers\n",
    "\n",
    "        # Filter dataset for similar sentiments base on category\n",
    "        sentiment_df = df.loc[df['final_label'] == sentiment]\n",
    "\n",
    "        if raw_category != 'No Hashtag':\n",
    "            user_df = sentiment_df.loc[sentiment_df[category]]\n",
    "            word_cloud = generate_wordcloud(user_df['no_category_tweet'])\n",
    "        else:\n",
    "            word_cloud = generate_wordcloud(sentiment_df['no_category_tweet'])\n",
    "\n",
    "        word_cloud_state = st.text(\"Generating word cloud on similar sentiments...\")\n",
    "        st.pyplot(word_cloud)\n",
    "        word_cloud_state.text(\"Your sentiment is {}.\".format(sentiment))\n",
    "        st.write(\"{}% of people on Twitter in our dataset* thinks like you.\".format(round(len(sentiment_df)/len(df)*100), 2))"
   ]
  },
  {
   "cell_type": "markdown",
   "metadata": {
    "id": "FHChN4MKmebg"
   },
   "source": [
    "**Google Colab**\n",
    "\n",
    "Run to start Streamlit UI. (Click left link)"
   ]
  },
  {
   "cell_type": "code",
   "execution_count": null,
   "metadata": {},
   "outputs": [],
   "source": [
    "!nohup streamlit run streamlit_app.py --server.port 80 &\n",
    "public_url = ngrok.connect(port='80')\n",
    "public_url"
   ]
  },
  {
   "cell_type": "markdown",
   "metadata": {
    "id": "1w08FXfQmfyx"
   },
   "source": [
    "Kill process id of Streamlit UI if error is thrown due to multiple running applications."
   ]
  },
  {
   "cell_type": "code",
   "execution_count": null,
   "metadata": {
    "id": "2HPWhHlkv5J0"
   },
   "outputs": [],
   "source": [
    "ngrok.kill()"
   ]
  },
  {
   "cell_type": "markdown",
   "metadata": {},
   "source": [
    "**Local Machine**\n",
    "\n",
    "1. Go to command prompt\n",
    "2. Locate 'streamlit_app.py' in same directory\n",
    "3. Type 'streamlit run streamlit_app.py'"
   ]
  },
  {
   "cell_type": "code",
   "execution_count": null,
   "metadata": {
    "id": "Jh5d-1EokIn5"
   },
   "outputs": [],
   "source": []
  }
 ],
 "metadata": {
  "colab": {
   "collapsed_sections": [],
   "provenance": [],
   "toc_visible": true
  },
  "gpuClass": "standard",
  "kernelspec": {
   "display_name": "Python 3 (ipykernel)",
   "language": "python",
   "name": "python3"
  },
  "language_info": {
   "codemirror_mode": {
    "name": "ipython",
    "version": 3
   },
   "file_extension": ".py",
   "mimetype": "text/x-python",
   "name": "python",
   "nbconvert_exporter": "python",
   "pygments_lexer": "ipython3",
   "version": "3.9.7"
  }
 },
 "nbformat": 4,
 "nbformat_minor": 1
}
